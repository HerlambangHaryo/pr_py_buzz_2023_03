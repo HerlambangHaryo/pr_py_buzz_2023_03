{
 "cells": [
  {
   "cell_type": "code",
   "execution_count": 1,
   "id": "733e2a79",
   "metadata": {},
   "outputs": [
    {
     "name": "stdout",
     "output_type": "stream",
     "text": [
      "# -------------------------------------------------- Start at 2023-03-17 23:03:09\n",
      "  __main()\n",
      "  ____get_date()\n",
      "  ______> day0 : 2023-03-17\n",
      "  ______> day1 : 2023-03-18 23:03:09.177726\n",
      "  ______Enter your leagueapi id : 39\n",
      "  ________lg_check_date_diff_col_for_reset_patternlist()\n",
      "  __________Total Row(s) : 1\n",
      "  ____________date_diff : None\n",
      "# -------------------------------------------------- End at 2023-03-17 23:03:10\n"
     ]
    }
   ],
   "source": [
    "# Import\n",
    "from a_settings.messages import *  \n",
    "from a_models.football_fixtures import *  \n",
    "from a_models.leagues import *  \n",
    "\n",
    "def get_date(space):  \n",
    "    # -------------------------------------------------- \n",
    "    space += \"__\"\n",
    "    print(space + \"get_date()\")\n",
    "    # --------------------------------------------------   \n",
    "    today = datetime.datetime.now() \n",
    "    # -------------------------------------------------- \n",
    "    DD = datetime.timedelta(days=0)\n",
    "    preday0 = today - DD\n",
    "    day0 = preday0.strftime(\"%Y-%m-%d\")  \n",
    "    # -------------------------------------------------- \n",
    "    DD = datetime.timedelta(days=1)\n",
    "    preday1 = today + DD\n",
    "    day1 = preday1.strftime(\"%Y-%m-%d\")  \n",
    "    # -------------------------------------------------- \n",
    "    space += \"__\"\n",
    "    print(space + \"> day0 : \" +  str(day0) ) \n",
    "    print(space + \"> day1 : \" +  str(preday1) ) \n",
    "    # -------------------------------------------------- \n",
    "    leagueapi_id = input(space + \"Enter your leagueapi id : \")\n",
    "    lg_check_date_diff_col_for_reset_patternlist(leagueapi_id, day0, space)\n",
    "    # --------------------------------------------------\n",
    "    \n",
    "if __name__ == '__main__': \n",
    "    # --------------------------------------------------  \n",
    "    its_start()\n",
    "    # --------------------------------------------------  \n",
    "    space = \"  __\"\n",
    "    print(space + \"main()\") \n",
    "    # --------------------------------------------------    \n",
    "    get_date(space)\n",
    "    # -------------------------------------------------- \n",
    "    its_end()  \n",
    "    ####################################################"
   ]
  }
 ],
 "metadata": {
  "kernelspec": {
   "display_name": "Python 3 (ipykernel)",
   "language": "python",
   "name": "python3"
  },
  "language_info": {
   "codemirror_mode": {
    "name": "ipython",
    "version": 3
   },
   "file_extension": ".py",
   "mimetype": "text/x-python",
   "name": "python",
   "nbconvert_exporter": "python",
   "pygments_lexer": "ipython3",
   "version": "3.9.12"
  }
 },
 "nbformat": 4,
 "nbformat_minor": 5
}
