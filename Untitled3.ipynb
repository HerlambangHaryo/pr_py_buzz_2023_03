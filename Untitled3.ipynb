{
 "cells": [
  {
   "cell_type": "code",
   "execution_count": 14,
   "id": "7fc5cd15",
   "metadata": {},
   "outputs": [
    {
     "name": "stdout",
     "output_type": "stream",
     "text": [
      "start_time time: 1691373945.241516 seconds\n",
      "end_time time: 1691373948.594702 seconds\n",
      "Elapsed time: 3.353186 seconds\n"
     ]
    }
   ],
   "source": [
    "import time\n",
    "\n",
    "# Record the starting time\n",
    "start_time = time.time()\n",
    "print(f\"start_time time: {start_time:.6f} seconds\")\n",
    "\n",
    "# Your code or function to be measured\n",
    "# For example:\n",
    "for _ in range(100000000):\n",
    "    pass\n",
    "\n",
    "# Record the ending time\n",
    "end_time = time.time()\n",
    "print(f\"end_time time: {end_time:.6f} seconds\")\n",
    "\n",
    "# Calculate the elapsed time\n",
    "elapsed_time = end_time - start_time\n",
    "print(f\"Elapsed time: {elapsed_time:.6f} seconds\")\n"
   ]
  }
 ],
 "metadata": {
  "kernelspec": {
   "display_name": "Python 3 (ipykernel)",
   "language": "python",
   "name": "python3"
  },
  "language_info": {
   "codemirror_mode": {
    "name": "ipython",
    "version": 3
   },
   "file_extension": ".py",
   "mimetype": "text/x-python",
   "name": "python",
   "nbconvert_exporter": "python",
   "pygments_lexer": "ipython3",
   "version": "3.9.12"
  }
 },
 "nbformat": 4,
 "nbformat_minor": 5
}
