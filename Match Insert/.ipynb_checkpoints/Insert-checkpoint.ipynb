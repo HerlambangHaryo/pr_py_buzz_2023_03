{
 "cells": [
  {
   "cell_type": "code",
   "execution_count": 1,
   "id": "ac5a7d41",
   "metadata": {},
   "outputs": [
    {
     "name": "stdout",
     "output_type": "stream",
     "text": [
      "# -------------------------------------------------- Start at 2023-05-22 20:51:49\n",
      "  __main()\n"
     ]
    },
    {
     "ename": "NameError",
     "evalue": "name 'leagueapi_id' is not defined",
     "output_type": "error",
     "traceback": [
      "\u001b[1;31m-------------------------------------------------------------------------\u001b[0m",
      "\u001b[1;31mNameError\u001b[0m                               Traceback (most recent call last)",
      "Input \u001b[1;32mIn [1]\u001b[0m, in \u001b[0;36m<cell line: 8>\u001b[1;34m()\u001b[0m\n\u001b[0;32m     13\u001b[0m \u001b[38;5;28mprint\u001b[39m(space \u001b[38;5;241m+\u001b[39m \u001b[38;5;124m\"\u001b[39m\u001b[38;5;124mmain()\u001b[39m\u001b[38;5;124m\"\u001b[39m) \n\u001b[0;32m     14\u001b[0m \u001b[38;5;66;03m# --------------------------------------------------   \u001b[39;00m\n\u001b[0;32m     15\u001b[0m DICT \u001b[38;5;241m=\u001b[39m {\n\u001b[1;32m---> 16\u001b[0m     \u001b[38;5;124m'\u001b[39m\u001b[38;5;124mleagueapi_id\u001b[39m\u001b[38;5;124m'\u001b[39m :\u001b[43mleagueapi_id\u001b[49m,\n\u001b[0;32m     17\u001b[0m     \u001b[38;5;124m'\u001b[39m\u001b[38;5;124mseason\u001b[39m\u001b[38;5;124m'\u001b[39m :season, \n\u001b[0;32m     18\u001b[0m }\n\u001b[0;32m     19\u001b[0m \u001b[38;5;66;03m# --------------------------------------------------- \u001b[39;00m\n\u001b[0;32m     20\u001b[0m ROUTES \u001b[38;5;241m=\u001b[39m \u001b[38;5;124m'\u001b[39m\u001b[38;5;124mall_match\u001b[39m\u001b[38;5;124m'\u001b[39m\n",
      "\u001b[1;31mNameError\u001b[0m: name 'leagueapi_id' is not defined"
     ]
    }
   ],
   "source": [
    "# Import\n",
    "import sys\n",
    "sys.path.append('../')\n",
    "\n",
    "from a_settings.messages import *   \n",
    "from a_models.api_fixtures import *   \n",
    " \n",
    "if __name__ == '__main__': \n",
    "    # --------------------------------------------------  \n",
    "    its_start()\n",
    "    # --------------------------------------------------  \n",
    "    space = \"  __\"\n",
    "    print(space + \"main()\") \n",
    "    # --------------------------------------------------   \n",
    "    space += \"__\"\n",
    "    leagueapi_id   = input(space + \"Enter your leagueapi id :  \")\n",
    "    season         = input(space + \"Enter your season :  \")  \n",
    "    # --------------------------------------------------   \n",
    "    DICT = {\n",
    "        'leagueapi_id' :leagueapi_id,\n",
    "        'season' :season, \n",
    "    }\n",
    "    # --------------------------------------------------- \n",
    "    ROUTES = 'all_match'\n",
    "    af_controll_match_update(DICT, ROUTES, space) \n",
    "    # -------------------------------------------------- \n",
    "    its_end()  \n",
    "    ####################################################"
   ]
  }
 ],
 "metadata": {
  "kernelspec": {
   "display_name": "Python 3 (ipykernel)",
   "language": "python",
   "name": "python3"
  },
  "language_info": {
   "codemirror_mode": {
    "name": "ipython",
    "version": 3
   },
   "file_extension": ".py",
   "mimetype": "text/x-python",
   "name": "python",
   "nbconvert_exporter": "python",
   "pygments_lexer": "ipython3",
   "version": "3.9.12"
  }
 },
 "nbformat": 4,
 "nbformat_minor": 5
}
