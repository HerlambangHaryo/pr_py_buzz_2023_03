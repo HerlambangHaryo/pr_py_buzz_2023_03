{
 "cells": [
  {
   "cell_type": "code",
   "execution_count": 2,
   "id": "c4832c8b",
   "metadata": {},
   "outputs": [
    {
     "name": "stdout",
     "output_type": "stream",
     "text": [
      "# -------------------------------------------------- Start at 2023-03-23 20:22:29\n",
      "  __main()\n",
      "  ____Enter your team id : dgsg\n",
      "  ____Enter your leagueapi id : gsd\n",
      "  ____Enter your season : sd\n",
      "  ______ff_get_fixture_that_not_update_stats_with_team()\n",
      "  ______( SELECT   leagueapi_id  , season  , teams_home  , teams_away  , date FROM football_fixtures WHERE leagueapi_id = 'gsd'  and season = 'sd'  and teams_home_id = 'dgsg'  and fixture_status in ('Match Finished', 'Match Finished Ended')  and shots_on_goal_home is null  and shots_on_goal_away is null ) union ( SELECT   leagueapi_id  , season  , teams_home  , teams_away  , date FROM football_fixtures WHERE leagueapi_id = 'gsd'  and season = 'sd'  and teams_away_id = 'dgsg'  and fixture_status in ('Match Finished', 'Match Finished Ended')  and shots_on_goal_home is null  and shots_on_goal_away is null ) order by date asc\n",
      "  ______Total Row(s) : 0\n",
      "  ______Are you sure want to continue? :  dfgdfg\n",
      "# -------------------------------------------------- End at 2023-03-23 20:23:11\n"
     ]
    }
   ],
   "source": [
    "# Import\n",
    "import sys\n",
    "sys.path.append('../')\n",
    "\n",
    "from a_settings.messages import *  \n",
    "from a_models.football_fixtures import *   \n",
    " \n",
    "if __name__ == '__main__': \n",
    "    # --------------------------------------------------  \n",
    "    its_start()\n",
    "    # --------------------------------------------------  \n",
    "    space = \"  __\"\n",
    "    print(space + \"main()\") \n",
    "    # --------------------------------------------------   \n",
    "    space += \"__\"\n",
    "    # --------------------------------------------------  \n",
    "    teampapi_id = input(space + \"Enter your team id : \")\n",
    "    leagueapi_id = input(space + \"Enter your leagueapi id : \")\n",
    "    season = input(space + \"Enter your season : \")\n",
    "    # --------------------------------------------------    \n",
    "    ff_get_fixture_that_not_update_stats_with_team(teampapi_id, leagueapi_id, season, space)\n",
    "    # -------------------------------------------------- \n",
    "    its_end()  \n",
    "    ####################################################"
   ]
  }
 ],
 "metadata": {
  "kernelspec": {
   "display_name": "Python 3 (ipykernel)",
   "language": "python",
   "name": "python3"
  },
  "language_info": {
   "codemirror_mode": {
    "name": "ipython",
    "version": 3
   },
   "file_extension": ".py",
   "mimetype": "text/x-python",
   "name": "python",
   "nbconvert_exporter": "python",
   "pygments_lexer": "ipython3",
   "version": "3.9.12"
  }
 },
 "nbformat": 4,
 "nbformat_minor": 5
}
