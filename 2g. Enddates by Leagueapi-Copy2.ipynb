{
 "cells": [
  {
   "cell_type": "code",
   "execution_count": 1,
   "id": "0d540dc5",
   "metadata": {},
   "outputs": [
    {
     "name": "stdout",
     "output_type": "stream",
     "text": [
      "Enter your leagueapi id :  303\n",
      "Enter your season :  2022\n"
     ]
    }
   ],
   "source": [
    "\n",
    "from a_settings.messages import *  \n",
    "from a_models.football_fixtures import *  \n",
    "\n",
    "leagueapi_id = input( \"Enter your leagueapi id :  \")\n",
    "season = input( \"Enter your season :  \")\n",
    "\n",
    "today = datetime.datetime.now()  \n",
    "days0 = 7\n",
    "days1 = 1"
   ]
  },
  {
   "cell_type": "code",
   "execution_count": 2,
   "id": "b8f4079a",
   "metadata": {},
   "outputs": [
    {
     "name": "stdout",
     "output_type": "stream",
     "text": [
      "# -------------------------------------------------- Start at 2023-04-02 02:18:53\n",
      "  __main()\n",
      "  ____leagueapi_id : 303\n",
      "  ____season : 2022\n",
      "  ____days : 7\n",
      "  ____days : 1\n",
      "  ____tgl_awal : 2023-03-26\n",
      "  ____tgl_akhir : 2023-04-01\n",
      "  ______ff_get_group_date_league_status_match_finished()\n",
      "  ______Select DATE(date), leagueapi_id,  (select bookmakersapi_id from leagues   where leagues.leagueapi_id = football_fixtures.leagueapi_id),  season   from football_fixtures  where leagueapi_id = '303'  and season = '2022'  and date <= '2023-04-01'  and date >= '2023-03-26'  and fixture_status like 'Match Finished'  and deleted_at is null  group by DATE(date), leagueapi_id, season  order by leagueapi_id \n",
      "  ________Total Row(s) : 3\n",
      "  __________1. 2023-03-30 // 303 // 11 // 2022\n",
      "  ____________ao_controll_match_update()\n",
      "  ______________aa_check_acccount()\n",
      "  ________________API herlambangharyo@live.com counter is 2\n",
      "  ________________APIkey: 2fec23d13fmshf62617efbd47f64p163111jsn9852a0e880ca\n",
      "  ______________aa_check_acccount()\n",
      "  ______________aa_update_counter()\n",
      "  ______________ao_response_odds()\n",
      "  ________________date : 2023-03-30\n",
      "  ________________bookmaker : 11\n",
      "  ________________season : 2022\n",
      "  ________________league : 303\n",
      "  ________________page : 1\n",
      "  __________________________________________________________________________________________\n"
     ]
    },
    {
     "ename": "KeyError",
     "evalue": "'response'",
     "output_type": "error",
     "traceback": [
      "\u001b[1;31m---------------------------------------------------------------------------\u001b[0m",
      "\u001b[1;31mKeyError\u001b[0m                                  Traceback (most recent call last)",
      "Input \u001b[1;32mIn [2]\u001b[0m, in \u001b[0;36m<cell line: 4>\u001b[1;34m()\u001b[0m\n\u001b[0;32m     29\u001b[0m \u001b[38;5;28mprint\u001b[39m(space \u001b[38;5;241m+\u001b[39m \u001b[38;5;124m\"\u001b[39m\u001b[38;5;124mtgl_akhir : \u001b[39m\u001b[38;5;124m\"\u001b[39m \u001b[38;5;241m+\u001b[39m tgl_akhir)  \n\u001b[0;32m     30\u001b[0m \u001b[38;5;66;03m# --------------------------------------------------   \u001b[39;00m\n\u001b[1;32m---> 31\u001b[0m \u001b[43mff_get_group_date_league_status_match_finished\u001b[49m\u001b[43m(\u001b[49m\u001b[43mleagueapi_id\u001b[49m\u001b[43m,\u001b[49m\u001b[43m \u001b[49m\u001b[43mseason\u001b[49m\u001b[43m,\u001b[49m\u001b[43m \u001b[49m\u001b[43mtgl_awal\u001b[49m\u001b[43m,\u001b[49m\u001b[43m \u001b[49m\u001b[43mtgl_akhir\u001b[49m\u001b[43m,\u001b[49m\u001b[43m \u001b[49m\u001b[43mspace\u001b[49m\u001b[43m)\u001b[49m\n\u001b[0;32m     32\u001b[0m \u001b[38;5;66;03m# --------------------------------------------------   \u001b[39;00m\n\u001b[0;32m     33\u001b[0m its_end()\n",
      "File \u001b[1;32m~\\AryaDataAnalyst\\pr_py_buzz_2023_03\\a_models\\football_fixtures.py:610\u001b[0m, in \u001b[0;36mff_get_group_date_league_status_match_finished\u001b[1;34m(leagueapi_id, season, day1, day2, space)\u001b[0m\n\u001b[0;32m    602\u001b[0m DICT \u001b[38;5;241m=\u001b[39m {\n\u001b[0;32m    603\u001b[0m     \u001b[38;5;124m\"\u001b[39m\u001b[38;5;124mdate\u001b[39m\u001b[38;5;124m\"\u001b[39m : date,\n\u001b[0;32m    604\u001b[0m     \u001b[38;5;124m\"\u001b[39m\u001b[38;5;124mbookmaker\u001b[39m\u001b[38;5;124m\"\u001b[39m : bookmaker,\n\u001b[1;32m   (...)\u001b[0m\n\u001b[0;32m    607\u001b[0m     \u001b[38;5;124m\"\u001b[39m\u001b[38;5;124mpage\u001b[39m\u001b[38;5;124m\"\u001b[39m : \u001b[38;5;241m1\u001b[39m,\n\u001b[0;32m    608\u001b[0m }\n\u001b[0;32m    609\u001b[0m \u001b[38;5;66;03m# ao_controll_match_update(date, bookmaker, season, league, 1, space) \u001b[39;00m\n\u001b[1;32m--> 610\u001b[0m \u001b[43mao_controll_match_update\u001b[49m\u001b[43m(\u001b[49m\u001b[43mDICT\u001b[49m\u001b[43m,\u001b[49m\u001b[43m \u001b[49m\u001b[38;5;124;43m'\u001b[39;49m\u001b[38;5;124;43mend_\u001b[39;49m\u001b[38;5;124;43m'\u001b[39;49m\u001b[43m,\u001b[49m\u001b[43m \u001b[49m\u001b[43mspace\u001b[49m\u001b[43m)\u001b[49m\n",
      "File \u001b[1;32m~\\AryaDataAnalyst\\pr_py_buzz_2023_03\\a_models\\api_odds.py:27\u001b[0m, in \u001b[0;36mao_controll_match_update\u001b[1;34m(DICT, PREP_, space)\u001b[0m\n\u001b[0;32m     25\u001b[0m aa_update_counter(space) \n\u001b[0;32m     26\u001b[0m \u001b[38;5;66;03m# ao_response_odds(APIkey, date, bookmaker, season, league, page, space)\u001b[39;00m\n\u001b[1;32m---> 27\u001b[0m \u001b[43mao_response_odds\u001b[49m\u001b[43m(\u001b[49m\u001b[43mAPIkey\u001b[49m\u001b[43m,\u001b[49m\u001b[43m \u001b[49m\u001b[43mDICT\u001b[49m\u001b[43m,\u001b[49m\u001b[43m \u001b[49m\u001b[43mPREP_\u001b[49m\u001b[43m,\u001b[49m\u001b[43m \u001b[49m\u001b[43mspace\u001b[49m\u001b[43m)\u001b[49m\n",
      "File \u001b[1;32m~\\AryaDataAnalyst\\pr_py_buzz_2023_03\\a_models\\api_odds.py:123\u001b[0m, in \u001b[0;36mao_response_odds\u001b[1;34m(APIkey, DICT, PREP_, space)\u001b[0m\n\u001b[0;32m    121\u001b[0m \u001b[38;5;28mprint\u001b[39m(space \u001b[38;5;241m+\u001b[39m \u001b[38;5;124m\"\u001b[39m\u001b[38;5;124m__________________________________________________________________________\u001b[39m\u001b[38;5;124m\"\u001b[39m)\n\u001b[0;32m    122\u001b[0m \u001b[38;5;66;03m# ----------------------------------------------------------  \u001b[39;00m\n\u001b[1;32m--> 123\u001b[0m total_response \u001b[38;5;241m=\u001b[39m \u001b[38;5;28mlen\u001b[39m(\u001b[43md\u001b[49m\u001b[43m[\u001b[49m\u001b[38;5;124;43m'\u001b[39;49m\u001b[38;5;124;43mresponse\u001b[39;49m\u001b[38;5;124;43m'\u001b[39;49m\u001b[43m]\u001b[49m)\n\u001b[0;32m    124\u001b[0m \u001b[38;5;28mprint\u001b[39m(space \u001b[38;5;241m+\u001b[39m \u001b[38;5;124m\"\u001b[39m\u001b[38;5;124mTotal API Response(s) : \u001b[39m\u001b[38;5;124m\"\u001b[39m \u001b[38;5;241m+\u001b[39m \u001b[38;5;28mstr\u001b[39m(total_response), flush\u001b[38;5;241m=\u001b[39m\u001b[38;5;28;01mTrue\u001b[39;00m) \n\u001b[0;32m    125\u001b[0m \u001b[38;5;66;03m# ---------------------------------------------------------- \u001b[39;00m\n",
      "\u001b[1;31mKeyError\u001b[0m: 'response'"
     ]
    }
   ],
   "source": [
    "from a_settings.messages import *  \n",
    "from a_models.football_fixtures import *  \n",
    " \n",
    "if __name__ == '__main__': \n",
    "    # --------------------------------------------------  \n",
    "    its_start()\n",
    "    # --------------------------------------------------  \n",
    "    space = \"  __\"\n",
    "    print(space + \"main()\") \n",
    "    # --------------------------------------------------   \n",
    "    # ----------------------------------------------------------  \n",
    "    today = datetime.datetime.now()  \n",
    "    # ----------------------------------------------------------  \n",
    "    DD = datetime.timedelta(days=days0)\n",
    "    week = today - DD\n",
    "    tgl_awal = week.strftime(\"%Y-%m-%d\") \n",
    "    # ----------------------------------------------------------  \n",
    "    DD = datetime.timedelta(days=days1)\n",
    "    yesterday = today - DD\n",
    "    tgl_akhir = yesterday.strftime(\"%Y-%m-%d\")  \n",
    "    # ----------------------------------------------------------  \n",
    "    space += \"__\"\n",
    "    # ----------------------------------------------------------  \n",
    "    print(space + \"leagueapi_id : \" + str(leagueapi_id))\n",
    "    print(space + \"season : \" + str(season))\n",
    "    print(space + \"days : \" + str(days0))\n",
    "    print(space + \"days : \" + str(days1))\n",
    "    print(space + \"tgl_awal : \" + tgl_awal)\n",
    "    print(space + \"tgl_akhir : \" + tgl_akhir)  \n",
    "    # --------------------------------------------------   \n",
    "    ff_get_group_date_league_status_match_finished(leagueapi_id, season, tgl_awal, tgl_akhir, space)\n",
    "    # --------------------------------------------------   \n",
    "    its_end()  \n",
    "    ####################################################"
   ]
  },
  {
   "cell_type": "code",
   "execution_count": null,
   "id": "5c8c8cc4",
   "metadata": {},
   "outputs": [],
   "source": [
    "from a_settings.messages import *  \n",
    "from a_models.football_fixtures import *  \n",
    " \n",
    "if __name__ == '__main__': \n",
    "    # --------------------------------------------------  \n",
    "    its_start()\n",
    "    # --------------------------------------------------  \n",
    "    space = \"  __\"\n",
    "    print(space + \"main()\") \n",
    "    # --------------------------------------------------    \n",
    "    # ----------------------------------------------------------  \n",
    "    today = datetime.datetime.now()  \n",
    "    # ----------------------------------------------------------  \n",
    "    DD = datetime.timedelta(days=days0)\n",
    "    week = today - DD\n",
    "    tgl_awal = week.strftime(\"%Y-%m-%d\") \n",
    "    # ----------------------------------------------------------  \n",
    "    DD = datetime.timedelta(days=days1)\n",
    "    yesterday = today - DD\n",
    "    tgl_akhir = yesterday.strftime(\"%Y-%m-%d\")  \n",
    "    # ----------------------------------------------------------  \n",
    "    space += \"__\"\n",
    "    # ----------------------------------------------------------  \n",
    "    print(space + \"leagueapi_id : \" + str(leagueapi_id))\n",
    "    print(space + \"season : \" + str(season))\n",
    "    print(space + \"days : \" + str(days0))\n",
    "    print(space + \"days : \" + str(days1))\n",
    "    print(space + \"tgl_awal : \" + tgl_awal)\n",
    "    print(space + \"tgl_akhir : \" + tgl_akhir)   \n",
    "    # --------------------------------------------------   \n",
    "    ff_get_fixture_status_match_finished_by_league(leagueapi_id, season, tgl_awal, tgl_akhir, 'xpattern', space) \n",
    "    # --------------------------------------------------   \n",
    "    its_end()  \n",
    "    ####################################################"
   ]
  },
  {
   "cell_type": "code",
   "execution_count": null,
   "id": "d5827f5c",
   "metadata": {},
   "outputs": [],
   "source": [
    "from a_settings.messages import *  \n",
    "from a_models.football_fixtures import *  \n",
    " \n",
    "if __name__ == '__main__': \n",
    "    # --------------------------------------------------  \n",
    "    its_start()\n",
    "    # --------------------------------------------------  \n",
    "    space = \"  __\"\n",
    "    print(space + \"main()\") \n",
    "    # --------------------------------------------------    \n",
    "    # ----------------------------------------------------------  \n",
    "    today = datetime.datetime.now()  \n",
    "    # ----------------------------------------------------------  \n",
    "    DD = datetime.timedelta(days=days0)\n",
    "    week = today - DD\n",
    "    tgl_awal = week.strftime(\"%Y-%m-%d\") \n",
    "    # ----------------------------------------------------------  \n",
    "    DD = datetime.timedelta(days=days1)\n",
    "    yesterday = today - DD\n",
    "    tgl_akhir = yesterday.strftime(\"%Y-%m-%d\")  \n",
    "    # ----------------------------------------------------------  \n",
    "    space += \"__\"\n",
    "    # ----------------------------------------------------------  \n",
    "    print(space + \"leagueapi_id : \" + str(leagueapi_id))\n",
    "    print(space + \"season : \" + str(season))\n",
    "    print(space + \"days : \" + str(days0))\n",
    "    print(space + \"days : \" + str(days1))\n",
    "    print(space + \"tgl_awal : \" + tgl_awal)\n",
    "    print(space + \"tgl_akhir : \" + tgl_akhir)   \n",
    "    # --------------------------------------------------   \n",
    "    ff_get_fixture_status_match_finished_for_daily_update_patternlist_by_leagueapi_id(leagueapi_id, \n",
    "                                                                                      season, tgl_awal, tgl_akhir, space) \n",
    "    # --------------------------------------------------   \n",
    "    its_end()  \n",
    "    ####################################################"
   ]
  }
 ],
 "metadata": {
  "kernelspec": {
   "display_name": "Python 3 (ipykernel)",
   "language": "python",
   "name": "python3"
  },
  "language_info": {
   "codemirror_mode": {
    "name": "ipython",
    "version": 3
   },
   "file_extension": ".py",
   "mimetype": "text/x-python",
   "name": "python",
   "nbconvert_exporter": "python",
   "pygments_lexer": "ipython3",
   "version": "3.9.12"
  }
 },
 "nbformat": 4,
 "nbformat_minor": 5
}
