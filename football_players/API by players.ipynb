{
 "cells": [
  {
   "cell_type": "code",
   "execution_count": 2,
   "metadata": {},
   "outputs": [
    {
     "name": "stdout",
     "output_type": "stream",
     "text": [
      "# -------------------------------------------------- Start at 2023-08-23 23:18:00\n",
      "  __main()\n",
      "  ______aPaIcontroll_match_update()\n",
      "  ________aa_check_acccount()\n",
      "  __________API hariyant2410@gmail.com counter is 71\n",
      "  __________APIkey: b5a6d9beb2mshb3e0ad9107a86aap1cedccjsna1c0d5c2a42a\n",
      "  ________aa_check_acccount()\n",
      "  ________aa_update_counter()\n",
      "  ________aPaIresponse_odds()\n",
      "  __________id : 1438\n",
      "  __________season : 2023\n",
      "  ____________Total API Response(s) : 1\n",
      "  ____________total_MAX_PAGE : 1\n",
      "  ______________INSERT INTO `football_players`(  `playerapi_id`,  `name`,  `firstname`,  `lastname`,  `age`,  `birth_date`,  `birth_place`,  `birth_country`,  `nationality`,  `height`,  `weight`,  `injured`,  `photo`,  `created_at`,  `api_players_updated_at`  ) VALUES (  '1438',  'B. Leno',  'Bernd',  'Leno',  '31',  '1992-03-04',  'Bietigheim-Bissingen',  'Germany',  'Germany',  '189 cm',  '82 kg',  'False',  'https://media-1.api-sports.io/football/players/1438.png',  current_timestamp,  current_timestamp ) \n",
      "# -------------------------------------------------- End at 2023-08-23 23:18:02\n"
     ]
    }
   ],
   "source": [
    "# Import \n",
    "import sys\n",
    "sys.path.append('../')\n",
    "\n",
    "from a_settings.messages import *   \n",
    "from a_models.date import *    \n",
    "from a_models.api_players_api import *    \n",
    "     \n",
    "if __name__ == '__main__': \n",
    "    # --------------------------------------------------  \n",
    "    its_start()\n",
    "    # --------------------------------------------------  \n",
    "    space = \"  __\"\n",
    "    print(space + \"main()\", flush=True)  \n",
    "    # --------------------------------------------------    \n",
    "    space += \"__\" \n",
    "    # -------------------------------------------------- \n",
    "    \n",
    "    playerapi_id    = input(space + \"Enter your playerapi_id id :  \") \n",
    "    DICT = {\n",
    "        'id' :playerapi_id, \n",
    "        'season' :2023, \n",
    "    }\n",
    "    aPaI_controll_match_update(DICT, \"Null\", space)\n",
    "    # --------------------------------------------------    \n",
    "    its_end()  \n",
    "    ####################################################"
   ]
  }
 ],
 "metadata": {
  "kernelspec": {
   "display_name": "base",
   "language": "python",
   "name": "python3"
  },
  "language_info": {
   "codemirror_mode": {
    "name": "ipython",
    "version": 3
   },
   "file_extension": ".py",
   "mimetype": "text/x-python",
   "name": "python",
   "nbconvert_exporter": "python",
   "pygments_lexer": "ipython3",
   "version": "3.9.12"
  },
  "orig_nbformat": 4
 },
 "nbformat": 4,
 "nbformat_minor": 2
}
