{
 "cells": [
  {
   "cell_type": "code",
   "execution_count": null,
   "id": "b9c736b5",
   "metadata": {},
   "outputs": [],
   "source": [
    "import datetime \n",
    "\n",
    "# Import\n",
    "import sys\n",
    "sys.path.append('../')\n",
    "\n",
    "from a_settings.messages import *   \n",
    "from a_models.football_fixtures import *   \n",
    "\n",
    "if __name__ == '__main__': \n",
    "    # ----------------------------------------------------------   \n",
    "    its_start() \n",
    "    # ----------------------------------------------------------  \n",
    "    space = \"  __\"\n",
    "    # ----------------------------------------------------------   \n",
    "    print(space + \"__main__\") \n",
    "    # ----------------------------------------------------------  \n",
    "    space += \"____\"  \n",
    "    # ----------------------------------------------------------  \n",
    "    season   = input(space + \"Enter your season :  \") \n",
    "    # ----------------------------------------------------------    \n",
    "    ff_update_or_insert_by_world(season, space)\n",
    "    # ---------------------------------------------------------- \n",
    "    its_end()  \n",
    "    ############################################################ "
   ]
  }
 ],
 "metadata": {
  "kernelspec": {
   "display_name": "Python 3 (ipykernel)",
   "language": "python",
   "name": "python3"
  },
  "language_info": {
   "codemirror_mode": {
    "name": "ipython",
    "version": 3
   },
   "file_extension": ".py",
   "mimetype": "text/x-python",
   "name": "python",
   "nbconvert_exporter": "python",
   "pygments_lexer": "ipython3",
   "version": "3.9.12"
  }
 },
 "nbformat": 4,
 "nbformat_minor": 5
}
