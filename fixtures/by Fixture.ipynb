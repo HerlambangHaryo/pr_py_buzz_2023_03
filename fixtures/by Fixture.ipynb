{
 "cells": [
  {
   "cell_type": "code",
   "execution_count": 3,
   "metadata": {},
   "outputs": [
    {
     "name": "stdout",
     "output_type": "stream",
     "text": [
      "# -------------------------------------------------- Start at 2023-09-02 20:57:50\n",
      "  ____main__\n"
     ]
    },
    {
     "name": "stdout",
     "output_type": "stream",
     "text": [
      "  ________get_today_adds()\n",
      "  __________adds date_diff : 0\n",
      "  __________today_raw : 2023-09-02 20:57:51.580414\n",
      "  ________afN_controll_match_update()\n",
      "  __________aa_check_acccount()\n",
      "  ____________API herlambangharyo@live.com counter is 35\n",
      "  ____________APIkey: 2fec23d13fmshf62617efbd47f64p163111jsn9852a0e880ca\n",
      "  __________aa_check_acccount()\n",
      "  __________aa_update_counter()\n",
      "  __________afN_response_fixtures()\n",
      "  ____________fixtureapi_id : 1059832\n",
      "  ____________fixture_updated_at : 2023-09-02 20:57:51.580414\n",
      "  ____________ROUTES : fixtureapi_id\n",
      "  ______________Total API Response(s) : 1\n",
      "  ________________\n",
      "  ________________ [1/1] fixture_status: Match Finished __ 51 __ 2023-08-19 14:00:00+00:00\n",
      "  ____________________football_teams UPDATED\n",
      "  ____________________football_teams UPDATED\n",
      "  ________________football_fixtures UPDATED\n",
      "  ________________MASOK fixtureapi_id\n",
      "teams_homeapi_id: 8147\n",
      "teams_awayapi_id: 8662\n",
      "team_id: 8147\n",
      "\n",
      "ID :8147\n",
      "lineups_coach_homeapi_id :17136\n",
      "lineups_coach_home_name :G. Horgan\n",
      "lineups_coach_home_photo :https://media-2.api-sports.io/football/coachs/17136.png\n",
      "  __________________fC_insert_new()\n",
      "  __________________coacheapi_id : 17136\n",
      "  __________________name : G. Horgan\n",
      "lineups_formation_home :Null\n",
      "team_id: 8662\n",
      "\n",
      "ID :8662\n",
      "lineups_coach_awayapi_id :3800\n",
      "lineups_coach_away_name :J. Saunders\n",
      "lineups_coach_away_photo :https://media-1.api-sports.io/football/coachs/3800.png\n",
      "  __________________fC_insert_new()\n",
      "  __________________coacheapi_id : 3800\n",
      "  __________________name : J. Saunders\n",
      "  ____________________INSERT INTO `football_coaches`(  `coachapi_id`,  `name`,  `image`,  `created_at`  ) VALUES (  3800,  'J. Saunders',  'https://media-1.api-sports.io/football/coachs/3800.png',  current_timestamp ) \n",
      "  ____________________football_coaches INSERTED\n",
      "lineups_formation_away :Null\n",
      "  ________________football_statistics: 1. /Match Finished/ 1059832 / 2023-08-19 14:00:00+00:00/  INSERTED \n",
      "# -------------------------------------------------- End at 2023-09-02 20:57:53\n"
     ]
    }
   ],
   "source": [
    "import datetime \n",
    "\n",
    "# Import\n",
    "import sys\n",
    "sys.path.append('../')\n",
    "\n",
    "from a_settings.messages import *   \n",
    "from a_models.api_fixtures_new import *   \n",
    "from a_models.date import *  \n",
    "\n",
    "if __name__ == '__main__': \n",
    "    # ----------------------------------------------------------   \n",
    "    its_start() \n",
    "    # ----------------------------------------------------------  \n",
    "    space = \"  __\"\n",
    "    # ----------------------------------------------------------   \n",
    "    print(space + \"__main__\") \n",
    "    # ----------------------------------------------------------  \n",
    "    space += \"____\"  \n",
    "    # ----------------------------------------------------------  \n",
    "    fixtureapi_id   = input(space + \"Enter your fixtureapi_id :  \")  \n",
    "    fixture_updated_at  =  get_today_adds(0, space) \n",
    "    # ----------------------------------------------------------    \n",
    "    DICT = {\n",
    "        'fixtureapi_id' :fixtureapi_id,\n",
    "        'fixture_updated_at' :fixture_updated_at, \n",
    "    }\n",
    "    # ---------------------------------------------------------- \n",
    "    afN_controll_match_update(DICT, 'fixtureapi_id', space) \n",
    "    # ---------------------------------------------------------- \n",
    "    its_end()  \n",
    "    ############################################################ "
   ]
  }
 ],
 "metadata": {
  "kernelspec": {
   "display_name": "base",
   "language": "python",
   "name": "python3"
  },
  "language_info": {
   "codemirror_mode": {
    "name": "ipython",
    "version": 3
   },
   "file_extension": ".py",
   "mimetype": "text/x-python",
   "name": "python",
   "nbconvert_exporter": "python",
   "pygments_lexer": "ipython3",
   "version": "3.9.12"
  },
  "orig_nbformat": 4
 },
 "nbformat": 4,
 "nbformat_minor": 2
}
