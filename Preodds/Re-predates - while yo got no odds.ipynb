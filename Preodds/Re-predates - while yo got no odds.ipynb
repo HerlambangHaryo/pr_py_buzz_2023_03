{
 "cells": [
  {
   "cell_type": "code",
   "execution_count": 2,
   "metadata": {},
   "outputs": [
    {
     "name": "stdout",
     "output_type": "stream",
     "text": [
      "# -------------------------------------------------- Start at 2023-08-15 09:04:45\n",
      "  __main()\n",
      "  ____get_today_adds()\n",
      "  ______adds date_diff : 0\n",
      "  ______today_raw : 2023-08-15 09:04:45.637181\n",
      "  ____get_today_adds()\n",
      "  ______adds date_diff : 1\n",
      "  ______today_raw : 2023-08-16 09:04:45.638689\n",
      "  ____fo_controll_predates()\n",
      "  ______Select  DATE(date) as date_FX  , DATE(pre_odd_updated_at) as date_pre   , count(*) as counter   , fixture_status   from football_odds  where DATE(date) >= '2023-08-15'  and DATE(date) <= '2023-08-16'  group by DATE(pre_odd_updated_at), fixture_status  order by DATE(date) desc \n",
      "  ______Total Row(s) : 3\n",
      "\n",
      "      date_FX    date_pre  counter    fixture_status\n",
      "0  2023-08-16  2023-08-15      195  Not Started Goto\n",
      "1  2023-08-15  2023-08-14        1  Not Started Goto\n",
      "2  2023-08-15        None       23              None\n",
      "\n",
      "# -------------------------------------------------- End at 2023-08-15 09:04:46\n"
     ]
    }
   ],
   "source": [
    "# Import# Import \n",
    "import sys\n",
    "sys.path.append('../')\n",
    "\n",
    "from a_settings.messages import *  \n",
    "from a_models.date import *   \n",
    "from a_models.football_odds import *   \n",
    "  \n",
    "if __name__ == '__main__': \n",
    "    # --------------------------------------------------  \n",
    "    its_start()\n",
    "    # --------------------------------------------------  \n",
    "    space = \"  __\"\n",
    "    print(space + \"main()\") \n",
    "    # --------------------------------------------------   \n",
    "    day1         = get_today_adds(0, space).strftime(\"%Y-%m-%d\") \n",
    "    # --------------------------------------------------    \n",
    "    day2         = get_today_adds(1, space).strftime(\"%Y-%m-%d\")  \n",
    "    # -------------------------------------------------- \n",
    "    fo_controll_predates(day1, day2, space)\n",
    "    # -------------------------------------------------- \n",
    "    its_end()  \n",
    "    ####################################################"
   ]
  }
 ],
 "metadata": {
  "kernelspec": {
   "display_name": "base",
   "language": "python",
   "name": "python3"
  },
  "language_info": {
   "codemirror_mode": {
    "name": "ipython",
    "version": 3
   },
   "file_extension": ".py",
   "mimetype": "text/x-python",
   "name": "python",
   "nbconvert_exporter": "python",
   "pygments_lexer": "ipython3",
   "version": "3.9.12"
  },
  "orig_nbformat": 4
 },
 "nbformat": 4,
 "nbformat_minor": 2
}
