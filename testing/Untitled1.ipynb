{
 "cells": [
  {
   "cell_type": "code",
   "execution_count": 1,
   "id": "717ddcaf",
   "metadata": {},
   "outputs": [],
   "source": [
    "import requests\n",
    "\n",
    "url = \"https://api-football-v1.p.rapidapi.com/v3/timezone\"\n",
    "\n",
    "headers = {\n",
    "\t\"X-RapidAPI-Key\": \"fb0d635ec8msh5e46b55f220ec09p1977fcjsn24c915a7bc07\",\n",
    "\t\"X-RapidAPI-Host\": \"api-football-v1.p.rapidapi.com\"\n",
    "}\n",
    "\n",
    "response = requests.get(url, headers=headers)\n"
   ]
  },
  {
   "cell_type": "code",
   "execution_count": 4,
   "id": "f68ff055",
   "metadata": {},
   "outputs": [
    {
     "name": "stdout",
     "output_type": "stream",
     "text": [
      "{'Date': 'Sun, 09 Jul 2023 11:22:01 GMT', 'Content-Type': 'application/json', 'Content-Length': '2761', 'Connection': 'keep-alive', 'Content-Encoding': 'gzip', 'Vary': 'Accept-Encoding', 'Sozu-Id': '01H4X666GNF08Y3XJM7SQRA2B2', 'Access-Control-Allow-Methods': 'GET, OPTIONS', 'Access-Control-Allow-Origin': '*', 'Access-Control-Allow-Credentials': 'True', 'Access-Control-Allow-Headers': 'x-rapidapi-key, x-apisports-key, x-rapidapi-host', 'X-RateLimit-requests-Limit': '100', 'X-RateLimit-requests-Remaining': '99', 'X-RateLimit-requests-Reset': '13473', 'Server': 'RapidAPI-1.2.8', 'X-RapidAPI-Version': '1.2.8', 'X-RapidAPI-Region': 'AWS - ap-southeast-1'}\n"
     ]
    }
   ],
   "source": [
    "\n",
    "\n",
    "print(response.headers)"
   ]
  },
  {
   "cell_type": "code",
   "execution_count": null,
   "id": "c39db330",
   "metadata": {},
   "outputs": [],
   "source": []
  }
 ],
 "metadata": {
  "kernelspec": {
   "display_name": "Python 3 (ipykernel)",
   "language": "python",
   "name": "python3"
  },
  "language_info": {
   "codemirror_mode": {
    "name": "ipython",
    "version": 3
   },
   "file_extension": ".py",
   "mimetype": "text/x-python",
   "name": "python",
   "nbconvert_exporter": "python",
   "pygments_lexer": "ipython3",
   "version": "3.9.12"
  }
 },
 "nbformat": 4,
 "nbformat_minor": 5
}
