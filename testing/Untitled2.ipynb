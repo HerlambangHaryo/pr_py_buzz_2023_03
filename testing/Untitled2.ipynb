{
 "cells": [
  {
   "cell_type": "code",
   "execution_count": null,
   "id": "7556614a",
   "metadata": {},
   "outputs": [],
   "source": [
    "col = [\n",
    "    \"shots_on_goal_home\",\n",
    "    \"shots_on_goal_away\",\n",
    "    \"shots_off_goal_home\",\n",
    "    \"shots_off_goal_away\",\n",
    "    \"total_shots_home\",\n",
    "    \"total_shots_away\",\n",
    "    \"blocked_shots_home\",\n",
    "    \"blocked_shots_away\",\n",
    "    \"shots_inside_box_home\",\n",
    "    \"shots_inside_box_away\",\n",
    "    \"shots_outside_box_home\",\n",
    "    \"shots_outside_box_away\",\n",
    "    \"fouls_home\",\n",
    "    \"fouls_away\",\n",
    "    \"corner_kicks_home\",\n",
    "    \"corner_kicks_away\",\n",
    "    \"offsides_home\",\n",
    "    \"offsides_away\",\n",
    "    \"ball_possession_home\",\n",
    "    \"ball_possession_away\",\n",
    "    \"yellow_cards_home\",\n",
    "    \"yellow_cards_away\",\n",
    "    \"red_cards_home\",\n",
    "    \"red_cards_away\",\n",
    "    \"goalkeeper_saves_home\",\n",
    "    \"goalkeeper_saves_away\",\n",
    "    \"total_passess_home\",\n",
    "    \"total_passess_away\",\n",
    "    \"passess_accurate_home\",\n",
    "    \"passess_accurate_away\",\n",
    "    \"passess_home\",\n",
    "    \"passess_away\",\n",
    "\n",
    "]"
   ]
  }
 ],
 "metadata": {
  "kernelspec": {
   "display_name": "Python 3 (ipykernel)",
   "language": "python",
   "name": "python3"
  },
  "language_info": {
   "codemirror_mode": {
    "name": "ipython",
    "version": 3
   },
   "file_extension": ".py",
   "mimetype": "text/x-python",
   "name": "python",
   "nbconvert_exporter": "python",
   "pygments_lexer": "ipython3",
   "version": "3.9.12"
  }
 },
 "nbformat": 4,
 "nbformat_minor": 5
}
