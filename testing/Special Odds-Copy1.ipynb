{
 "cells": [
  {
   "cell_type": "code",
   "execution_count": 4,
   "id": "a8f2d257",
   "metadata": {},
   "outputs": [
    {
     "name": "stdout",
     "output_type": "stream",
     "text": [
      "# -------------------------------------------------- Start at 2023-05-06 22:29:56\n",
      "  ____main__\n",
      "  ____1188\n",
      "\n",
      "# -------------------------------------------------- End at 2023-05-06 22:29:58\n"
     ]
    }
   ],
   "source": [
    "# Import\n",
    "import sys\n",
    "sys.path.append('../')\n",
    "\n",
    "from a_settings.messages import *  \n",
    "from a_models.odd_col import *  \n",
    "\n",
    "if __name__ == '__main__': \n",
    "    # --------------------------------------------------  \n",
    "    its_start()\n",
    "    # --------------------------------------------------  \n",
    "    space = \"  __\"\n",
    "    # ----------------------------------------------------------   \n",
    "    print(space + \"__main__\") \n",
    "    # ----------------------------------------------------------  \n",
    "    space += \"__\"  \n",
    "    # ----------------------------------------------------------  \n",
    "    odd_array = odd_col_list()\n",
    "    # ---------------------------------------------------------- \n",
    "    total_rows = str(len(odd_array))\n",
    "    print(space + total_rows, flush=True) \n",
    "    print(\"\") \n",
    "    # ----------------------------------------------------------  \n",
    "    # ----------------------------------------------------------\n",
    "    for x in odd_array: \n",
    "        temp_x = x.replace(\"pre_\", \"\").replace(\"end_\", \"\")\n",
    "        # ------------------------------------------------------ \n",
    "        host=\"localhost\"\n",
    "        user=\"root\" \n",
    "        database=\"pr_mmbuzz_2022_06\"\n",
    "        mydb = mysql.connector.connect(host=host,user=user,password=\"\",database=database)\n",
    "        mycursor = mydb.cursor()\n",
    "        # ------------------------------------------------------\n",
    "        query = \"select * \"\n",
    "        query += \" from bets_old \"\n",
    "        query += \" where columnx = '\"+temp_x+\"' \"\n",
    "        # ------------------------------------------------------ \n",
    "        # ------------------------------------------------------   \n",
    "        mycursor = mydb.cursor()\n",
    "        mycursor.execute(query)\n",
    "        result2 =  mycursor.fetchall()\n",
    "        # ------------------------------------------------------ \n",
    "        total_rows2 = len(result2)\n",
    "        # print(space + \"Total Row(s) : \" + str(total_rows2), flush=True) \n",
    "        # ------------------------------------------------------ \n",
    "        if(total_rows2 == 0):\n",
    "            print(temp_x, flush=True)\n",
    "        # ------------------------------------------------------\n",
    "        \n",
    "    # ---------------------------------------------------------- \n",
    "    its_end()  \n",
    "    ############################################################"
   ]
  }
 ],
 "metadata": {
  "kernelspec": {
   "display_name": "Python 3 (ipykernel)",
   "language": "python",
   "name": "python3"
  },
  "language_info": {
   "codemirror_mode": {
    "name": "ipython",
    "version": 3
   },
   "file_extension": ".py",
   "mimetype": "text/x-python",
   "name": "python",
   "nbconvert_exporter": "python",
   "pygments_lexer": "ipython3",
   "version": "3.9.12"
  }
 },
 "nbformat": 4,
 "nbformat_minor": 5
}
