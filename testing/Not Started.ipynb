{
 "cells": [
  {
   "cell_type": "code",
   "execution_count": 1,
   "id": "c41a21e8",
   "metadata": {},
   "outputs": [
    {
     "name": "stdout",
     "output_type": "stream",
     "text": [
      "__Total Row(s) : 6\n",
      "____1025057\n",
      "____1025058\n",
      "____1023761\n",
      "____1023762\n",
      "____1023763\n",
      "____1023764\n"
     ]
    }
   ],
   "source": [
    "# Import\n",
    "import mysql.connector \n",
    "# ---------------------------------------------------------- \n",
    "# Connect to DB\n",
    "# ---------------------------------------------------------- \n",
    "space = \"__\"\n",
    "# ---------------------------------------------------------- \n",
    "host=\"localhost\"\n",
    "user=\"root\" \n",
    "database=\"pr_mmbuzz_2022_06\"\n",
    "mydb = mysql.connector.connect(host=host,user=user,password=\"\",database=database)\n",
    "mycursor = mydb.cursor()\n",
    "# ---------------------------------------------------------- \n",
    "query = \" Select \"\n",
    "# ---------------------------------------------------------- \n",
    "query += \" fixtureapi_id \"\n",
    "# ---------------------------------------------------------- \n",
    "query += \" from football_odds \"\n",
    "query += \" where fixture_status = 'Not Started Yet' \"\n",
    "# ----------------------------------------------------------  \n",
    "mycursor = mydb.cursor()\n",
    "mycursor.execute(query)\n",
    "result =  mycursor.fetchall()\n",
    "# ----------------------------------------------------------  \n",
    "total_rows = len(result)\n",
    "print(space + \"Total Row(s) : \" + str(total_rows), flush=True) \n",
    "# ----------------------------------------------------------  \n",
    "counter = 0\n",
    "# ----------------------------------------------------------  \n",
    "space += \"__\"\n",
    "# ---------------------------------------------------------- \n",
    "for x in result:   \n",
    "    # ------------------------------------------------------ \n",
    "    fixtureapi_id = str(x[0])\n",
    "    # ------------------------------------------------------ \n",
    "    word = space + fixtureapi_id\n",
    "    print(word, flush=True)\n",
    "# ---------------------------------------------------------- \n",
    "# ---------------------------------------------------------- \n",
    "# ---------------------------------------------------------- \n",
    "# ---------------------------------------------------------- "
   ]
  },
  {
   "cell_type": "code",
   "execution_count": 2,
   "id": "41c467d8",
   "metadata": {},
   "outputs": [
    {
     "name": "stdout",
     "output_type": "stream",
     "text": [
      "____Total Row(s) : 2\n",
      "______257 - 2023\n",
      "______702 - 2022\n"
     ]
    }
   ],
   "source": [
    "\n",
    "query = \" Select \"\n",
    "# ---------------------------------------------------------- \n",
    "query += \" leagueapi_id \"\n",
    "query += \" , season \"\n",
    "# ---------------------------------------------------------- \n",
    "query += \" from football_odds \"\n",
    "query += \" where fixture_status = 'Not Started Yet' \"\n",
    "query += \" group by leagueapi_id \"\n",
    "query += \" , season \"\n",
    "# ----------------------------------------------------------  \n",
    "mycursor = mydb.cursor()\n",
    "mycursor.execute(query)\n",
    "result =  mycursor.fetchall()\n",
    "# ----------------------------------------------------------  \n",
    "total_rows = len(result)\n",
    "print(space + \"Total Row(s) : \" + str(total_rows), flush=True) \n",
    "# ----------------------------------------------------------  \n",
    "counter = 0\n",
    "# ----------------------------------------------------------  \n",
    "space += \"__\"\n",
    "# ---------------------------------------------------------- \n",
    "for x in result:   \n",
    "    # ------------------------------------------------------ \n",
    "    leagueapi_id = str(x[0])\n",
    "    season = str(x[1])\n",
    "    # ------------------------------------------------------ \n",
    "    word = space + leagueapi_id + \" - \" + season\n",
    "    print(word, flush=True)\n",
    "# ---------------------------------------------------------- "
   ]
  }
 ],
 "metadata": {
  "kernelspec": {
   "display_name": "Python 3 (ipykernel)",
   "language": "python",
   "name": "python3"
  },
  "language_info": {
   "codemirror_mode": {
    "name": "ipython",
    "version": 3
   },
   "file_extension": ".py",
   "mimetype": "text/x-python",
   "name": "python",
   "nbconvert_exporter": "python",
   "pygments_lexer": "ipython3",
   "version": "3.9.12"
  }
 },
 "nbformat": 4,
 "nbformat_minor": 5
}
