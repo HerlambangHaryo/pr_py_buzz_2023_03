{
 "cells": [
  {
   "cell_type": "code",
   "execution_count": 1,
   "id": "56f4612e",
   "metadata": {},
   "outputs": [
    {
     "name": "stdout",
     "output_type": "stream",
     "text": [
      "# -------------------------------------------------- Start at 2023-06-03 20:13:11\n",
      "  __main()\n",
      "  ____Enter your leagueapi id :  45\n",
      "  ____Enter your leagueapi id :  50\n",
      "  ______fS_get_fixture_that_not_update_stats_by_teamapi()\n",
      "  ______ (SELECT   fixtureapi_id  , leagueapi_id  , season FROM football_statistics WHERE leagueapi_id = 45  and teams_homeapi_id  = 50  and fixture_status in ('Match Finished', 'Match Finished Ended')  and shots_on_goal_home is null  and shots_on_goal_away is null  and season >= 2022)  union (SELECT   fixtureapi_id  , leagueapi_id  , season FROM football_statistics WHERE leagueapi_id = 45  and teams_awayapi_id  = 50  and fixture_status in ('Match Finished', 'Match Finished Ended')  and shots_on_goal_home is null  and shots_on_goal_away is null  and season >= 2022) \n",
      "  ______Total Row(s) : 2\n",
      "  ______Are you sure want to continue? :  yes\n",
      "  ______[1/2] #1011478 #45 - 2022\n",
      "  ________af_controll_match_update()\n",
      "  __________aa_check_acccount()\n",
      "  ____________API api2@ariondigitalmedia.com counter is 59\n",
      "  ____________APIkey: 0f5971b410mshc737f7de34dac9ep16aff3jsn20b96d52adec\n",
      "  __________aa_check_acccount()\n",
      "  __________aa_update_counter()\n",
      "  __________af_response_fixtures()\n",
      "  ____________ROUTES : fixtureapi_id\n",
      "  ____________fixtureapi_id : 1011478\n",
      "  ______________Total API Response(s) : 1\n",
      "  ________________fixture_status: Match Finished\n",
      "  __________________fC_insert_new()\n",
      "  __________________coacheapi_id : 4\n",
      "  __________________name : Pep Guardiola\n",
      "  __________________fC_insert_new()\n",
      "  __________________coacheapi_id : 12590\n",
      "  __________________name : V. Kompany\n",
      "  ________________football_odds UPDATED\n",
      "\n",
      "  ______[2/2] #997625 #45 - 2022\n",
      "  ________af_controll_match_update()\n",
      "  __________aa_check_acccount()\n",
      "  ____________API api2@ariondigitalmedia.com counter is 58\n",
      "  ____________APIkey: 0f5971b410mshc737f7de34dac9ep16aff3jsn20b96d52adec\n",
      "  __________aa_check_acccount()\n",
      "  __________aa_update_counter()\n",
      "  __________af_response_fixtures()\n",
      "  ____________ROUTES : fixtureapi_id\n",
      "  ____________fixtureapi_id : 997625\n",
      "  ______________Total API Response(s) : 1\n",
      "  ________________fixture_status: Match Finished\n",
      "  __________________fC_insert_new()\n",
      "  __________________coacheapi_id : 3594\n",
      "  __________________name : N. Pearson\n",
      "  __________________fC_insert_new()\n",
      "  __________________coacheapi_id : 4\n",
      "  __________________name : Pep Guardiola\n",
      "  ________________football_odds UPDATED\n",
      "\n",
      "# -------------------------------------------------- End at 2023-06-03 20:13:45\n"
     ]
    }
   ],
   "source": [
    "# Import\n",
    "import sys\n",
    "sys.path.append('../')\n",
    "\n",
    "# Import\n",
    "from a_settings.messages import *   \n",
    "from a_models.football_statistics import *   \n",
    " \n",
    "if __name__ == '__main__': \n",
    "    # --------------------------------------------------  \n",
    "    its_start()\n",
    "    # --------------------------------------------------  \n",
    "    space = \"  __\"\n",
    "    print(space + \"main()\", flush=True)  \n",
    "    # --------------------------------------------------    \n",
    "    space += \"__\" \n",
    "    # --------------------------------------------------    \n",
    "    # --------------------------------------------------  \n",
    "    leagueapi_id   = input(space + \"Enter your leagueapi id :  \") \n",
    "    teamapi_id   = input(space + \"Enter your teamapi id :  \") \n",
    "    # --------------------------------------------------    \n",
    "    fS_get_fixture_that_not_update_stats_by_teamapi(leagueapi_id, teamapi_id, space)\n",
    "    # --------------------------------------------------   \n",
    "    its_end()  \n",
    "    ####################################################"
   ]
  }
 ],
 "metadata": {
  "kernelspec": {
   "display_name": "Python 3 (ipykernel)",
   "language": "python",
   "name": "python3"
  },
  "language_info": {
   "codemirror_mode": {
    "name": "ipython",
    "version": 3
   },
   "file_extension": ".py",
   "mimetype": "text/x-python",
   "name": "python",
   "nbconvert_exporter": "python",
   "pygments_lexer": "ipython3",
   "version": "3.9.12"
  }
 },
 "nbformat": 4,
 "nbformat_minor": 5
}
