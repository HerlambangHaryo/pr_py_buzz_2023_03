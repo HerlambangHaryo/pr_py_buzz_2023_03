{
 "cells": [
  {
   "cell_type": "code",
   "execution_count": null,
   "id": "6eb26809",
   "metadata": {},
   "outputs": [],
   "source": [
    "import mysql.connector \n",
    "\n",
    "# Import\n",
    "import sys\n",
    "sys.path.append('../../')\n",
    " \n",
    "from a_models.array_col import *  \n",
    "\n",
    "# ------------------------------------------------------\n",
    "space = \"__\"\n",
    "# ------------------------------------------------------ \n",
    "array_col = array_col_football_odds()\n",
    "# ------------------------------------------------------\n",
    "counter = 0\n",
    "# ------------------------------------------------------\n",
    "for x in array_col:  \n",
    "    # --------------------------------------------------   \n",
    "    # query_commit += \" `fixtureapi_id`, \" \n",
    "    # query_commit += ' \"'+end_first_goal_method_penalty+'\"', ' #1177\n",
    "#     query_commit += ' \"'+end_first_goal_method_penalty+'\", '\n",
    "    # --------------------------------------------------   \n",
    "    counter += 1\n",
    "    # --------------------------------------------------   \n",
    "    helper = \"'\"\n",
    "    helper2 = '\"'\n",
    "    # --------------------------------------------------   \n",
    "#     word = 'query_commit += \" '+helper+'\"+'+str(x)+'+\"'+helper+', \"' + \" #\" + str(counter)\n",
    "    word = \"query_commit += ' \"+helper2+\"'+\"+str(x)+\"+'\"+helper2+\", '\"+ \" #\" + str(counter)\n",
    "    print(word, flush=True)  \n",
    "    \n",
    "    # --------------------------------------------------   \n",
    "    # --------------------------------------------------   \n",
    "    # --------------------------------------------------   \n",
    "# ------------------------------------------------------"
   ]
  }
 ],
 "metadata": {
  "kernelspec": {
   "display_name": "Python 3 (ipykernel)",
   "language": "python",
   "name": "python3"
  },
  "language_info": {
   "codemirror_mode": {
    "name": "ipython",
    "version": 3
   },
   "file_extension": ".py",
   "mimetype": "text/x-python",
   "name": "python",
   "nbconvert_exporter": "python",
   "pygments_lexer": "ipython3",
   "version": "3.9.12"
  }
 },
 "nbformat": 4,
 "nbformat_minor": 5
}
