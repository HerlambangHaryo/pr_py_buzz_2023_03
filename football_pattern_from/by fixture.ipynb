{
 "cells": [
  {
   "cell_type": "code",
   "execution_count": 3,
   "metadata": {},
   "outputs": [
    {
     "name": "stdout",
     "output_type": "stream",
     "text": [
      "# -------------------------------------------------- Start at 2023-09-02 20:57:32\n",
      "  __main()\n",
      "  __1059832\n",
      "  ____fp_fixtureapi_id()\n",
      "  ______Select  leagueapi_id   , season   , fixtureapi_id   , pre_ah_pattern  , pre_gou_pattern  , end_ah_pattern  , end_gou_pattern  , pre_ah_pattern_mirror  , end_ah_pattern_mirror  from football_odds  where fixtureapi_id = '1059832' \n",
      "  ________Total Row(s) : 1\n",
      "  __________[1/1]  #51 - 2023 __ 1059832 __ -025+0+025+05H __ 225g25g275gG __ -025+0+025+05H __ 25gG __ -05-025+0+025H __ -05-025+0+025H\n",
      "  ____________fP_DELETE_football_pattern_from()\n",
      "  ______________DELETE FROM `football_pattern_from`   where leagueapi_id = 51  and pre_ah_pattern = '-025+0+025+05H'  and pre_gou_pattern = '225g25g275gG'  and end_ah_pattern = '-025+0+025+05H'  and end_gou_pattern = '225g25g275gG' \n",
      "  ________________football_pattern_from's DELETED\n",
      "  ____________fP_DELETE_football_pattern_from()\n",
      "  ______________DELETE FROM `football_pattern_from`   where leagueapi_id = 51  and pre_ah_pattern = '-05-025+0+025H'  and pre_gou_pattern = '225g25g275gG'  and end_ah_pattern = '-05-025+0+025H'  and end_gou_pattern = '225g25g275gG' \n"
     ]
    },
    {
     "ename": "KeyboardInterrupt",
     "evalue": "",
     "output_type": "error",
     "traceback": [
      "\u001b[1;31m---------------------------------------------------------------------------\u001b[0m",
      "\u001b[1;31mKeyboardInterrupt\u001b[0m                         Traceback (most recent call last)",
      "\u001b[1;32mc:\\Users\\ASUS\\AryaDataAnalyst\\pr_py_buzz_2023_07\\football_pattern_from\\by fixture.ipynb Cell 1\u001b[0m in \u001b[0;36m<cell line: 9>\u001b[1;34m()\u001b[0m\n\u001b[0;32m     <a href='vscode-notebook-cell:/c%3A/Users/ASUS/AryaDataAnalyst/pr_py_buzz_2023_07/football_pattern_from/by%20fixture.ipynb#W0sZmlsZQ%3D%3D?line=17'>18</a>\u001b[0m \u001b[39mprint\u001b[39m(space \u001b[39m+\u001b[39m \u001b[39mstr\u001b[39m(fixtureapi_id), flush\u001b[39m=\u001b[39m\u001b[39mTrue\u001b[39;00m)\n\u001b[0;32m     <a href='vscode-notebook-cell:/c%3A/Users/ASUS/AryaDataAnalyst/pr_py_buzz_2023_07/football_pattern_from/by%20fixture.ipynb#W0sZmlsZQ%3D%3D?line=18'>19</a>\u001b[0m \u001b[39m# --------------------------------------------------     \u001b[39;00m\n\u001b[1;32m---> <a href='vscode-notebook-cell:/c%3A/Users/ASUS/AryaDataAnalyst/pr_py_buzz_2023_07/football_pattern_from/by%20fixture.ipynb#W0sZmlsZQ%3D%3D?line=19'>20</a>\u001b[0m fp_fixtureapi_id(fixtureapi_id, space)\n\u001b[0;32m     <a href='vscode-notebook-cell:/c%3A/Users/ASUS/AryaDataAnalyst/pr_py_buzz_2023_07/football_pattern_from/by%20fixture.ipynb#W0sZmlsZQ%3D%3D?line=20'>21</a>\u001b[0m \u001b[39m# --------------------------------------------------  \u001b[39;00m\n\u001b[0;32m     <a href='vscode-notebook-cell:/c%3A/Users/ASUS/AryaDataAnalyst/pr_py_buzz_2023_07/football_pattern_from/by%20fixture.ipynb#W0sZmlsZQ%3D%3D?line=21'>22</a>\u001b[0m \u001b[39mprint\u001b[39m(space \u001b[39m+\u001b[39m \u001b[39m\"\u001b[39m\u001b[39mfixtureapi_id: \u001b[39m\u001b[39m\"\u001b[39m \u001b[39m+\u001b[39m \u001b[39mstr\u001b[39m(fixtureapi_id), flush\u001b[39m=\u001b[39m\u001b[39mTrue\u001b[39;00m)\n",
      "File \u001b[1;32mc:\\Users\\ASUS\\AryaDataAnalyst\\pr_py_buzz_2023_07\\football_pattern_from\\..\\a_models\\football_pattern.py:511\u001b[0m, in \u001b[0;36mfp_fixtureapi_id\u001b[1;34m(fixtureapi_id, space)\u001b[0m\n\u001b[0;32m    509\u001b[0m \u001b[39m# ---------------------------------------------- Pre-Pre \u001b[39;00m\n\u001b[0;32m    510\u001b[0m fP_DELETE_football_pattern_from(leagueapi_id, pre_ah_pattern, pre_gou_pattern, pre_ah_pattern, pre_gou_pattern, space)\n\u001b[1;32m--> 511\u001b[0m fP_DELETE_football_pattern_from(leagueapi_id, pre_ah_pattern_mirror, pre_gou_pattern, pre_ah_pattern_mirror, pre_gou_pattern, space)\n\u001b[0;32m    512\u001b[0m \u001b[39m# ---------------------------------------------- Pre-End \u001b[39;00m\n\u001b[0;32m    513\u001b[0m fP_DELETE_football_pattern_from(leagueapi_id, pre_ah_pattern, pre_gou_pattern, end_ah_pattern, end_gou_pattern, space)\n",
      "File \u001b[1;32mc:\\Users\\ASUS\\AryaDataAnalyst\\pr_py_buzz_2023_07\\football_pattern_from\\..\\a_models\\football_pattern.py:612\u001b[0m, in \u001b[0;36mfP_DELETE_football_pattern_from\u001b[1;34m(leagueapi_id, pre_ah_pattern, pre_gou_pattern, end_ah_pattern, end_gou_pattern, space)\u001b[0m\n\u001b[0;32m    610\u001b[0m \u001b[39mprint\u001b[39m(space \u001b[39m+\u001b[39m query_commit, flush\u001b[39m=\u001b[39m\u001b[39mTrue\u001b[39;00m)\n\u001b[0;32m    611\u001b[0m \u001b[39m# ----------------------------------------------------------    \u001b[39;00m\n\u001b[1;32m--> 612\u001b[0m mycursor\u001b[39m.\u001b[39;49mexecute(query_commit)\n\u001b[0;32m    613\u001b[0m mydb\u001b[39m.\u001b[39mcommit()     \n\u001b[0;32m    614\u001b[0m \u001b[39m# ----------------------------------------------------------   \u001b[39;00m\n",
      "File \u001b[1;32mc:\\Users\\ASUS\\anaconda3\\lib\\site-packages\\mysql\\connector\\cursor_cext.py:269\u001b[0m, in \u001b[0;36mCMySQLCursor.execute\u001b[1;34m(self, operation, params, multi)\u001b[0m\n\u001b[0;32m    265\u001b[0m             \u001b[39mraise\u001b[39;00m errors\u001b[39m.\u001b[39mProgrammingError(\n\u001b[0;32m    266\u001b[0m                 \u001b[39m\"\u001b[39m\u001b[39mNot all parameters were used in the SQL statement\u001b[39m\u001b[39m\"\u001b[39m)\n\u001b[0;32m    268\u001b[0m \u001b[39mtry\u001b[39;00m:\n\u001b[1;32m--> 269\u001b[0m     result \u001b[39m=\u001b[39m \u001b[39mself\u001b[39;49m\u001b[39m.\u001b[39;49m_cnx\u001b[39m.\u001b[39;49mcmd_query(stmt, raw\u001b[39m=\u001b[39;49m\u001b[39mself\u001b[39;49m\u001b[39m.\u001b[39;49m_raw,\n\u001b[0;32m    270\u001b[0m                                  buffered\u001b[39m=\u001b[39;49m\u001b[39mself\u001b[39;49m\u001b[39m.\u001b[39;49m_buffered,\n\u001b[0;32m    271\u001b[0m                                  raw_as_string\u001b[39m=\u001b[39;49m\u001b[39mself\u001b[39;49m\u001b[39m.\u001b[39;49m_raw_as_string)\n\u001b[0;32m    272\u001b[0m \u001b[39mexcept\u001b[39;00m MySQLInterfaceError \u001b[39mas\u001b[39;00m exc:\n\u001b[0;32m    273\u001b[0m     \u001b[39mraise\u001b[39;00m errors\u001b[39m.\u001b[39mget_mysql_exception(msg\u001b[39m=\u001b[39mexc\u001b[39m.\u001b[39mmsg, errno\u001b[39m=\u001b[39mexc\u001b[39m.\u001b[39merrno,\n\u001b[0;32m    274\u001b[0m                                      sqlstate\u001b[39m=\u001b[39mexc\u001b[39m.\u001b[39msqlstate)\n",
      "File \u001b[1;32mc:\\Users\\ASUS\\anaconda3\\lib\\site-packages\\mysql\\connector\\connection_cext.py:535\u001b[0m, in \u001b[0;36mCMySQLConnection.cmd_query\u001b[1;34m(self, query, raw, buffered, raw_as_string)\u001b[0m\n\u001b[0;32m    533\u001b[0m     \u001b[39mif\u001b[39;00m \u001b[39mnot\u001b[39;00m \u001b[39misinstance\u001b[39m(query, \u001b[39mbytes\u001b[39m):\n\u001b[0;32m    534\u001b[0m         query \u001b[39m=\u001b[39m query\u001b[39m.\u001b[39mencode(\u001b[39m'\u001b[39m\u001b[39mutf-8\u001b[39m\u001b[39m'\u001b[39m)\n\u001b[1;32m--> 535\u001b[0m     \u001b[39mself\u001b[39;49m\u001b[39m.\u001b[39;49m_cmysql\u001b[39m.\u001b[39;49mquery(query,\n\u001b[0;32m    536\u001b[0m                        raw\u001b[39m=\u001b[39;49mraw, buffered\u001b[39m=\u001b[39;49mbuffered,\n\u001b[0;32m    537\u001b[0m                        raw_as_string\u001b[39m=\u001b[39;49mraw_as_string,\n\u001b[0;32m    538\u001b[0m                        query_attrs\u001b[39m=\u001b[39;49m\u001b[39mself\u001b[39;49m\u001b[39m.\u001b[39;49m_query_attrs)\n\u001b[0;32m    539\u001b[0m \u001b[39mexcept\u001b[39;00m MySQLInterfaceError \u001b[39mas\u001b[39;00m exc:\n\u001b[0;32m    540\u001b[0m     \u001b[39mraise\u001b[39;00m errors\u001b[39m.\u001b[39mget_mysql_exception(exc\u001b[39m.\u001b[39merrno, msg\u001b[39m=\u001b[39mexc\u001b[39m.\u001b[39mmsg,\n\u001b[0;32m    541\u001b[0m                                      sqlstate\u001b[39m=\u001b[39mexc\u001b[39m.\u001b[39msqlstate)\n",
      "\u001b[1;31mKeyboardInterrupt\u001b[0m: "
     ]
    }
   ],
   "source": [
    "# Import \n",
    "import sys\n",
    "sys.path.append('../')\n",
    "\n",
    "from a_settings.messages import *   \n",
    "from a_models.date import *   \n",
    "from a_models.football_pattern import *    \n",
    "     \n",
    "if __name__ == '__main__': \n",
    "    # --------------------------------------------------  \n",
    "    its_start()\n",
    "    # --------------------------------------------------  \n",
    "    space = \"  __\"\n",
    "    print(space + \"main()\", flush=True)   \n",
    "    # --------------------------------------------------   \n",
    "    fixtureapi_id    = input(space + \"Enter your fixtureapi_id :  \")  \n",
    "    # fixtureapi_id = 1035053\n",
    "    print(space + str(fixtureapi_id), flush=True)\n",
    "    # --------------------------------------------------     \n",
    "    fp_fixtureapi_id(fixtureapi_id, space)\n",
    "    # --------------------------------------------------  \n",
    "    print(space + \"fixtureapi_id: \" + str(fixtureapi_id), flush=True)\n",
    "    # --------------------------------------------------  \n",
    "    # -------------------------------------------------- \n",
    "    its_end()  \n",
    "    ####################################################"
   ]
  }
 ],
 "metadata": {
  "kernelspec": {
   "display_name": "base",
   "language": "python",
   "name": "python3"
  },
  "language_info": {
   "codemirror_mode": {
    "name": "ipython",
    "version": 3
   },
   "file_extension": ".py",
   "mimetype": "text/x-python",
   "name": "python",
   "nbconvert_exporter": "python",
   "pygments_lexer": "ipython3",
   "version": "3.9.12"
  },
  "orig_nbformat": 4
 },
 "nbformat": 4,
 "nbformat_minor": 2
}
