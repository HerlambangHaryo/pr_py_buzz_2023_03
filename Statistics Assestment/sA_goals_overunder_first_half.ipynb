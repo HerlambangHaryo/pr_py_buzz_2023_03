{
 "cells": [
  {
   "cell_type": "code",
   "execution_count": 12,
   "id": "af5134eb",
   "metadata": {},
   "outputs": [
    {
     "name": "stdout",
     "output_type": "stream",
     "text": [
      "__Select  goals_home  , goals_away  , score_halftime_home  , score_halftime_away  , score_secondtime_home  , score_secondtime_away  from football_statistics  where fixture_status in ('Match Finished', 'Match Finished Ended')  and score_halftime_home is not null  and score_halftime_away is not null  and score_secondtime_home is not null  and score_secondtime_away is not null \n",
      "__Total Row(s) : 109962\n"
     ]
    }
   ],
   "source": [
    "# Import\n",
    "import mysql.connector  \n",
    "import pandas as pd\n",
    "# ----------------------------------------------------------\n",
    "space = \"__\"\n",
    "# ---------------------------------------------------------- \n",
    "host=\"localhost\"\n",
    "user=\"root\" \n",
    "database=\"pr_mmbuzz_2022_06\"\n",
    "mydb = mysql.connector.connect(host=host,user=user,password=\"\",database=database)\n",
    "mycursor = mydb.cursor()\n",
    "# ---------------------------------------------------------- \n",
    "query = \"Select \"\n",
    "query += \" goals_home \"\n",
    "query += \" , goals_away \"\n",
    "query += \" , score_halftime_home \"\n",
    "query += \" , score_halftime_away \"\n",
    "query += \" , score_secondtime_home \"\n",
    "query += \" , score_secondtime_away \"\n",
    "query += \" from football_statistics \"\n",
    "query += \" where fixture_status in ('Match Finished', 'Match Finished Ended') \"\n",
    "# ---------------------------------------------------------- \n",
    "query += \" and score_halftime_home is not null \"\n",
    "query += \" and score_halftime_away is not null \"\n",
    "query += \" and score_secondtime_home is not null \"\n",
    "query += \" and score_secondtime_away is not null \"\n",
    "# ----------------------------------------------------------   \n",
    "# query += \" limit 10 \"\n",
    "print(space + query, flush=True)\n",
    "# ----------------------------------------------------------    \n",
    "mycursor.execute(query)   \n",
    "rows    = mycursor.fetchall() \n",
    "df      = pd.DataFrame(rows, columns=[i[0] for i in mycursor.description])\n",
    "# ----------------------------------------------------------    \n",
    "mycursor.close()\n",
    "mydb.close()\n",
    "# ---------------------------------------------------------- \n",
    "pd.set_option('display.max_rows', None) \n",
    "pd.set_option('display.width', 120)\n",
    "# ---------------------------------------------------------- \n",
    "total_rows = len(rows)\n",
    "# ----------------------------------------------------------    \n",
    "print(space + \"Total Row(s) : \" + str(total_rows), flush=True) \n",
    "# close the cursor and database connection\n",
    "mycursor.close()\n",
    "mydb.close()\n",
    "# ---------------------------------------------------------- \n",
    "# print(\"\", flush=True)\n",
    "# print(df, flush=True)\n",
    "# print(\"\", flush=True)"
   ]
  }
 ],
 "metadata": {
  "kernelspec": {
   "display_name": "Python 3 (ipykernel)",
   "language": "python",
   "name": "python3"
  },
  "language_info": {
   "codemirror_mode": {
    "name": "ipython",
    "version": 3
   },
   "file_extension": ".py",
   "mimetype": "text/x-python",
   "name": "python",
   "nbconvert_exporter": "python",
   "pygments_lexer": "ipython3",
   "version": "3.9.12"
  }
 },
 "nbformat": 4,
 "nbformat_minor": 5
}
