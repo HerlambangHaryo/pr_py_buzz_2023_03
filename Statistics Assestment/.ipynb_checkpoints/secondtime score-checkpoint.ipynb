{
 "cells": [
  {
   "cell_type": "code",
   "execution_count": 1,
   "id": "9081c54d",
   "metadata": {},
   "outputs": [
    {
     "name": "stdout",
     "output_type": "stream",
     "text": [
      "__Select  goals_home  , goals_away  , score_halftime_home  , score_halftime_away  , score_secondtime_home  , score_secondtime_away  from football_statistics  where fixture_status in ('Match Finished', 'Match Finished Ended')  and score_halftime_home is not null  and score_halftime_away is not null  and score_secondtime_home is null  and score_secondtime_away is null \n",
      "__Total Row(s) : 106453\n"
     ]
    }
   ],
   "source": [
    "# Import\n",
    "import mysql.connector   \n",
    "# ---------------------------------------------------------- \n",
    "host=\"localhost\"\n",
    "user=\"root\" \n",
    "database=\"pr_mmbuzz_2022_06\"\n",
    "mydb = mysql.connector.connect(host=host,user=user,password=\"\",database=database)\n",
    "mycursor = mydb.cursor()\n",
    "# ----------------------------------------------------------  \n",
    "odds = \"UPDATE `football_odds` SET \"   \n",
    "odds += \"`score_secondtime_home` = `goals_home` - `score_halftime_home`, \"   \n",
    "odds += \"`score_secondtime_away` = `goals_away` - `score_halftime_away` \"   \n",
    "# ---------------------------------------------------------- \n",
    "odds += \" where fixture_status in ('Match Finished', 'Match Finished Ended') \"\n",
    "# ---------------------------------------------------------- \n",
    "odds += \" and score_halftime_home is not null \"\n",
    "odds += \" and score_halftime_away is not null \"\n",
    "odds += \" and score_secondtime_home is null \"\n",
    "odds += \" and score_secondtime_away is null \"\n",
    "# ----------------------------------------------------------  \n",
    "mycursor.execute(odds)\n",
    "mydb.commit()     \n",
    "# ----------------------------------------------------------  \n",
    "mycursor.close()\n",
    "mydb.close()  \n",
    "# ----------------------------------------------------------  \n",
    "\n",
    "\n",
    "# ---------------------------------------------------------- \n",
    "host=\"localhost\"\n",
    "user=\"root\" \n",
    "database=\"pr_mmbuzz_2022_06\"\n",
    "mydb = mysql.connector.connect(host=host,user=user,password=\"\",database=database)\n",
    "mycursor = mydb.cursor()\n",
    "# ----------------------------------------------------------  \n",
    "statistics = \"UPDATE `football_statistics` SET \"   \n",
    "statistics += \"`score_secondtime_home` = `goals_home` - `score_halftime_home`, \"   \n",
    "statistics += \"`score_secondtime_away` = `goals_away` - `score_halftime_away` \"   \n",
    "# ---------------------------------------------------------- \n",
    "statistics += \" where fixture_status in ('Match Finished', 'Match Finished Ended') \"\n",
    "# ---------------------------------------------------------- \n",
    "statistics += \" and score_halftime_home is not null \"\n",
    "statistics += \" and score_halftime_away is not null \"\n",
    "statistics += \" and score_secondtime_home is null \"\n",
    "statistics += \" and score_secondtime_away is null \"\n",
    "# ----------------------------------------------------------  \n",
    "mycursor.execute(statistics)\n",
    "mydb.commit()     \n",
    "# ----------------------------------------------------------  \n",
    "mycursor.close()\n",
    "mydb.close()  \n",
    "# ----------------------------------------------------------  "
   ]
  }
 ],
 "metadata": {
  "kernelspec": {
   "display_name": "Python 3 (ipykernel)",
   "language": "python",
   "name": "python3"
  },
  "language_info": {
   "codemirror_mode": {
    "name": "ipython",
    "version": 3
   },
   "file_extension": ".py",
   "mimetype": "text/x-python",
   "name": "python",
   "nbconvert_exporter": "python",
   "pygments_lexer": "ipython3",
   "version": "3.9.12"
  }
 },
 "nbformat": 4,
 "nbformat_minor": 5
}
