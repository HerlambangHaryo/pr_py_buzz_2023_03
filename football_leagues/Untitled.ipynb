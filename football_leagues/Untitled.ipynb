{
 "cells": [
  {
   "cell_type": "code",
   "execution_count": 3,
   "id": "8d8c2836",
   "metadata": {},
   "outputs": [],
   "source": [
    "import requests\n",
    "\n",
    "url = \"https://api-football-v1.p.rapidapi.com/v3/leagues\"\n",
    "\n",
    "querystring = {\"country\":\"Indonesia\"}\n",
    "\n",
    "headers = {\n",
    "\t\"X-RapidAPI-Key\": \"0f5971b410mshc737f7de34dac9ep16aff3jsn20b96d52adec\",\n",
    "\t\"X-RapidAPI-Host\": \"api-football-v1.p.rapidapi.com\"\n",
    "}\n",
    "\n",
    "response = requests.get(url, headers=headers, params=querystring)\n"
   ]
  },
  {
   "cell_type": "code",
   "execution_count": 4,
   "id": "a3f62ff5",
   "metadata": {},
   "outputs": [
    {
     "name": "stdout",
     "output_type": "stream",
     "text": [
      "{'get': 'leagues', 'parameters': {'country': 'Indonesia'}, 'errors': [], 'results': 4, 'paging': {'current': 1, 'total': 1}, 'response': [{'league': {'id': 274, 'name': 'Liga 1', 'type': 'League', 'logo': 'https://media-3.api-sports.io/football/leagues/274.png'}, 'country': {'name': 'Indonesia', 'code': 'ID', 'flag': 'https://media-2.api-sports.io/flags/id.svg'}, 'seasons': [{'year': 2017, 'start': '2016-11-13', 'end': '2017-11-12', 'current': False, 'coverage': {'fixtures': {'events': False, 'lineups': False, 'statistics_fixtures': False, 'statistics_players': False}, 'standings': True, 'players': False, 'top_scorers': False, 'top_assists': False, 'top_cards': False, 'injuries': False, 'predictions': True, 'odds': False}}, {'year': 2018, 'start': '2018-03-23', 'end': '2018-12-09', 'current': False, 'coverage': {'fixtures': {'events': False, 'lineups': False, 'statistics_fixtures': False, 'statistics_players': False}, 'standings': True, 'players': False, 'top_scorers': False, 'top_assists': False, 'top_cards': False, 'injuries': False, 'predictions': True, 'odds': False}}, {'year': 2019, 'start': '2019-05-15', 'end': '2019-12-22', 'current': False, 'coverage': {'fixtures': {'events': True, 'lineups': True, 'statistics_fixtures': False, 'statistics_players': False}, 'standings': True, 'players': True, 'top_scorers': True, 'top_assists': True, 'top_cards': True, 'injuries': False, 'predictions': True, 'odds': False}}, {'year': 2020, 'start': '2020-02-29', 'end': '2021-02-28', 'current': False, 'coverage': {'fixtures': {'events': True, 'lineups': True, 'statistics_fixtures': False, 'statistics_players': False}, 'standings': True, 'players': True, 'top_scorers': True, 'top_assists': True, 'top_cards': True, 'injuries': False, 'predictions': True, 'odds': False}}, {'year': 2021, 'start': '2021-08-27', 'end': '2022-03-31', 'current': False, 'coverage': {'fixtures': {'events': True, 'lineups': True, 'statistics_fixtures': False, 'statistics_players': False}, 'standings': True, 'players': True, 'top_scorers': True, 'top_assists': True, 'top_cards': True, 'injuries': False, 'predictions': True, 'odds': False}}, {'year': 2022, 'start': '2022-07-23', 'end': '2023-04-22', 'current': False, 'coverage': {'fixtures': {'events': True, 'lineups': True, 'statistics_fixtures': False, 'statistics_players': False}, 'standings': True, 'players': True, 'top_scorers': True, 'top_assists': True, 'top_cards': True, 'injuries': False, 'predictions': True, 'odds': False}}, {'year': 2023, 'start': '2023-07-01', 'end': '2024-04-28', 'current': True, 'coverage': {'fixtures': {'events': True, 'lineups': True, 'statistics_fixtures': False, 'statistics_players': False}, 'standings': True, 'players': True, 'top_scorers': True, 'top_assists': True, 'top_cards': True, 'injuries': False, 'predictions': True, 'odds': True}}]}, {'league': {'id': 718, 'name': 'Piala Indonesia', 'type': 'Cup', 'logo': 'https://media-1.api-sports.io/football/leagues/718.png'}, 'country': {'name': 'Indonesia', 'code': 'ID', 'flag': 'https://media-2.api-sports.io/flags/id.svg'}, 'seasons': [{'year': 2018, 'start': '2018-05-08', 'end': '2019-08-06', 'current': True, 'coverage': {'fixtures': {'events': False, 'lineups': False, 'statistics_fixtures': False, 'statistics_players': False}, 'standings': False, 'players': False, 'top_scorers': False, 'top_assists': False, 'top_cards': False, 'injuries': False, 'predictions': True, 'odds': False}}]}, {'league': {'id': 275, 'name': 'Liga 2', 'type': 'League', 'logo': 'https://media-2.api-sports.io/football/leagues/275.png'}, 'country': {'name': 'Indonesia', 'code': 'ID', 'flag': 'https://media-1.api-sports.io/flags/id.svg'}, 'seasons': [{'year': 2019, 'start': '2019-11-10', 'end': '2019-11-25', 'current': False, 'coverage': {'fixtures': {'events': True, 'lineups': False, 'statistics_fixtures': False, 'statistics_players': False}, 'standings': True, 'players': False, 'top_scorers': False, 'top_assists': False, 'top_cards': False, 'injuries': False, 'predictions': True, 'odds': False}}, {'year': 2020, 'start': '2020-03-14', 'end': '2020-09-13', 'current': False, 'coverage': {'fixtures': {'events': False, 'lineups': False, 'statistics_fixtures': False, 'statistics_players': False}, 'standings': True, 'players': False, 'top_scorers': False, 'top_assists': False, 'top_cards': False, 'injuries': False, 'predictions': True, 'odds': False}}, {'year': 2021, 'start': '2021-09-26', 'end': '2021-12-30', 'current': False, 'coverage': {'fixtures': {'events': True, 'lineups': False, 'statistics_fixtures': False, 'statistics_players': False}, 'standings': True, 'players': False, 'top_scorers': False, 'top_assists': False, 'top_cards': False, 'injuries': False, 'predictions': True, 'odds': False}}, {'year': 2022, 'start': '2022-08-28', 'end': '2023-01-08', 'current': True, 'coverage': {'fixtures': {'events': True, 'lineups': False, 'statistics_fixtures': False, 'statistics_players': False}, 'standings': True, 'players': True, 'top_scorers': True, 'top_assists': True, 'top_cards': True, 'injuries': False, 'predictions': True, 'odds': False}}]}, {'league': {'id': 924, 'name': 'Piala Presiden', 'type': 'Cup', 'logo': 'https://media-3.api-sports.io/football/leagues/924.png'}, 'country': {'name': 'Indonesia', 'code': 'ID', 'flag': 'https://media-3.api-sports.io/flags/id.svg'}, 'seasons': [{'year': 2022, 'start': '2022-06-11', 'end': '2022-07-17', 'current': True, 'coverage': {'fixtures': {'events': True, 'lineups': False, 'statistics_fixtures': False, 'statistics_players': False}, 'standings': False, 'players': False, 'top_scorers': False, 'top_assists': False, 'top_cards': False, 'injuries': False, 'predictions': True, 'odds': False}}]}]}\n"
     ]
    }
   ],
   "source": [
    "\n",
    "print(response.json())"
   ]
  }
 ],
 "metadata": {
  "kernelspec": {
   "display_name": "Python 3 (ipykernel)",
   "language": "python",
   "name": "python3"
  },
  "language_info": {
   "codemirror_mode": {
    "name": "ipython",
    "version": 3
   },
   "file_extension": ".py",
   "mimetype": "text/x-python",
   "name": "python",
   "nbconvert_exporter": "python",
   "pygments_lexer": "ipython3",
   "version": "3.9.12"
  }
 },
 "nbformat": 4,
 "nbformat_minor": 5
}
