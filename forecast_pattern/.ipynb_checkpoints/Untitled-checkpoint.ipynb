{
 "cells": [
  {
   "cell_type": "code",
   "execution_count": null,
   "id": "97d07ed2",
   "metadata": {},
   "outputs": [],
   "source": [
    "# Import \n",
    "\n",
    "# Import\n",
    "import sys\n",
    "sys.path.append('../')\n",
    "\n",
    "\n",
    "from a_settings.messages import *   \n",
    "from a_models.date import *   \n",
    "from a_models.football_forecast_pattern import *     \n",
    "     \n",
    "if __name__ == '__main__': \n",
    "    # --------------------------------------------------  \n",
    "    its_start()\n",
    "    # --------------------------------------------------  \n",
    "    space = \"  __\"\n",
    "    print(space + \"main()\", flush=True)  \n",
    "    # --------------------------------------------------    \n",
    "    space += \"__\" \n",
    "    # --------------------------------------------------    \n",
    "    leagueapi_id   = input(space + \"Enter your leagueapi id :  \")\n",
    "    season         = input(space + \"Enter your season :  \")   \n",
    "    # --------------------------------------------------    \n",
    "    ffp_get_fixtures_by_league(leagueapi_id, season, space)\n",
    "    # --------------------------------------------------   \n",
    "    its_end()  \n",
    "    ####################################################"
   ]
  }
 ],
 "metadata": {
  "kernelspec": {
   "display_name": "Python 3 (ipykernel)",
   "language": "python",
   "name": "python3"
  },
  "language_info": {
   "codemirror_mode": {
    "name": "ipython",
    "version": 3
   },
   "file_extension": ".py",
   "mimetype": "text/x-python",
   "name": "python",
   "nbconvert_exporter": "python",
   "pygments_lexer": "ipython3",
   "version": "3.9.12"
  }
 },
 "nbformat": 4,
 "nbformat_minor": 5
}
