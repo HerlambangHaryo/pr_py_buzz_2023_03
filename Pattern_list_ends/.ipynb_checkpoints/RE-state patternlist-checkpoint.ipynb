{
 "cells": [
  {
   "cell_type": "code",
   "execution_count": 2,
   "id": "41af95bd",
   "metadata": {},
   "outputs": [
    {
     "name": "stdout",
     "output_type": "stream",
     "text": [
      "# -------------------------------------------------- Start at 2023-04-27 11:21:19\n",
      "  __main__\n",
      "  ____Enter your leagueapi id :  39\n",
      "# -------------------------------------------------- End at 2023-04-27 11:21:21\n"
     ]
    }
   ],
   "source": [
    "import datetime \n",
    "\n",
    "# Import\n",
    "import sys\n",
    "sys.path.append('../')\n",
    "\n",
    "from a_settings.messages import *   \n",
    "\n",
    "if __name__ == '__main__': \n",
    "    # ----------------------------------------------------------   \n",
    "    its_start() \n",
    "    # ----------------------------------------------------------  \n",
    "    space = \"  __\"\n",
    "    # ----------------------------------------------------------   \n",
    "    print(space + \"__main__\") \n",
    "    # ----------------------------------------------------------  \n",
    "    space += \"__\"  \n",
    "    # ----------------------------------------------------------  \n",
    "    leagueapi_id   = input(space + \"Enter your leagueapi id :  \") \n",
    "    # ----------------------------------------------------------   \n",
    "    # ---------------------------------------------------------- \n",
    "    its_end()  \n",
    "    ############################################################\n",
    "     "
   ]
  }
 ],
 "metadata": {
  "kernelspec": {
   "display_name": "Python 3 (ipykernel)",
   "language": "python",
   "name": "python3"
  },
  "language_info": {
   "codemirror_mode": {
    "name": "ipython",
    "version": 3
   },
   "file_extension": ".py",
   "mimetype": "text/x-python",
   "name": "python",
   "nbconvert_exporter": "python",
   "pygments_lexer": "ipython3",
   "version": "3.9.12"
  }
 },
 "nbformat": 4,
 "nbformat_minor": 5
}
