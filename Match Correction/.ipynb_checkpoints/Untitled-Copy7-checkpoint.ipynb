{
 "cells": [
  {
   "cell_type": "code",
   "execution_count": null,
   "id": "e74a32a7",
   "metadata": {},
   "outputs": [
    {
     "name": "stdout",
     "output_type": "stream",
     "text": [
      "# -------------------------------------------------- Start at 2023-05-08 22:35:11\n",
      "  __main()\n"
     ]
    }
   ],
   "source": [
    "# Import\n",
    "import sys\n",
    "sys.path.append('../')\n",
    "\n",
    "from a_settings.messages import *    \n",
    "from a_models.api_fixtures import *    \n",
    "\n",
    "if __name__ == '__main__': \n",
    "    # --------------------------------------------------  \n",
    "    its_start()\n",
    "    # --------------------------------------------------  \n",
    "    space = \"  __\"\n",
    "    print(space + \"main()\") \n",
    "    # --------------------------------------------------   \n",
    "    space += \"__\"\n",
    "    # --------------------------------------------------   \n",
    "    leagueapi_id   = input(space + \"Enter your leagueapi id :  \")\n",
    "    season         = input(space + \"Enter your season :  \")   \n",
    "    # --------------------------------------------------  \n",
    "    DICT = {\n",
    "        'leagueapi_id' :leagueapi_id,\n",
    "        'season' :season, \n",
    "    }\n",
    "    # --------------------------------------------------- \n",
    "    ROUTES = 'all_match'\n",
    "    af_controll_match_update(DICT, ROUTES, space)\n",
    "    # -------------------------------------------------- \n",
    "    its_end()  \n",
    "    ####################################################"
   ]
  }
 ],
 "metadata": {
  "kernelspec": {
   "display_name": "Python 3 (ipykernel)",
   "language": "python",
   "name": "python3"
  },
  "language_info": {
   "codemirror_mode": {
    "name": "ipython",
    "version": 3
   },
   "file_extension": ".py",
   "mimetype": "text/x-python",
   "name": "python",
   "nbconvert_exporter": "python",
   "pygments_lexer": "ipython3",
   "version": "3.9.12"
  }
 },
 "nbformat": 4,
 "nbformat_minor": 5
}
