{
 "cells": [
  {
   "cell_type": "code",
   "execution_count": null,
   "metadata": {},
   "outputs": [],
   "source": [
    "# Import \n",
    "import sys\n",
    "sys.path.append('../')\n",
    "\n",
    "import mysql.connector  \n",
    "from a_models.api_fixtures_new_2 import *   \n",
    "\n",
    "# --------------------------------------------------\n",
    "space = \"__\"\n",
    "# --------------------------------------------------\n",
    "ROUTES = 'fixtureapi_id'\n",
    "word = space + \" ROUTES: \" + ROUTES  \n",
    "print(word, flush=True)      \n",
    "# --------------------------------------------------\n",
    "DICT = {\n",
    "    'fixtureapi_id' :\"1035046\",  \n",
    "}\n",
    "# --------------------------------------------------\n",
    "afN2_controll_match_update(DICT, ROUTES, space) "
   ]
  }
 ],
 "metadata": {
  "kernelspec": {
   "display_name": "base",
   "language": "python",
   "name": "python3"
  },
  "language_info": {
   "codemirror_mode": {
    "name": "ipython",
    "version": 3
   },
   "file_extension": ".py",
   "mimetype": "text/x-python",
   "name": "python",
   "nbconvert_exporter": "python",
   "pygments_lexer": "ipython3",
   "version": "3.9.12"
  },
  "orig_nbformat": 4
 },
 "nbformat": 4,
 "nbformat_minor": 2
}
