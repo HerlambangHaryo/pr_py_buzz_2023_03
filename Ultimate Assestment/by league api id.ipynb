{
 "cells": [
  {
   "cell_type": "code",
   "execution_count": 1,
   "id": "d2572531",
   "metadata": {},
   "outputs": [
    {
     "name": "stdout",
     "output_type": "stream",
     "text": [
      "# -------------------------------------------------- Start at 2023-05-27 00:10:50\n",
      "  ____main__\n",
      "  ____Enter your leagueapi id : 39\n",
      "  ____Enter your season : 2022\n",
      "  ______fS_check_date_is_null()\n",
      "  ______ SELECT   fixtureapi_id  , leagueapi_id  , season  , teams_homeapi_id  , teams_awayapi_id  , date FROM football_statistics WHERE leagueapi_id = '39'  and season = '2022'  and fixture_status in ('Match Finished', 'Match Finished Ended')  and date is null  order by fixtureapi_id asc \n",
      "  ______Total Row(s) : 0\n",
      "  ________fS_get_match_finished_for_ultimate_assessment()\n",
      "  ________ SELECT   fixtureapi_id  , leagueapi_id  , season  , teams_homeapi_id  , teams_awayapi_id  , date FROM football_statistics WHERE leagueapi_id = '39'  and season = '2022'  and fixture_status in ('Match Finished', 'Match Finished Ended')  order by date asc \n",
      "  ________Total Row(s) : 369\n",
      "  ________[1/369]  2022-08-05 19:00:00 #867946  39 - 2022 [52 vs 42] \n",
      "\n",
      "  ________[2/369]  2022-08-06 11:30:00 #867947  39 - 2022 [36 vs 40] \n",
      "\n",
      "  ________[3/369]  2022-08-06 14:00:00 #867948  39 - 2022 [35 vs 66] \n",
      "\n",
      "  ________[4/369]  2022-08-06 14:00:00 #867949  39 - 2022 [63 vs 39] \n",
      "\n",
      "  ________[5/369]  2022-08-06 14:00:00 #867951  39 - 2022 [34 vs 65] \n",
      "\n",
      "  ________[6/369]  2022-08-06 14:00:00 #867952  39 - 2022 [47 vs 41] \n",
      "\n",
      "  ________[7/369]  2022-08-06 16:30:00 #867953  39 - 2022 [45 vs 49] \n",
      "\n",
      "  ________[8/369]  2022-08-07 13:00:00 #867950  39 - 2022 [46 vs 55] \n",
      "\n",
      "  ________[9/369]  2022-08-07 13:00:00 #867954  39 - 2022 [33 vs 51] \n",
      "\n",
      "  ________[10/369]  2022-08-07 15:30:00 #867955  39 - 2022 [48 vs 50] \n",
      "\n",
      "  ________[11/369]  2022-08-13 11:30:00 #867957  39 - 2022 [66 vs 45] \n",
      "  __________[1/1]  2022-08-06 14:00:00 #867948  39 - 2022 [66]  goals: 0\n",
      "  ______________Total Rows: 1\n",
      "  ______________Match Played: 1\n",
      "  ______________Match Played as Home : 0\n",
      "  ______________goals ratio: 0.0\n",
      "  ______________half ratio: 0.0\n",
      "  ______________second ratio: 0.0\n",
      "\n",
      "  ______________Match Played as Away : 1\n",
      "  ______________corners ratio: 5.0\n",
      "  ______________yellows ratio: 3.0\n",
      "  ______________cards ratio: 3.0\n",
      "  __________[1/1]  2022-08-06 16:30:00 #867953  39 - 2022 [45]  goals: 0\n"
     ]
    },
    {
     "ename": "UnboundLocalError",
     "evalue": "local variable 'goals_totals_against' referenced before assignment",
     "output_type": "error",
     "traceback": [
      "\u001b[1;31m---------------------------------------------------------------------------\u001b[0m",
      "\u001b[1;31mUnboundLocalError\u001b[0m                         Traceback (most recent call last)",
      "Input \u001b[1;32mIn [1]\u001b[0m, in \u001b[0;36m<cell line: 8>\u001b[1;34m()\u001b[0m\n\u001b[0;32m     19\u001b[0m season \u001b[38;5;241m=\u001b[39m \u001b[38;5;28minput\u001b[39m(space \u001b[38;5;241m+\u001b[39m \u001b[38;5;124m\"\u001b[39m\u001b[38;5;124mEnter your season : \u001b[39m\u001b[38;5;124m\"\u001b[39m)\n\u001b[0;32m     20\u001b[0m \u001b[38;5;66;03m# ----------------------------------------------------------  \u001b[39;00m\n\u001b[1;32m---> 21\u001b[0m \u001b[43mfS_check_date_is_null\u001b[49m\u001b[43m(\u001b[49m\u001b[43mleagueapi_id\u001b[49m\u001b[43m,\u001b[49m\u001b[43m \u001b[49m\u001b[43mseason\u001b[49m\u001b[43m,\u001b[49m\u001b[43m \u001b[49m\u001b[43mspace\u001b[49m\u001b[43m)\u001b[49m\n\u001b[0;32m     22\u001b[0m \u001b[38;5;66;03m# ---------------------------------------------------------- \u001b[39;00m\n\u001b[0;32m     23\u001b[0m its_end()\n",
      "File \u001b[1;32m~\\AryaDataAnalyst\\pr_py_buzz_2023_03\\Ultimate Assestment\\..\\a_models\\football_statistics.py:136\u001b[0m, in \u001b[0;36mfS_check_date_is_null\u001b[1;34m(leagueapi_id_PARAM, season_PARAM, space)\u001b[0m\n\u001b[0;32m    132\u001b[0m         fO_import_date(fixtureapi_id, leagueapi_id_PARAM, season_PARAM, space)\n\u001b[0;32m    133\u001b[0m     \u001b[38;5;66;03m# ------------------------------------------------------  \u001b[39;00m\n\u001b[0;32m    134\u001b[0m     \u001b[38;5;66;03m# ------------------------------------------------------  \u001b[39;00m\n\u001b[0;32m    135\u001b[0m \u001b[38;5;66;03m# ----------------------------------------------------------  \u001b[39;00m\n\u001b[1;32m--> 136\u001b[0m \u001b[43mfS_get_match_finished_for_ultimate_assessment\u001b[49m\u001b[43m(\u001b[49m\u001b[43mleagueapi_id_PARAM\u001b[49m\u001b[43m,\u001b[49m\u001b[43m \u001b[49m\u001b[43mseason_PARAM\u001b[49m\u001b[43m,\u001b[49m\u001b[43m \u001b[49m\u001b[43mspace\u001b[49m\u001b[43m)\u001b[49m\n",
      "File \u001b[1;32m~\\AryaDataAnalyst\\pr_py_buzz_2023_03\\Ultimate Assestment\\..\\a_models\\football_statistics.py:205\u001b[0m, in \u001b[0;36mfS_get_match_finished_for_ultimate_assessment\u001b[1;34m(leagueapi_id_PARAM, season_PARAM, space)\u001b[0m\n\u001b[0;32m    203\u001b[0m \u001b[38;5;66;03m# ------------------------------------------------------ \u001b[39;00m\n\u001b[0;32m    204\u001b[0m fS_get_match_finished_for_ultimate_assessment_TEAM_DETAILS(fixtureapi_id, leagueapi_id, season, date, teams_homeapi_id, \u001b[38;5;124m'\u001b[39m\u001b[38;5;124mhome\u001b[39m\u001b[38;5;124m'\u001b[39m, space)\n\u001b[1;32m--> 205\u001b[0m \u001b[43mfS_get_match_finished_for_ultimate_assessment_TEAM_DETAILS\u001b[49m\u001b[43m(\u001b[49m\u001b[43mfixtureapi_id\u001b[49m\u001b[43m,\u001b[49m\u001b[43m \u001b[49m\u001b[43mleagueapi_id\u001b[49m\u001b[43m,\u001b[49m\u001b[43m \u001b[49m\u001b[43mseason\u001b[49m\u001b[43m,\u001b[49m\u001b[43m \u001b[49m\u001b[43mdate\u001b[49m\u001b[43m,\u001b[49m\u001b[43m \u001b[49m\u001b[43mteams_awayapi_id\u001b[49m\u001b[43m,\u001b[49m\u001b[43m \u001b[49m\u001b[38;5;124;43m'\u001b[39;49m\u001b[38;5;124;43maway\u001b[39;49m\u001b[38;5;124;43m'\u001b[39;49m\u001b[43m,\u001b[49m\u001b[43m \u001b[49m\u001b[43mspace\u001b[49m\u001b[43m)\u001b[49m\n\u001b[0;32m    206\u001b[0m \u001b[38;5;28mprint\u001b[39m(\u001b[38;5;124m\"\u001b[39m\u001b[38;5;124m\"\u001b[39m)\n",
      "File \u001b[1;32m~\\AryaDataAnalyst\\pr_py_buzz_2023_03\\Ultimate Assestment\\..\\a_models\\football_statistics.py:392\u001b[0m, in \u001b[0;36mfS_get_match_finished_for_ultimate_assessment_TEAM_DETAILS\u001b[1;34m(fixtureapi_id_PARAM, leagueapi_id_PARAM, season_PARAM, date, teams_api_id, team_status, space)\u001b[0m\n\u001b[0;32m    390\u001b[0m cards_total \u001b[38;5;241m+\u001b[39m\u001b[38;5;241m=\u001b[39m yellow_cards \u001b[38;5;241m+\u001b[39m red_cards\n\u001b[0;32m    391\u001b[0m \u001b[38;5;66;03m# ----------------------------------------- _against\u001b[39;00m\n\u001b[1;32m--> 392\u001b[0m goals_totals_against \u001b[38;5;241m+\u001b[39m\u001b[38;5;241m=\u001b[39m goals_against\n\u001b[0;32m    393\u001b[0m halfs_totals_against \u001b[38;5;241m+\u001b[39m\u001b[38;5;241m=\u001b[39m score_halftime_against\n\u001b[0;32m    394\u001b[0m seconds_total \u001b[38;5;241m+\u001b[39m\u001b[38;5;241m=\u001b[39m score_secondtime_against\n",
      "\u001b[1;31mUnboundLocalError\u001b[0m: local variable 'goals_totals_against' referenced before assignment"
     ]
    }
   ],
   "source": [
    "# Import\n",
    "import sys\n",
    "sys.path.append('../')\n",
    "\n",
    "from a_settings.messages import *   \n",
    "from a_models.football_statistics import *  \n",
    "     \n",
    "if __name__ == '__main__': \n",
    "    # --------------------------------------------------  \n",
    "    its_start()\n",
    "    # --------------------------------------------------  \n",
    "    space = \"  __\"\n",
    "    # ----------------------------------------------------------   \n",
    "    print(space + \"__main__\") \n",
    "    # ----------------------------------------------------------  \n",
    "    space += \"__\"  \n",
    "    # ----------------------------------------------------------   \n",
    "    leagueapi_id = input(space + \"Enter your leagueapi id : \") \n",
    "    season = input(space + \"Enter your season : \")\n",
    "    # ----------------------------------------------------------  \n",
    "    fS_check_date_is_null(leagueapi_id, season, space)\n",
    "    # ---------------------------------------------------------- \n",
    "    its_end()  \n",
    "    ############################################################"
   ]
  }
 ],
 "metadata": {
  "kernelspec": {
   "display_name": "Python 3 (ipykernel)",
   "language": "python",
   "name": "python3"
  },
  "language_info": {
   "codemirror_mode": {
    "name": "ipython",
    "version": 3
   },
   "file_extension": ".py",
   "mimetype": "text/x-python",
   "name": "python",
   "nbconvert_exporter": "python",
   "pygments_lexer": "ipython3",
   "version": "3.9.12"
  }
 },
 "nbformat": 4,
 "nbformat_minor": 5
}
