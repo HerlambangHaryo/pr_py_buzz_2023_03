{
 "cells": [
  {
   "cell_type": "code",
   "execution_count": 1,
   "id": "47e84b53",
   "metadata": {},
   "outputs": [
    {
     "name": "stdout",
     "output_type": "stream",
     "text": [
      "# -------------------------------------------------- Start at 2023-05-26 01:01:40\n",
      "  __main()\n",
      "  ____Enter your fixture id : 868264\n",
      "  ______fS_check_date_is_null()\n",
      "  ______ SELECT   fixtureapi_id  , leagueapi_id  , season  , teams_homeapi_id  , teams_awayapi_id  , date FROM football_statistics WHERE fixtureapi_id = '868264'  and date is null  order by fixtureapi_id asc \n",
      "  ______Total Row(s) : 0\n",
      "  ________fS_get_match_finished_for_ultimate_assessment()\n",
      "  ________ SELECT   fixtureapi_id  , leagueapi_id  , season  , teams_homeapi_id  , teams_awayapi_id  , date FROM football_statistics WHERE fixtureapi_id = '868264'  order by date asc \n",
      "  ________Total Row(s) : 1\n",
      "  ________[1/1]  2023-05-25 19:00:00 #868264  39 - 2022 [33 vs 49] \n",
      "  __________goals ratio: 1.4444444444444444\n",
      "  __________half ratio: 0.6388888888888888\n",
      "  __________second ratio: 0.8055555555555556\n",
      "  __________corners ratio: 5.194444444444445\n",
      "  __________yellows ratio: 2.111111111111111\n",
      "  __________cards ratio: 2.1666666666666665\n",
      "  __________goals ratio: 1.0\n",
      "  __________half ratio: 0.3888888888888889\n",
      "  __________second ratio: 0.6111111111111112\n",
      "  __________corners ratio: 5.416666666666667\n",
      "  __________yellows ratio: 2.2222222222222223\n",
      "  __________cards ratio: 2.3055555555555554\n",
      "\n",
      "# -------------------------------------------------- End at 2023-05-26 01:01:45\n"
     ]
    }
   ],
   "source": [
    "# Import\n",
    "import sys\n",
    "sys.path.append('../')\n",
    "\n",
    "from a_settings.messages import *   \n",
    "from a_models.football_statistics import *  \n",
    "     \n",
    "if __name__ == '__main__': \n",
    "    # ----------------------------------------------------------  \n",
    "    its_start()\n",
    "    # ----------------------------------------------------------  \n",
    "    space = \"  __\"\n",
    "    # ----------------------------------------------------------  \n",
    "    print(space + \"main()\", flush=True)  \n",
    "    # ----------------------------------------------------------  \n",
    "    space += \"__\" \n",
    "    # ----------------------------------------------------------  \n",
    "    fixtureapi_id = input(space + \"Enter your fixture id : \")  \n",
    "    # ----------------------------------------------------------  \n",
    "    fS_check_date_is_null(fixtureapi_id, 'fixtureapi_id', space)\n",
    "    # ---------------------------------------------------------- \n",
    "    its_end()  \n",
    "    ############################################################"
   ]
  }
 ],
 "metadata": {
  "kernelspec": {
   "display_name": "Python 3 (ipykernel)",
   "language": "python",
   "name": "python3"
  },
  "language_info": {
   "codemirror_mode": {
    "name": "ipython",
    "version": 3
   },
   "file_extension": ".py",
   "mimetype": "text/x-python",
   "name": "python",
   "nbconvert_exporter": "python",
   "pygments_lexer": "ipython3",
   "version": "3.9.12"
  }
 },
 "nbformat": 4,
 "nbformat_minor": 5
}
