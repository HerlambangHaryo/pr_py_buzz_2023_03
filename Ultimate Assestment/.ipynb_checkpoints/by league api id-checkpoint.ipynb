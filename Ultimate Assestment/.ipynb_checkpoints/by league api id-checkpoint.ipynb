{
 "cells": [
  {
   "cell_type": "code",
   "execution_count": 1,
   "id": "d2572531",
   "metadata": {},
   "outputs": [
    {
     "name": "stdout",
     "output_type": "stream",
     "text": [
      "# -------------------------------------------------- Start at 2023-05-26 22:50:49\n",
      "  ____main__\n",
      "  ____Enter your leagueapi id : 39\n",
      "  ____Enter your season : 2022\n"
     ]
    },
    {
     "ename": "NameError",
     "evalue": "name 'fS_check_date_is_null' is not defined",
     "output_type": "error",
     "traceback": [
      "\u001b[1;31m---------------------------------------------------------------------------\u001b[0m",
      "\u001b[1;31mNameError\u001b[0m                                 Traceback (most recent call last)",
      "Input \u001b[1;32mIn [1]\u001b[0m, in \u001b[0;36m<cell line: 8>\u001b[1;34m()\u001b[0m\n\u001b[0;32m     19\u001b[0m season \u001b[38;5;241m=\u001b[39m \u001b[38;5;28minput\u001b[39m(space \u001b[38;5;241m+\u001b[39m \u001b[38;5;124m\"\u001b[39m\u001b[38;5;124mEnter your season : \u001b[39m\u001b[38;5;124m\"\u001b[39m)\n\u001b[0;32m     20\u001b[0m \u001b[38;5;66;03m# ----------------------------------------------------------  \u001b[39;00m\n\u001b[1;32m---> 21\u001b[0m \u001b[43mfS_check_date_is_null\u001b[49m(leagueapi_id, season, space)\n\u001b[0;32m     22\u001b[0m \u001b[38;5;66;03m# ---------------------------------------------------------- \u001b[39;00m\n\u001b[0;32m     23\u001b[0m its_end()\n",
      "\u001b[1;31mNameError\u001b[0m: name 'fS_check_date_is_null' is not defined"
     ]
    }
   ],
   "source": [
    "# Import\n",
    "import sys\n",
    "sys.path.append('../')\n",
    "\n",
    "from a_settings.messages import *   \n",
    "from a_models.football_statistics import *  \n",
    "     \n",
    "if __name__ == '__main__': \n",
    "    # --------------------------------------------------  \n",
    "    its_start()\n",
    "    # --------------------------------------------------  \n",
    "    space = \"  __\"\n",
    "    # ----------------------------------------------------------   \n",
    "    print(space + \"__main__\") \n",
    "    # ----------------------------------------------------------  \n",
    "    space += \"__\"  \n",
    "    # ----------------------------------------------------------   \n",
    "    leagueapi_id = input(space + \"Enter your leagueapi id : \") \n",
    "    season = input(space + \"Enter your season : \")\n",
    "    # ----------------------------------------------------------  \n",
    "    fS_check_date_is_null(leagueapi_id, season, space)\n",
    "    # ---------------------------------------------------------- \n",
    "    its_end()  \n",
    "    ############################################################"
   ]
  }
 ],
 "metadata": {
  "kernelspec": {
   "display_name": "Python 3 (ipykernel)",
   "language": "python",
   "name": "python3"
  },
  "language_info": {
   "codemirror_mode": {
    "name": "ipython",
    "version": 3
   },
   "file_extension": ".py",
   "mimetype": "text/x-python",
   "name": "python",
   "nbconvert_exporter": "python",
   "pygments_lexer": "ipython3",
   "version": "3.9.12"
  }
 },
 "nbformat": 4,
 "nbformat_minor": 5
}
