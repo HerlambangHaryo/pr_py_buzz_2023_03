{
 "cells": [
  {
   "cell_type": "code",
   "execution_count": null,
   "id": "beecea61",
   "metadata": {},
   "outputs": [],
   "source": [
    "# Import\n",
    "import sys\n",
    "sys.path.append('../')\n",
    "\n",
    "from a_settings.messages import *   \n",
    "from a_models.football_statistics import *  \n",
    "     \n",
    "if __name__ == '__main__': \n",
    "    # ----------------------------------------------------------  \n",
    "    its_start()\n",
    "    # ----------------------------------------------------------  \n",
    "    space = \"  __\"\n",
    "    # ----------------------------------------------------------  \n",
    "    print(space + \"main()\", flush=True)  \n",
    "    # ----------------------------------------------------------  \n",
    "    space += \"__\" \n",
    "    # ----------------------------------------------------------  \n",
    "    fixtureapi_id = input(space + \"Enter your fixture id : \")  \n",
    "    # ----------------------------------------------------------  \n",
    "    fS_check_date_is_null(fixtureapi_id, 'fixtureapi_id', space)\n",
    "    # ---------------------------------------------------------- \n",
    "    its_end()  \n",
    "    ############################################################"
   ]
  }
 ],
 "metadata": {
  "kernelspec": {
   "display_name": "Python 3 (ipykernel)",
   "language": "python",
   "name": "python3"
  },
  "language_info": {
   "codemirror_mode": {
    "name": "ipython",
    "version": 3
   },
   "file_extension": ".py",
   "mimetype": "text/x-python",
   "name": "python",
   "nbconvert_exporter": "python",
   "pygments_lexer": "ipython3",
   "version": "3.9.12"
  }
 },
 "nbformat": 4,
 "nbformat_minor": 5
}
