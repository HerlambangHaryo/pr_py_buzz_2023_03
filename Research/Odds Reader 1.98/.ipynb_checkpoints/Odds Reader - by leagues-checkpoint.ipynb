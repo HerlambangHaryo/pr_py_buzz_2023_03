{
 "cells": [
  {
   "cell_type": "code",
   "execution_count": 1,
   "id": "72d39332",
   "metadata": {},
   "outputs": [
    {
     "name": "stdout",
     "output_type": "stream",
     "text": [
      "# -------------------------------------------------- Start at 2023-03-25 16:40:49\n",
      "  __main()\n",
      "  ____get_date()\n",
      "  ______> day0 : 2023-03-25\n",
      "  ______> day1 : 2023-03-26 16:40:49.551297\n",
      "# -------------------------------------------------- End at 2023-03-25 16:40:49\n"
     ]
    }
   ],
   "source": [
    "# Import\n",
    "import sys\n",
    "sys.path.append('../../')\n",
    "\n",
    "from a_settings.messages import *  \n",
    "from a_models.predefine import *  \n",
    " \n",
    "if __name__ == '__main__': \n",
    "    # --------------------------------------------------  \n",
    "    its_start()\n",
    "    # --------------------------------------------------  \n",
    "    space = \"  __\"\n",
    "    print(space + \"main()\") \n",
    "    # --------------------------------------------------  \n",
    "    leagueapi_id = input(space + \"Enter your leagueapi id : \")\n",
    "    season = input(space + \"Enter your season : \") \n",
    "    # --------------------------------------------------  \n",
    "    pd_get_fixtures_next_match(leagueapi_id, season, 'research_pre', space) \n",
    "    pd_get_fixtures_next_match(leagueapi_id, season, 'research_end', space) \n",
    "    # -------------------------------------------------- \n",
    "    its_end()  \n",
    "    ####################################################"
   ]
  }
 ],
 "metadata": {
  "kernelspec": {
   "display_name": "Python 3 (ipykernel)",
   "language": "python",
   "name": "python3"
  },
  "language_info": {
   "codemirror_mode": {
    "name": "ipython",
    "version": 3
   },
   "file_extension": ".py",
   "mimetype": "text/x-python",
   "name": "python",
   "nbconvert_exporter": "python",
   "pygments_lexer": "ipython3",
   "version": "3.9.12"
  }
 },
 "nbformat": 4,
 "nbformat_minor": 5
}
