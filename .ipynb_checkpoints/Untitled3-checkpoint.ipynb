{
 "cells": [
  {
   "cell_type": "code",
   "execution_count": null,
   "id": "ba5c96b3",
   "metadata": {},
   "outputs": [],
   "source": [
    "# Import\n",
    "from a_settings.messages import *   \n",
    "from a_models.date import *   \n",
    "from a_models.football_odds import *   \n",
    "    \n",
    "if __name__ == '__main__': \n",
    "    # --------------------------------------------------  \n",
    "    its_start()\n",
    "    # --------------------------------------------------  \n",
    "    space = \"  __\"\n",
    "    print(space + \"main()\", flush=True)  \n",
    "    # --------------------------------------------------    \n",
    "    space += \"__\" \n",
    "    # --------------------------------------------------   \n",
    "    day0         = get_today_adds(0, space).strftime(\"%Y-%m-%d\") \n",
    "    # --------------------------------------------------    \n",
    "    day1         = get_today_adds(1, space).strftime(\"%Y-%m-%d\") \n",
    "    # --------------------------------------------------   \n",
    "    fO_league_to_update_pattern_end(day0, day1, space)\n",
    "    # -------------------------------------------------- \n",
    "    its_end()   \n",
    "    ####################################################"
   ]
  }
 ],
 "metadata": {
  "kernelspec": {
   "display_name": "Python 3 (ipykernel)",
   "language": "python",
   "name": "python3"
  },
  "language_info": {
   "codemirror_mode": {
    "name": "ipython",
    "version": 3
   },
   "file_extension": ".py",
   "mimetype": "text/x-python",
   "name": "python",
   "nbconvert_exporter": "python",
   "pygments_lexer": "ipython3",
   "version": "3.9.12"
  }
 },
 "nbformat": 4,
 "nbformat_minor": 5
}
