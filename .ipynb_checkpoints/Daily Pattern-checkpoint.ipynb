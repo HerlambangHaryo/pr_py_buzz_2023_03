{
 "cells": [
  {
   "cell_type": "code",
   "execution_count": 1,
   "id": "d41ee550",
   "metadata": {},
   "outputs": [
    {
     "name": "stdout",
     "output_type": "stream",
     "text": [
      "# -------------------------------------------------- Start at 2023-05-13 17:02:27\n",
      "  __main()\n",
      "  ______get_hour_subs()\n",
      "  ________subs date_diff : 7\n",
      "  ________today_raw : 2023-05-13 10:02:27.699589\n",
      "  ______get_today_adds()\n",
      "  ________adds date_diff : 1\n",
      "  ________today_raw : 2023-05-14 17:02:27.699589\n",
      "  ______get_today_subs()\n",
      "  ________subs date_diff : 1\n",
      "  ________today_raw : 2023-05-12 17:02:27.699589\n",
      "# -------------------------------------------------- End at 2023-05-13 17:02:27\n"
     ]
    }
   ],
   "source": [
    "# Import\n",
    "from a_settings.messages import *   \n",
    "from a_models.date import *   \n",
    "from a_models.football_odds import *   \n",
    "    \n",
    "if __name__ == '__main__': \n",
    "    # --------------------------------------------------  \n",
    "    its_start()\n",
    "    # --------------------------------------------------  \n",
    "    space = \"  __\"\n",
    "    print(space + \"main()\", flush=True)  \n",
    "    # --------------------------------------------------    \n",
    "    space += \"__\" \n",
    "    # --------------------------------------------------   \n",
    "    day0         = get_hour_subs(7, space) .strftime(\"%Y-%m-%d\") \n",
    "    # --------------------------------------------------    \n",
    "    day1         = get_today_adds(1, space).strftime(\"%Y-%m-%d\") \n",
    "    # --------------------------------------------------    \n",
    "    dayZ         = get_today_subs(1, space).strftime(\"%Y-%m-%d\") \n",
    "    # -------------------------------------------------- \n",
    "    fO_get_fixture_today_for_update_pattern(day0, day1, dayZ, space)\n",
    "    # -------------------------------------------------- \n",
    "    its_end()   \n",
    "    ####################################################"
   ]
  }
 ],
 "metadata": {
  "kernelspec": {
   "display_name": "Python 3 (ipykernel)",
   "language": "python",
   "name": "python3"
  },
  "language_info": {
   "codemirror_mode": {
    "name": "ipython",
    "version": 3
   },
   "file_extension": ".py",
   "mimetype": "text/x-python",
   "name": "python",
   "nbconvert_exporter": "python",
   "pygments_lexer": "ipython3",
   "version": "3.9.12"
  }
 },
 "nbformat": 4,
 "nbformat_minor": 5
}
