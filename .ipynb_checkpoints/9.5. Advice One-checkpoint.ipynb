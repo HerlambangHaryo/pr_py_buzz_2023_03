{
 "cells": [
  {
   "cell_type": "code",
   "execution_count": 1,
   "id": "b7c38976",
   "metadata": {},
   "outputs": [
    {
     "name": "stdout",
     "output_type": "stream",
     "text": [
      "# -------------------------------------------------- Start at 2023-05-06 18:45:47\n",
      "  __main()\n"
     ]
    },
    {
     "ename": "NameError",
     "evalue": "name 'ff_get_fixture_one' is not defined",
     "output_type": "error",
     "traceback": [
      "\u001b[1;31m---------------------------------------------------------------------------\u001b[0m",
      "\u001b[1;31mNameError\u001b[0m                                 Traceback (most recent call last)",
      "Input \u001b[1;32mIn [1]\u001b[0m, in \u001b[0;36m<cell line: 4>\u001b[1;34m()\u001b[0m\n\u001b[0;32m      9\u001b[0m \u001b[38;5;28mprint\u001b[39m(space \u001b[38;5;241m+\u001b[39m \u001b[38;5;124m\"\u001b[39m\u001b[38;5;124mmain()\u001b[39m\u001b[38;5;124m\"\u001b[39m) \n\u001b[0;32m     10\u001b[0m \u001b[38;5;66;03m# -------------------------------------------------- \u001b[39;00m\n\u001b[1;32m---> 11\u001b[0m \u001b[43mff_get_fixture_one\u001b[49m(space)\n\u001b[0;32m     12\u001b[0m \u001b[38;5;66;03m# -------------------------------------------------- \u001b[39;00m\n\u001b[0;32m     13\u001b[0m its_end()\n",
      "\u001b[1;31mNameError\u001b[0m: name 'ff_get_fixture_one' is not defined"
     ]
    }
   ],
   "source": [
    "from a_settings.messages import *  \n",
    "from a_models.football_odds import *  \n",
    " \n",
    "if __name__ == '__main__': \n",
    "    # --------------------------------------------------  \n",
    "    its_start()\n",
    "    # --------------------------------------------------  \n",
    "    space = \"  __\"\n",
    "    print(space + \"main()\") \n",
    "    # -------------------------------------------------- \n",
    "    fO_get_fixture_one(space)\n",
    "    # -------------------------------------------------- \n",
    "    its_end()  \n",
    "    ####################################################"
   ]
  },
  {
   "cell_type": "code",
   "execution_count": null,
   "id": "6c7e5a82",
   "metadata": {},
   "outputs": [],
   "source": [
    "# Import\n",
    "from a_settings.messages import *  \n",
    "from a_models.football_odds import *  \n",
    " \n",
    "if __name__ == '__main__': \n",
    "    # --------------------------------------------------  \n",
    "    its_start()\n",
    "    # --------------------------------------------------  \n",
    "    space = \"  __\"\n",
    "    print(space + \"main()\") \n",
    "    # --------------------------------------------------   \n",
    "    fO_get_group_league_status_match_finished_DETAILED('', '', 'one_xpattern', space) \n",
    "    # -------------------------------------------------- \n",
    "    its_end()  \n",
    "    ####################################################"
   ]
  }
 ],
 "metadata": {
  "kernelspec": {
   "display_name": "Python 3 (ipykernel)",
   "language": "python",
   "name": "python3"
  },
  "language_info": {
   "codemirror_mode": {
    "name": "ipython",
    "version": 3
   },
   "file_extension": ".py",
   "mimetype": "text/x-python",
   "name": "python",
   "nbconvert_exporter": "python",
   "pygments_lexer": "ipython3",
   "version": "3.9.12"
  }
 },
 "nbformat": 4,
 "nbformat_minor": 5
}
