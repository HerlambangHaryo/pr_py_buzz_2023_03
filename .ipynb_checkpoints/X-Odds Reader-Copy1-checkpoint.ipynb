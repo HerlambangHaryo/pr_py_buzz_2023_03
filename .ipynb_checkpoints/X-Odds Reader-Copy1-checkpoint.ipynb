{
 "cells": [
  {
   "cell_type": "code",
   "execution_count": null,
   "id": "b40700ef",
   "metadata": {},
   "outputs": [
    {
     "name": "stdout",
     "output_type": "stream",
     "text": [
      "# -------------------------------------------------- Start at 2023-04-05 05:39:40\n",
      "  __main()\n",
      "  ____get_date()\n",
      "  ______> day0 : 2023-04-05\n",
      "  ______> day1 : 2023-04-06 05:39:40.683225\n",
      "  ________pd_get_fixtures_next_match()\n"
     ]
    }
   ],
   "source": [
    "# Import\n",
    "from a_settings.messages import *  \n",
    "from a_models.predefine import *  \n",
    "\n",
    "def get_date(space):  \n",
    "    # -------------------------------------------------- \n",
    "    space += \"__\"\n",
    "    print(space + \"get_date()\")\n",
    "    # --------------------------------------------------   \n",
    "    today = datetime.datetime.now() \n",
    "    # -------------------------------------------------- \n",
    "    DD = datetime.timedelta(days=0)\n",
    "    preday0 = today - DD\n",
    "    day0 = preday0.strftime(\"%Y-%m-%d\")  \n",
    "    # -------------------------------------------------- \n",
    "    DD = datetime.timedelta(days=1)\n",
    "    preday1 = today + DD\n",
    "    day1 = preday1.strftime(\"%Y-%m-%d\")  \n",
    "    # -------------------------------------------------- \n",
    "    space += \"__\"\n",
    "    print(space + \"> day0 : \" +  str(day0) ) \n",
    "    print(space + \"> day1 : \" +  str(preday1) ) \n",
    "    # --------------------------------------------------   \n",
    "    pd_get_fixtures_next_match(day0, preday1, 'fixture', space) \n",
    "#     pd_get_fixtures_next_match(day0, day1, ROUTES, space)\n",
    "    # --------------------------------------------------  \n",
    "    \n",
    "if __name__ == '__main__': \n",
    "    # --------------------------------------------------  \n",
    "    its_start()\n",
    "    # --------------------------------------------------  \n",
    "    space = \"  __\"\n",
    "    print(space + \"main()\") \n",
    "    # --------------------------------------------------   \n",
    "    get_date(space)\n",
    "    # -------------------------------------------------- \n",
    "    its_end()  \n",
    "    ####################################################"
   ]
  }
 ],
 "metadata": {
  "kernelspec": {
   "display_name": "Python 3 (ipykernel)",
   "language": "python",
   "name": "python3"
  },
  "language_info": {
   "codemirror_mode": {
    "name": "ipython",
    "version": 3
   },
   "file_extension": ".py",
   "mimetype": "text/x-python",
   "name": "python",
   "nbconvert_exporter": "python",
   "pygments_lexer": "ipython3",
   "version": "3.9.12"
  }
 },
 "nbformat": 4,
 "nbformat_minor": 5
}
