{
 "cells": [
  {
   "cell_type": "code",
   "execution_count": null,
   "id": "0d07aa1a",
   "metadata": {},
   "outputs": [
    {
     "name": "stdout",
     "output_type": "stream",
     "text": [
      "# -------------------------------------------------- Start at 2023-06-10 20:21:54\n",
      "  __main()\n",
      "  ______fS_get_fixture_that_not_update_stats_all_league()\n",
      "  ______ SELECT   fixtureapi_id  , leagueapi_id  , season FROM football_statistics WHERE leagueapi_id IN (select leagueapi_id from football_leagues where detail_stats = 1)  and fixture_status in ('Match Finished', 'Match Finished Ended')  and lineups_coach_homeapi_id  is null  and lineups_coach_awayapi_id  is null  order by date desc \n",
      "  ______Total Row(s) : 13794\n",
      "  ______[1/13794] #1006540 #72 - 2023\n",
      "  ________af_controll_match_update()\n",
      "  __________aa_check_acccount()\n",
      "  ____________API herlambangharyo@live.com counter is 30\n",
      "  ____________APIkey: 2fec23d13fmshf62617efbd47f64p163111jsn9852a0e880ca\n",
      "  __________aa_check_acccount()\n",
      "  __________aa_update_counter()\n",
      "  __________af_response_fixtures()\n",
      "  ____________ROUTES : fixtureapi_id\n",
      "  ____________fixtureapi_id : 1006540\n",
      "  ______________Total API Response(s) : 1\n",
      "  ________________fixture_status: Match Finished\n",
      "  __________________fC_insert_new()\n",
      "  __________________coacheapi_id : 124\n",
      "  __________________name : Adilson Batista\n",
      "  __________________fC_insert_new()\n",
      "  __________________coacheapi_id : 218\n",
      "  __________________name : Marcelo Chamusca\n",
      "  ________________football_odds UPDATED\n",
      "\n",
      "  ______[2/13794] #1006543 #72 - 2023\n",
      "  ________af_controll_match_update()\n",
      "  __________aa_check_acccount()\n",
      "  ____________API herlambangharyo@live.com counter is 29\n",
      "  ____________APIkey: 2fec23d13fmshf62617efbd47f64p163111jsn9852a0e880ca\n",
      "  __________aa_check_acccount()\n",
      "  __________aa_update_counter()\n",
      "  __________af_response_fixtures()\n",
      "  ____________ROUTES : fixtureapi_id\n",
      "  ____________fixtureapi_id : 1006543\n",
      "  ______________Total API Response(s) : 1\n",
      "  ________________fixture_status: Match Finished\n",
      "  __________________fC_insert_new()\n",
      "  __________________coacheapi_id : 2421\n",
      "  __________________name : Eduardo Barroca\n",
      "  __________________fC_insert_new()\n",
      "  __________________coacheapi_id : 3063\n",
      "  __________________name : Gilmar Dal Pozzo\n"
     ]
    }
   ],
   "source": [
    "# Import\n",
    "from a_settings.messages import *   \n",
    "from a_models.date import *   \n",
    "from a_models.football_statistics import *   \n",
    "     \n",
    "if __name__ == '__main__': \n",
    "    # --------------------------------------------------  \n",
    "    its_start()\n",
    "    # --------------------------------------------------  \n",
    "    space = \"  __\"\n",
    "    print(space + \"main()\", flush=True)  \n",
    "    # --------------------------------------------------    \n",
    "    space += \"__\" \n",
    "    # --------------------------------------------------     \n",
    "    fS_get_fixture_that_not_update_stats_all_league(space)\n",
    "    # ----------------------------------------------------------  \n",
    "    its_end()  \n",
    "    ####################################################"
   ]
  },
  {
   "cell_type": "code",
   "execution_count": null,
   "id": "08ecdfd8",
   "metadata": {},
   "outputs": [],
   "source": [
    "print(13794 - 29 - 99 - 99 - 99 - 99 - 99 - 99) "
   ]
  }
 ],
 "metadata": {
  "kernelspec": {
   "display_name": "Python 3 (ipykernel)",
   "language": "python",
   "name": "python3"
  },
  "language_info": {
   "codemirror_mode": {
    "name": "ipython",
    "version": 3
   },
   "file_extension": ".py",
   "mimetype": "text/x-python",
   "name": "python",
   "nbconvert_exporter": "python",
   "pygments_lexer": "ipython3",
   "version": "3.9.12"
  }
 },
 "nbformat": 4,
 "nbformat_minor": 5
}
