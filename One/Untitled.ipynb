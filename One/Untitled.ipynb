{
 "cells": [
  {
   "cell_type": "code",
   "execution_count": 2,
   "id": "837e9391",
   "metadata": {},
   "outputs": [
    {
     "name": "stdout",
     "output_type": "stream",
     "text": [
      "# -------------------------------------------------- Start at 2023-03-22 23:43:39\n",
      "  __main()\n",
      "  ____get_date()\n",
      "  ______> day1 : 2023-03-15\n",
      "  ______> day2 : 2023-03-21\n",
      "  ______> today : 2023-03-22\n",
      "# -------------------------------------------------- End at 2023-03-22 23:43:39\n"
     ]
    }
   ],
   "source": [
    "# Import\n",
    "import sys\n",
    "sys.path.append('../')\n",
    "\n",
    "from a_settings.messages import *  \n",
    "from a_models.football_fixtures import *  \n",
    "\n",
    "def get_date(space):  \n",
    "    # -------------------------------------------------- \n",
    "    space += \"__\"\n",
    "    print(space + \"get_date()\")\n",
    "    # --------------------------------------------------  \n",
    "    # -------------------------------------------------- \n",
    "    today = datetime.datetime.now() \n",
    "    todayx = today.strftime(\"%Y-%m-%d\") \n",
    "    \n",
    "    DD = datetime.timedelta(days=7)\n",
    "    week = today - DD\n",
    "    day1 = week.strftime(\"%Y-%m-%d\") \n",
    "\n",
    "    DD = datetime.timedelta(days=1)\n",
    "    yesterday = today - DD\n",
    "    day2 = yesterday.strftime(\"%Y-%m-%d\") \n",
    "    \n",
    "    pre_tw = datetime.timedelta(days=7)\n",
    "    one_week_later =  today + pre_tw \n",
    "    \n",
    "    aft_tw = datetime.timedelta(days=14)\n",
    "    two_weeks_before = today - aft_tw\n",
    "    # -------------------------------------------------- \n",
    "    space += \"__\"\n",
    "    print(space + \"> day1 : \" +  str(day1) )\n",
    "    print(space + \"> day2 : \" + str(day2) ) \n",
    "    print(space + \"> today : \" + str(todayx) ) \n",
    "    # --------------------------------------------------    \n",
    "    # --------------------------------------------------\n",
    "    \n",
    "if __name__ == '__main__': \n",
    "    # --------------------------------------------------  \n",
    "    its_start()\n",
    "    # --------------------------------------------------  \n",
    "    space = \"  __\"\n",
    "    print(space + \"main()\") \n",
    "    # --------------------------------------------------   \n",
    "    get_date(space)\n",
    "    # -------------------------------------------------- \n",
    "    its_end()  \n",
    "    ####################################################"
   ]
  }
 ],
 "metadata": {
  "kernelspec": {
   "display_name": "Python 3 (ipykernel)",
   "language": "python",
   "name": "python3"
  },
  "language_info": {
   "codemirror_mode": {
    "name": "ipython",
    "version": 3
   },
   "file_extension": ".py",
   "mimetype": "text/x-python",
   "name": "python",
   "nbconvert_exporter": "python",
   "pygments_lexer": "ipython3",
   "version": "3.9.12"
  }
 },
 "nbformat": 4,
 "nbformat_minor": 5
}
