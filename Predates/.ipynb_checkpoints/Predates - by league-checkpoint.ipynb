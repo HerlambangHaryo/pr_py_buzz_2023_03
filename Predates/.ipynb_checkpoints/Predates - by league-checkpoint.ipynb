{
 "cells": [
  {
   "cell_type": "code",
   "execution_count": null,
   "id": "d931635b",
   "metadata": {},
   "outputs": [
    {
     "name": "stdout",
     "output_type": "stream",
     "text": [
      "  __Enter your leagueapi id :  39\n"
     ]
    }
   ],
   "source": [
    "import datetime \n",
    "\n",
    "def get_today(date_diff, space): \n",
    "    # ---------------------------------------------------------- \n",
    "    space += \"__\" \n",
    "    # ---------------------------------------------------------- \n",
    "    print(space + \"get_today()\") \n",
    "    # ---------------------------------------------------------- \n",
    "    space += \"__\" \n",
    "    # ---------------------------------------------------------- \n",
    "    param = \"date_diff : \" + str(date_diff)\n",
    "    print(space + param, flush=True)\n",
    "    # ----------------------------------------------------------\n",
    "    today = datetime.datetime.now()\n",
    "    DD = datetime.timedelta(days=date_diff)\n",
    "    today_raw = today + DD\n",
    "    # ---------------------------------------------------------- \n",
    "    param = \"today_raw : \" + str(today_raw)\n",
    "    print(space + param, flush=True)\n",
    "    # ---------------------------------------------------------- \n",
    "    return today_raw\n",
    "    # ---------------------------------------------------------- \n",
    "    \n",
    "space = \"  __\"\n",
    "leagueapi_id   = input(space + \"Enter your leagueapi id :  \")\n",
    "season         = input(space + \"Enter your season :  \")  \n",
    " \n",
    "date_0         = get_today(0, space).strftime(\"%Y-%m-%d\")\n",
    "print(space + \"______date_0 : \" + date_0, flush=True)\n",
    "date_raw       = get_today(0, space)  \n",
    "\n",
    "date_1         = get_today(1, space).strftime(\"%Y-%m-%d\")\n",
    "print(space + \"______date_1 : \" + date_1, flush=True)\n",
    "date_1_raw     = get_today(1, space)  "
   ]
  },
  {
   "cell_type": "code",
   "execution_count": null,
   "id": "cb2c0b6c",
   "metadata": {},
   "outputs": [],
   "source": [
    "# Import\n",
    "import sys\n",
    "sys.path.append('../')\n",
    "\n",
    "from a_settings.messages import *   \n",
    "from a_models.leagues import *  \n",
    "     \n",
    "if __name__ == '__main__': \n",
    "    # --------------------------------------------------  \n",
    "    its_start()\n",
    "    # --------------------------------------------------  \n",
    "    space = \"  __\"\n",
    "    # ----------------------------------------------------------   \n",
    "    print(space + \"__main__\") \n",
    "    # ----------------------------------------------------------  \n",
    "    space += \"__\"  \n",
    "    # ----------------------------------------------------------  \n",
    "    lg_get_league_for_predates(leagueapi_id, season, 1, date_0, date_raw, space)\n",
    "    # ---------------------------------------------------------- \n",
    "    its_end()  \n",
    "    ############################################################"
   ]
  },
  {
   "cell_type": "code",
   "execution_count": null,
   "id": "c231b37b",
   "metadata": {},
   "outputs": [],
   "source": [
    "# Import\n",
    "import sys\n",
    "sys.path.append('../')\n",
    "\n",
    "# Import\n",
    "from a_settings.messages import *   \n",
    "from a_models.date import *   \n",
    "from a_models.football_odds import *   \n",
    "     \n",
    "if __name__ == '__main__': \n",
    "    # --------------------------------------------------  \n",
    "    its_start()\n",
    "    # --------------------------------------------------  \n",
    "    space = \"  __\"\n",
    "    print(space + \"main()\", flush=True)  \n",
    "    # --------------------------------------------------    \n",
    "    space += \"__\" \n",
    "    # --------------------------------------------------    \n",
    "    day0         = get_today_adds(0, space) .strftime(\"%Y-%m-%d\") \n",
    "    # --------------------------------------------------    \n",
    "    day1         = get_today_adds(1, space).strftime(\"%Y-%m-%d\") \n",
    "    # --------------------------------------------------  \n",
    "    fO_get_group_league_status_match_finished_DETAILED(day0, day1, \"pre_xpattern\", space)\n",
    "    # ----------------------------------------------------------  \n",
    "    its_end()  \n",
    "    ####################################################"
   ]
  }
 ],
 "metadata": {
  "kernelspec": {
   "display_name": "Python 3 (ipykernel)",
   "language": "python",
   "name": "python3"
  },
  "language_info": {
   "codemirror_mode": {
    "name": "ipython",
    "version": 3
   },
   "file_extension": ".py",
   "mimetype": "text/x-python",
   "name": "python",
   "nbconvert_exporter": "python",
   "pygments_lexer": "ipython3",
   "version": "3.9.12"
  }
 },
 "nbformat": 4,
 "nbformat_minor": 5
}
