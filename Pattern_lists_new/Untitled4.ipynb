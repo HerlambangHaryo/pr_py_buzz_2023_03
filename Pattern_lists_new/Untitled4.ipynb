{
 "cells": [
  {
   "cell_type": "code",
   "execution_count": null,
   "id": "41284a02",
   "metadata": {},
   "outputs": [],
   "source": [
    "# 3. insert and kalibrasi patternlist\n",
    "\n",
    "import datetime \n",
    "\n",
    "# Import\n",
    "import sys\n",
    "sys.path.append('../')\n",
    "\n",
    "from a_settings.messages import *   \n",
    "from a_models.football_fixtures import *  \n",
    "\n",
    "if __name__ == '__main__': \n",
    "    # ----------------------------------------------------------   \n",
    "    its_start() \n",
    "    # ----------------------------------------------------------  \n",
    "    space = \"  __\"\n",
    "    # ----------------------------------------------------------   \n",
    "    print(space + \"__main__\") \n",
    "    # ----------------------------------------------------------  \n",
    "    space += \"____\"  \n",
    "    # ----------------------------------------------------------  \n",
    "    leagueapi_id   = input(space + \"Enter your leagueapi id :  \") \n",
    "    # ----------------------------------------------------------   \n",
    "    ff_get_fixtures_group_by_pre_end_patternlists(leagueapi_id, space)\n",
    "    ff_get_fixtures_group_by_only_end_patternlists(leagueapi_id, space)\n",
    "    # ---------------------------------------------------------- \n",
    "    its_end()  \n",
    "    ############################################################\n",
    "     "
   ]
  }
 ],
 "metadata": {
  "kernelspec": {
   "display_name": "Python 3 (ipykernel)",
   "language": "python",
   "name": "python3"
  }
 },
 "nbformat": 4,
 "nbformat_minor": 5
}
