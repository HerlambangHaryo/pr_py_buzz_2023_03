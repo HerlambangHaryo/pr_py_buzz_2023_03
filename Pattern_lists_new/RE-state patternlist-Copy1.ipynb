{
 "cells": [
  {
   "cell_type": "code",
   "execution_count": 1,
   "id": "c4cb347b",
   "metadata": {},
   "outputs": [],
   "source": [
    "# 1. kalibrasi pre end pattern\n",
    "# 2. delete patternlist pre end\n",
    "# 3. insert and kalibrasi patternlist\n",
    "###"
   ]
  },
  {
   "cell_type": "code",
   "execution_count": 2,
   "id": "aa05bd8c",
   "metadata": {},
   "outputs": [
    {
     "name": "stdout",
     "output_type": "stream",
     "text": [
      "# -------------------------------------------------- Start at 2023-07-30 18:30:24\n",
      "  ____main__\n",
      "  ______Enter your leagueapi id :  874\n",
      "  ________fO_check_pre_end_response()\n",
      "  ____________Total Row(s) : 2\n",
      "  ______________[1/2]  #874 - 2023 => 0 / 1 == Match Finished Ended\n",
      "  ______________[2/2]  #874 - 2023 => 0 / 3 == Match Finished\n",
      "# -------------------------------------------------- End at 2023-07-30 18:30:46\n"
     ]
    }
   ],
   "source": [
    "# 3. insert and kalibrasi patternlist\n",
    "\n",
    "import datetime \n",
    "\n",
    "# Import\n",
    "import sys\n",
    "sys.path.append('../')\n",
    "\n",
    "from a_settings.messages import *   \n",
    "from a_models.football_odds import *  \n",
    "\n",
    "if __name__ == '__main__': \n",
    "    # ----------------------------------------------------------   \n",
    "    its_start() \n",
    "    # ----------------------------------------------------------  \n",
    "    space = \"  __\"\n",
    "    # ----------------------------------------------------------   \n",
    "    print(space + \"__main__\") \n",
    "    # ----------------------------------------------------------  \n",
    "    space += \"____\"  \n",
    "    # ----------------------------------------------------------  \n",
    "    leagueapi_id   = input(space + \"Enter your leagueapi id :  \") \n",
    "    # ----------------------------------------------------------   \n",
    "    fO_check_pre_end_response(leagueapi_id, space)\n",
    "    # ---------------------------------------------------------- \n",
    "    its_end()  \n",
    "    ############################################################\n",
    "     "
   ]
  },
  {
   "cell_type": "code",
   "execution_count": 3,
   "id": "8692c546",
   "metadata": {},
   "outputs": [
    {
     "name": "stdout",
     "output_type": "stream",
     "text": [
      "# -------------------------------------------------- Start at 2023-07-30 18:30:46\n",
      "  __main()\n",
      "  ____Enter your leagueapi id :  874\n",
      "  ______xpN_get_league_fixture_to_reset()\n",
      "  ________( Select   teams_homeapi_id ,  teams_awayapi_id,  leagueapi_id,  season,  fixtureapi_id  from football_odds  where leagueapi_id = '874'  and pre_response != 3  and fixture_status  in ('Match Finished', 'Match Finished Ended') ) union (Select   teams_homeapi_id ,  teams_awayapi_id,  leagueapi_id,  season,  fixtureapi_id  from football_odds  where leagueapi_id = '874'  and pre_response is null  and fixture_status  in ('Match Finished', 'Match Finished Ended') )\n",
      "  ________Total Row(s) : 2\n",
      "  __________[1/2] #1031474 #874 - 2023\n",
      "  ____________xpN_set_pattern()\n",
      "  ____________> fixtureapi_id = 1031474\n",
      "  ____________> pre_ah_pattern = H\n",
      "  ____________> pre_ah_pattern_mirror = H\n",
      "  ____________> pre_gou_pattern = G\n",
      "  ____________> football_odds update pattern commited\n",
      "  __________[2/2] #1031475 #874 - 2023\n",
      "  ____________xpN_set_pattern()\n",
      "  ____________> fixtureapi_id = 1031475\n",
      "  ____________> pre_ah_pattern = H\n",
      "  ____________> pre_ah_pattern_mirror = H\n",
      "  ____________> pre_gou_pattern = G\n",
      "  ____________> football_odds update pattern commited\n",
      "  ______xpN_get_league_fixture_to_reset()\n",
      "  ________( Select   teams_homeapi_id ,  teams_awayapi_id,  leagueapi_id,  season,  fixtureapi_id  from football_odds  where leagueapi_id = '874'  and end_response != 3  and fixture_status  in ('Match Finished', 'Match Finished Ended') ) union (Select   teams_homeapi_id ,  teams_awayapi_id,  leagueapi_id,  season,  fixtureapi_id  from football_odds  where leagueapi_id = '874'  and end_response is null  and fixture_status  in ('Match Finished', 'Match Finished Ended') )\n",
      "  ________Total Row(s) : 1\n",
      "  __________[1/1] #1031475 #874 - 2023\n",
      "  ____________xpN_set_pattern()\n",
      "  ____________> fixtureapi_id = 1031475\n",
      "  ____________> end_ah_pattern = -1-075-05-025H\n",
      "  ____________> end_ah_pattern_mirror = +025+05+075+1H\n",
      "  ____________> end_gou_pattern = 25gG\n",
      "  ____________> football_odds update pattern commited\n",
      "# -------------------------------------------------- End at 2023-07-30 18:31:41\n"
     ]
    }
   ],
   "source": [
    "# Import\n",
    "import sys\n",
    "sys.path.append('../')\n",
    "\n",
    "# Import\n",
    "from a_settings.messages import *   \n",
    "from a_models.xpattern_new import *   \n",
    " \n",
    "if __name__ == '__main__': \n",
    "    # --------------------------------------------------  \n",
    "    its_start()\n",
    "    # --------------------------------------------------  \n",
    "    space = \"  __\"\n",
    "    print(space + \"main()\", flush=True)  \n",
    "    # --------------------------------------------------    \n",
    "    space += \"__\" \n",
    "    # --------------------------------------------------    \n",
    "    # --------------------------------------------------  \n",
    "    leagueapi_id   = input(space + \"Enter your leagueapi id :  \") \n",
    "    # --------------------------------------------------   \n",
    "    xpN_get_league_fixture_to_reset(leagueapi_id, 'pre_', 4, space)\n",
    "    xpN_get_league_fixture_to_reset(leagueapi_id, 'end_', 4, space)\n",
    "    # --------------------------------------------------   \n",
    "    its_end()  \n",
    "    ####################################################"
   ]
  },
  {
   "cell_type": "code",
   "execution_count": 4,
   "id": "138066c4",
   "metadata": {},
   "outputs": [
    {
     "name": "stdout",
     "output_type": "stream",
     "text": [
      "# -------------------------------------------------- Start at 2023-07-30 18:31:41\n",
      "  ____main__\n",
      "  ______Enter your leagueapi id :  874\n",
      "  ________fO_check_pre_end_response()\n",
      "  ____________Total Row(s) : 2\n",
      "  ______________[1/2]  #874 - 2023 => 3 / 3 == Match Finished\n",
      "  ______________[2/2]  #874 - 2023 => 3 / 3 == Match Finished Ended\n",
      "# -------------------------------------------------- End at 2023-07-30 18:31:44\n"
     ]
    }
   ],
   "source": [
    "# 3. insert and kalibrasi patternlist\n",
    "\n",
    "import datetime \n",
    "\n",
    "# Import\n",
    "import sys\n",
    "sys.path.append('../')\n",
    "\n",
    "from a_settings.messages import *   \n",
    "from a_models.football_odds import *  \n",
    "\n",
    "if __name__ == '__main__': \n",
    "    # ----------------------------------------------------------   \n",
    "    its_start() \n",
    "    # ----------------------------------------------------------  \n",
    "    space = \"  __\"\n",
    "    # ----------------------------------------------------------   \n",
    "    print(space + \"__main__\") \n",
    "    # ----------------------------------------------------------  \n",
    "    space += \"____\"  \n",
    "    # ----------------------------------------------------------  \n",
    "    leagueapi_id   = input(space + \"Enter your leagueapi id :  \") \n",
    "    # ----------------------------------------------------------   \n",
    "    fO_check_pre_end_response(leagueapi_id, space)\n",
    "    # ---------------------------------------------------------- \n",
    "    its_end()  \n",
    "    ############################################################\n",
    "     "
   ]
  },
  {
   "cell_type": "code",
   "execution_count": 5,
   "id": "8180d970",
   "metadata": {},
   "outputs": [
    {
     "name": "stdout",
     "output_type": "stream",
     "text": [
      "# -------------------------------------------------- Start at 2023-07-30 18:31:44\n",
      "  ____main__\n",
      "  ______Enter your leagueapi id :  874\n",
      "  ________ff_get_fixtures_group_by_pre_end_patternlists()\n",
      "  __________Select  pre_ah_pattern  , pre_gou_pattern  , end_ah_pattern  , end_gou_pattern  , count(*)  from football_odds  where leagueapi_id = '874'  and fixture_status in ('Match Finished', 'Match Finished Ended')  and pre_ah_pattern is not null  and pre_gou_pattern is not null  and end_ah_pattern is not null  and end_gou_pattern is not null  and pre_ah_pattern != 'H'  and pre_gou_pattern != 'G'  and end_ah_pattern != 'H'  and end_gou_pattern != 'G'  and pre_response = 3  and end_response = 3  and pattern_from is null  group by  pre_ah_pattern  , pre_gou_pattern  , end_ah_pattern  , end_gou_pattern  order by count(*) desc \n",
      "  ____________Total Row(s) : 0\n",
      "  ______________lg_update_total_pattern()\n",
      "  ________________update football_leagues set  total_pattern_pre_ends = '0'  where leagueapi_id = '874' \n",
      "  ________________> football_leagues : total_pattern_pre_ends UPDATED \n",
      "  ________ff_get_fixtures_group_by_only_end_patternlists()\n",
      "  ____________Total Row(s) : 1\n",
      "  ______________lg_update_total_pattern()\n",
      "  ________________update football_leagues set  total_pattern_only_ends = '1'  where leagueapi_id = '874' \n",
      "  ________________> football_leagues : total_pattern_only_ends UPDATED \n",
      "  ______________[1/1] 1.  >> -1-075-05-025H // 25gG\n",
      "  ________________aP_controll_pattern_ROUTE()\n",
      "  ________________Total Row(s) : 1\n",
      "  __________________aP_check_patternlist()\n",
      "  ____________________Total Row(s) : 0\n",
      "  ________________________insert commited\n",
      "  __________________aP_final_assestment()\n",
      "  __________________Total Row(s) : 1\n",
      "  __________________query CANT update\n",
      "# -------------------------------------------------- End at 2023-07-30 18:32:23\n"
     ]
    }
   ],
   "source": [
    "# 3. insert and kalibrasi patternlist\n",
    "\n",
    "import datetime \n",
    "\n",
    "# Import\n",
    "import sys\n",
    "sys.path.append('../')\n",
    "\n",
    "from a_settings.messages import *   \n",
    "from a_models.football_fixtures import *  \n",
    "\n",
    "if __name__ == '__main__': \n",
    "    # ----------------------------------------------------------   \n",
    "    its_start() \n",
    "    # ----------------------------------------------------------  \n",
    "    space = \"  __\"\n",
    "    # ----------------------------------------------------------   \n",
    "    print(space + \"__main__\") \n",
    "    # ----------------------------------------------------------  \n",
    "    space += \"____\"  \n",
    "    # ----------------------------------------------------------  \n",
    "    leagueapi_id   = input(space + \"Enter your leagueapi id :  \") \n",
    "    # ----------------------------------------------------------   \n",
    "    ff_get_fixtures_group_by_pre_end_patternlists(leagueapi_id, space)\n",
    "    ff_get_fixtures_group_by_only_end_patternlists(leagueapi_id, space)\n",
    "    # ---------------------------------------------------------- \n",
    "    its_end()  \n",
    "    ############################################################\n",
    "     "
   ]
  }
 ],
 "metadata": {
  "kernelspec": {
   "display_name": "Python 3 (ipykernel)",
   "language": "python",
   "name": "python3"
  },
  "language_info": {
   "codemirror_mode": {
    "name": "ipython",
    "version": 3
   },
   "file_extension": ".py",
   "mimetype": "text/x-python",
   "name": "python",
   "nbconvert_exporter": "python",
   "pygments_lexer": "ipython3",
   "version": "3.9.12"
  }
 },
 "nbformat": 4,
 "nbformat_minor": 5
}
