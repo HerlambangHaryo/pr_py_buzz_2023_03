{
 "cells": [
  {
   "cell_type": "code",
   "execution_count": 1,
   "id": "8b1e6850",
   "metadata": {},
   "outputs": [
    {
     "name": "stdout",
     "output_type": "stream",
     "text": [
      "Enter your leagueapi id :  39\n"
     ]
    }
   ],
   "source": [
    "\n",
    "import mysql.connector \n",
    "space = \"\"\n",
    "leagueapi_id   = input(space + \"Enter your leagueapi id :  \") \n",
    "# ---------------------------------------------------------- \n",
    "host=\"localhost\"\n",
    "user=\"root\" \n",
    "database=\"pr_mmbuzz_2022_06\"\n",
    "mydb = mysql.connector.connect(host=host,user=user,password=\"\",database=database)\n",
    "mycursor = mydb.cursor()\n",
    "# ---------------------------------------------------------- \n",
    "query_update = \" DELETE FROM `football_pattern_from` \"   \n",
    "query_update += \" WHERE leagueapi_id = \" + str(leagueapi_id) + \" \"   \n",
    "# ---------------------------------------------------------- \n",
    "mycursor.execute(query_update)\n",
    "mydb.commit()     \n",
    "# close the cursor and database connection\n",
    "mycursor.close()\n",
    "mydb.close()\n",
    "# ---------------------------------------------------------- \n",
    "# ---------------------------------------------------------- \n",
    "host=\"localhost\"\n",
    "user=\"root\" \n",
    "database=\"pr_mmbuzz_2022_06\"\n",
    "mydb = mysql.connector.connect(host=host,user=user,password=\"\",database=database)\n",
    "mycursor = mydb.cursor()\n",
    "# ---------------------------------------------------------- \n",
    "query_update = \" DELETE FROM `football_pattern_only` \"   \n",
    "query_update += \" WHERE leagueapi_id = \" + str(leagueapi_id) + \" \"   \n",
    "# ---------------------------------------------------------- \n",
    "mycursor.execute(query_update)\n",
    "mydb.commit()     \n",
    "# close the cursor and database connection\n",
    "mycursor.close()\n",
    "mydb.close()\n",
    "# ---------------------------------------------------------- \n",
    "# ---------------------------------------------------------- \n",
    "host=\"localhost\"\n",
    "user=\"root\" \n",
    "database=\"pr_mmbuzz_2022_06\"\n",
    "mydb = mysql.connector.connect(host=host,user=user,password=\"\",database=database)\n",
    "mycursor = mydb.cursor()\n",
    "# ---------------------------------------------------------- \n",
    "query_update = \" UPDATE `football_odds` SET \"   \n",
    "query_update += \" `pattern_from` = Null, \"  \n",
    "query_update += \" `pattern_only` = Null \"  \n",
    "query_update += \" WHERE leagueapi_id = \" + str(leagueapi_id) + \" \"   \n",
    "# ---------------------------------------------------------- \n",
    "mycursor.execute(query_update)\n",
    "mydb.commit()     \n",
    "# close the cursor and database connection\n",
    "mycursor.close()\n",
    "mydb.close() \n",
    "# ----------------------------------------------------------  \n",
    "# ---------------------------------------------------------- "
   ]
  }
 ],
 "metadata": {
  "kernelspec": {
   "display_name": "Python 3 (ipykernel)",
   "language": "python",
   "name": "python3"
  },
  "language_info": {
   "codemirror_mode": {
    "name": "ipython",
    "version": 3
   },
   "file_extension": ".py",
   "mimetype": "text/x-python",
   "name": "python",
   "nbconvert_exporter": "python",
   "pygments_lexer": "ipython3",
   "version": "3.9.12"
  }
 },
 "nbformat": 4,
 "nbformat_minor": 5
}
