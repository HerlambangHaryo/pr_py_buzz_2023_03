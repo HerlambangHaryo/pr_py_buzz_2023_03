{
 "cells": [
  {
   "cell_type": "code",
   "execution_count": 4,
   "id": "dc9d4a87",
   "metadata": {},
   "outputs": [
    {
     "name": "stdout",
     "output_type": "stream",
     "text": [
      "__Select  pre_ah_pattern  , pre_response  from football_odds  where fixture_status in ('Match Finished', 'Match Finished Ended')  and pre_ah_pattern is not null  and pre_ah_pattern != 'H'  and pre_response is null \n",
      "____Total Row(s) : 0\n"
     ]
    }
   ],
   "source": [
    "# Import\n",
    "import mysql.connector \n",
    "# ---------------------------------------------------------- \n",
    "# Connect to DB\n",
    "# ---------------------------------------------------------- \n",
    "space = \"__\"\n",
    "# ---------------------------------------------------------- \n",
    "host=\"localhost\"\n",
    "user=\"root\" \n",
    "database=\"pr_mmbuzz_2022_06\"\n",
    "mydb = mysql.connector.connect(host=host,user=user,password=\"\",database=database)\n",
    "mycursor = mydb.cursor()\n",
    "# ---------------------------------------------------------- \n",
    "query = \"Select \"\n",
    "query += \" pre_ah_pattern \"\n",
    "query += \" , pre_response \"\n",
    "query += \" from football_odds \" \n",
    "query += \" where fixture_status in ('Match Finished', 'Match Finished Ended') \" \n",
    "query += \" and pre_ah_pattern is not null \" \n",
    "query += \" and pre_ah_pattern != 'H' \" \n",
    "query += \" and pre_response is null \" \n",
    "# ---------------------------------------------------------- \n",
    "print(space + query, flush=True) \n",
    "# ----------------------------------------------------------   \n",
    "mycursor = mydb.cursor()\n",
    "mycursor.execute(query)\n",
    "result =  mycursor.fetchall() \n",
    "# ----------------------------------------------------------     \n",
    "space += \"__\"\n",
    "total_rows = len(result)\n",
    "# ----------------------------------------------------------    \n",
    "print(space + \"Total Row(s) : \" + str(total_rows), flush=True) \n",
    "# ----------------------------------------------------------  \n",
    "count_rows = 0\n",
    "# ----------------------------------------------------------    \n",
    "space += \"__\"\n",
    "# ----------------------------------------------------------    \n",
    "counter = 0\n",
    "# ----------------------------------------------------------    \n",
    "# for x in result: \n",
    "#     # ------------------------------------------------------   \n",
    "#     counter += 1\n",
    "#     # ------------------------------------------------------   \n",
    "#     pre_ah_pattern = str(x[0]) \n",
    "#     pre_response = str(x[1]) \n",
    "#     # ------------------------------------------------------  \n",
    "#     word = space +\"pre_ah_pattern: \" + str(pre_ah_pattern)   \n",
    "#     word += \" pre_response:\" + str(pre_response)    \n",
    "#     # ------------------------------------------------------  \n",
    "#     print(word, flush=True)"
   ]
  },
  {
   "cell_type": "code",
   "execution_count": 3,
   "id": "5ccbf2a2",
   "metadata": {},
   "outputs": [],
   "source": [
    "\n",
    "# ----------------------------------------------------------  \n",
    "query_commit = \"UPDATE `football_odds` SET  \" \n",
    "query_commit += \" pre_response = 2  \" \n",
    "query_commit += \" where fixture_status in ('Match Finished', 'Match Finished Ended') \" \n",
    "query_commit += \" and pre_ah_pattern is not null \" \n",
    "query_commit += \" and pre_ah_pattern != 'H' \" \n",
    "query_commit += \" and pre_response is null \" \n",
    "\n",
    "\n",
    "mycursor.execute(query_commit)\n",
    "mydb.commit()  "
   ]
  },
  {
   "cell_type": "code",
   "execution_count": 7,
   "id": "1df07950",
   "metadata": {},
   "outputs": [
    {
     "name": "stdout",
     "output_type": "stream",
     "text": [
      "__Select  end_ah_pattern  , end_response  from football_odds  where fixture_status in ('Match Finished', 'Match Finished Ended')  and end_ah_pattern is not null  and end_ah_pattern != 'H'  and end_response is null \n",
      "____Total Row(s) : 0\n"
     ]
    }
   ],
   "source": [
    "# Import\n",
    "import mysql.connector \n",
    "# ---------------------------------------------------------- \n",
    "# Connect to DB\n",
    "# ---------------------------------------------------------- \n",
    "space = \"__\"\n",
    "# ---------------------------------------------------------- \n",
    "host=\"localhost\"\n",
    "user=\"root\" \n",
    "database=\"pr_mmbuzz_2022_06\"\n",
    "mydb = mysql.connector.connect(host=host,user=user,password=\"\",database=database)\n",
    "mycursor = mydb.cursor()\n",
    "# ---------------------------------------------------------- \n",
    "query = \"Select \"\n",
    "query += \" end_ah_pattern \"\n",
    "query += \" , end_response \"\n",
    "query += \" from football_odds \" \n",
    "query += \" where fixture_status in ('Match Finished', 'Match Finished Ended') \" \n",
    "query += \" and end_ah_pattern is not null \" \n",
    "query += \" and end_ah_pattern != 'H' \" \n",
    "query += \" and end_response is null \" \n",
    "# ---------------------------------------------------------- \n",
    "print(space + query, flush=True) \n",
    "# ----------------------------------------------------------   \n",
    "mycursor = mydb.cursor()\n",
    "mycursor.execute(query)\n",
    "result =  mycursor.fetchall() \n",
    "# ----------------------------------------------------------     \n",
    "space += \"__\"\n",
    "total_rows = len(result)\n",
    "# ----------------------------------------------------------    \n",
    "print(space + \"Total Row(s) : \" + str(total_rows), flush=True) \n",
    "# ----------------------------------------------------------  \n",
    "count_rows = 0\n",
    "# ----------------------------------------------------------    \n",
    "space += \"__\"\n",
    "# ----------------------------------------------------------    \n",
    "counter = 0\n",
    "# ----------------------------------------------------------    \n",
    "# for x in result: \n",
    "#     # ------------------------------------------------------   \n",
    "#     counter += 1\n",
    "#     # ------------------------------------------------------   \n",
    "#     pre_ah_pattern = str(x[0]) \n",
    "#     pre_response = str(x[1]) \n",
    "#     # ------------------------------------------------------  \n",
    "#     word = space +\"pre_ah_pattern: \" + str(pre_ah_pattern)   \n",
    "#     word += \" pre_response:\" + str(pre_response)    \n",
    "#     # ------------------------------------------------------  \n",
    "#     print(word, flush=True)"
   ]
  },
  {
   "cell_type": "code",
   "execution_count": 6,
   "id": "03d879ae",
   "metadata": {},
   "outputs": [],
   "source": [
    "\n",
    "# ----------------------------------------------------------  \n",
    "query_commit = \"UPDATE `football_odds` SET  \" \n",
    "query_commit += \" end_response = 2  \" \n",
    "query_commit += \" where fixture_status in ('Match Finished', 'Match Finished Ended') \" \n",
    "query_commit += \" and end_ah_pattern is not null \" \n",
    "query_commit += \" and end_ah_pattern != 'H' \" \n",
    "query_commit += \" and end_response is null \" \n",
    "\n",
    "\n",
    "mycursor.execute(query_commit)\n",
    "mydb.commit()  "
   ]
  }
 ],
 "metadata": {
  "kernelspec": {
   "display_name": "Python 3 (ipykernel)",
   "language": "python",
   "name": "python3"
  },
  "language_info": {
   "codemirror_mode": {
    "name": "ipython",
    "version": 3
   },
   "file_extension": ".py",
   "mimetype": "text/x-python",
   "name": "python",
   "nbconvert_exporter": "python",
   "pygments_lexer": "ipython3",
   "version": "3.9.12"
  }
 },
 "nbformat": 4,
 "nbformat_minor": 5
}
