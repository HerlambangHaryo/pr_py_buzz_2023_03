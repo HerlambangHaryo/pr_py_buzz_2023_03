{
 "cells": [
  {
   "cell_type": "code",
   "execution_count": 2,
   "id": "cd20b561",
   "metadata": {},
   "outputs": [
    {
     "name": "stdout",
     "output_type": "stream",
     "text": [
      "Enter your leagueapi id :  39\n"
     ]
    },
    {
     "ename": "NameError",
     "evalue": "name 'mysql' is not defined",
     "output_type": "error",
     "traceback": [
      "\u001b[1;31m---------------------------------------------------------------------------\u001b[0m",
      "\u001b[1;31mNameError\u001b[0m                                 Traceback (most recent call last)",
      "Input \u001b[1;32mIn [2]\u001b[0m, in \u001b[0;36m<cell line: 7>\u001b[1;34m()\u001b[0m\n\u001b[0;32m      5\u001b[0m user\u001b[38;5;241m=\u001b[39m\u001b[38;5;124m\"\u001b[39m\u001b[38;5;124mroot\u001b[39m\u001b[38;5;124m\"\u001b[39m \n\u001b[0;32m      6\u001b[0m database\u001b[38;5;241m=\u001b[39m\u001b[38;5;124m\"\u001b[39m\u001b[38;5;124mpr_mmbuzz_2022_06\u001b[39m\u001b[38;5;124m\"\u001b[39m\n\u001b[1;32m----> 7\u001b[0m mydb \u001b[38;5;241m=\u001b[39m \u001b[43mmysql\u001b[49m\u001b[38;5;241m.\u001b[39mconnector\u001b[38;5;241m.\u001b[39mconnect(host\u001b[38;5;241m=\u001b[39mhost,user\u001b[38;5;241m=\u001b[39muser,password\u001b[38;5;241m=\u001b[39m\u001b[38;5;124m\"\u001b[39m\u001b[38;5;124m\"\u001b[39m,database\u001b[38;5;241m=\u001b[39mdatabase)\n\u001b[0;32m      8\u001b[0m mycursor \u001b[38;5;241m=\u001b[39m mydb\u001b[38;5;241m.\u001b[39mcursor()\n\u001b[0;32m      9\u001b[0m \u001b[38;5;66;03m# ---------------------------------------------------------- \u001b[39;00m\n",
      "\u001b[1;31mNameError\u001b[0m: name 'mysql' is not defined"
     ]
    }
   ],
   "source": [
    "\n",
    "import mysql.connector \n",
    "space = \"\"\n",
    "leagueapi_id   = input(space + \"Enter your leagueapi id :  \") \n",
    "# ---------------------------------------------------------- \n",
    "host=\"localhost\"\n",
    "user=\"root\" \n",
    "database=\"pr_mmbuzz_2022_06\"\n",
    "mydb = mysql.connector.connect(host=host,user=user,password=\"\",database=database)\n",
    "mycursor = mydb.cursor()\n",
    "# ---------------------------------------------------------- \n",
    "query_update = \" DELETE FROM `football_pattern_from` \"   \n",
    "query_update += \" WHERE leagueapi_id = \" + str(leagueapi_id) + \" \"   \n",
    "# ---------------------------------------------------------- \n",
    "mycursor.execute(query_update)\n",
    "mydb.commit()     \n",
    "# close the cursor and database connection\n",
    "mycursor.close()\n",
    "mydb.close()\n",
    "# ---------------------------------------------------------- \n",
    "# ---------------------------------------------------------- \n",
    "host=\"localhost\"\n",
    "user=\"root\" \n",
    "database=\"pr_mmbuzz_2022_06\"\n",
    "mydb = mysql.connector.connect(host=host,user=user,password=\"\",database=database)\n",
    "mycursor = mydb.cursor()\n",
    "# ---------------------------------------------------------- \n",
    "query_update = \" DELETE FROM `football_pattern_only` \"   \n",
    "query_update += \" WHERE leagueapi_id = \" + str(leagueapi_id) + \" \"   \n",
    "# ---------------------------------------------------------- \n",
    "mycursor.execute(query_update)\n",
    "mydb.commit()     \n",
    "# close the cursor and database connection\n",
    "mycursor.close()\n",
    "mydb.close()\n",
    "# ---------------------------------------------------------- \n",
    "# ---------------------------------------------------------- \n",
    "host=\"localhost\"\n",
    "user=\"root\" \n",
    "database=\"pr_mmbuzz_2022_06\"\n",
    "mydb = mysql.connector.connect(host=host,user=user,password=\"\",database=database)\n",
    "mycursor = mydb.cursor()\n",
    "# ---------------------------------------------------------- \n",
    "query_update = \" UPDATE `football_odds` SET \"   \n",
    "query_update += \" `pattern_from` = Null, \"  \n",
    "query_update += \" `pattern_only` = Null \"  \n",
    "query_update += \" WHERE leagueapi_id = \" + str(leagueapi_id) + \" \"   \n",
    "# ---------------------------------------------------------- \n",
    "mycursor.execute(query_update)\n",
    "mydb.commit()     \n",
    "# close the cursor and database connection\n",
    "mycursor.close()\n",
    "mydb.close() \n",
    "# ----------------------------------------------------------  \n",
    "# ---------------------------------------------------------- "
   ]
  }
 ],
 "metadata": {
  "kernelspec": {
   "display_name": "Python 3 (ipykernel)",
   "language": "python",
   "name": "python3"
  },
  "language_info": {
   "codemirror_mode": {
    "name": "ipython",
    "version": 3
   },
   "file_extension": ".py",
   "mimetype": "text/x-python",
   "name": "python",
   "nbconvert_exporter": "python",
   "pygments_lexer": "ipython3",
   "version": "3.9.12"
  }
 },
 "nbformat": 4,
 "nbformat_minor": 5
}
