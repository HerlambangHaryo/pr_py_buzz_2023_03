{
 "cells": [
  {
   "cell_type": "code",
   "execution_count": null,
   "id": "7c79fa0e",
   "metadata": {},
   "outputs": [],
   "source": [
    "# Import\n",
    "import mysql.connector \n",
    "# ---------------------------------------------------------- \n",
    "host=\"localhost\"\n",
    "user=\"root\" \n",
    "database=\"pr_mmbuzz_2022_06\"\n",
    "mydb = mysql.connector.connect(host=host,user=user,password=\"\",database=database)\n",
    "mycursor = mydb.cursor()\n",
    "# ---------------------------------------------------------- \n",
    "query = \"Select \"\n",
    "query += \" leagueapi_id \"\n",
    "query += \" from pattern_lists_froms \"\n",
    "query += \" group by leagueapi_id \" \n",
    "# ---------------------------------------------------------- \n",
    "mycursor = mydb.cursor()\n",
    "mycursor.execute(query)\n",
    "result =  mycursor.fetchall()\n",
    "# ----------------------------------------------------------  \n",
    "total_rows = len(result)\n",
    "print(space + \"Total Row(s) : \" + str(total_rows), flush=True) \n",
    "# ----------------------------------------------------------  \n",
    "counter = 0\n",
    "# ----------------------------------------------------------  \n",
    "space += \"__\"\n",
    "# ---------------------------------------------------------- \n",
    "for x in result:   \n",
    "    # ------------------------------------------------------ \n",
    "    leagueapi_id = str(x[0])\n",
    "    word = space \n",
    "    word += \" pre_response: \" + pre_response \n",
    "    # ------------------------------------------------------ \n",
    "    print(space + word, flush=True) "
   ]
  }
 ],
 "metadata": {
  "kernelspec": {
   "display_name": "Python 3 (ipykernel)",
   "language": "python",
   "name": "python3"
  },
  "language_info": {
   "codemirror_mode": {
    "name": "ipython",
    "version": 3
   },
   "file_extension": ".py",
   "mimetype": "text/x-python",
   "name": "python",
   "nbconvert_exporter": "python",
   "pygments_lexer": "ipython3",
   "version": "3.9.12"
  }
 },
 "nbformat": 4,
 "nbformat_minor": 5
}
