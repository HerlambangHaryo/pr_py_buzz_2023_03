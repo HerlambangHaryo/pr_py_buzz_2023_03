{
 "cells": [
  {
   "cell_type": "code",
   "execution_count": 1,
   "id": "162c6df4",
   "metadata": {},
   "outputs": [
    {
     "name": "stdout",
     "output_type": "stream",
     "text": [
      "__Select  *  from football_odds  where fixture_status in ('Match Finished', 'Match Finished Ended')  and pre_response = 2  and end_response = 2 \n",
      "____Total Row(s) : 43717\n"
     ]
    }
   ],
   "source": [
    "# Import\n",
    "import mysql.connector \n",
    "# ---------------------------------------------------------- \n",
    "# Connect to DB\n",
    "# ---------------------------------------------------------- \n",
    "space = \"__\"\n",
    "# ---------------------------------------------------------- \n",
    "host=\"localhost\"\n",
    "user=\"root\" \n",
    "database=\"pr_mmbuzz_2022_06\"\n",
    "mydb = mysql.connector.connect(host=host,user=user,password=\"\",database=database)\n",
    "mycursor = mydb.cursor()\n",
    "# ---------------------------------------------------------- \n",
    "query = \"Select \"\n",
    "query += \" * \"\n",
    "query += \" from football_odds \" \n",
    "query += \" where fixture_status in ('Match Finished', 'Match Finished Ended') \" \n",
    "query += \" and pre_response = 2 \" \n",
    "query += \" and end_response = 2 \" \n",
    "query += \" group by \" \n",
    "query += \" leagueapi_id \" \n",
    "query += \" pre_ah_pattern \" \n",
    "# ---------------------------------------------------------- \n",
    "print(space + query, flush=True) \n",
    "# ----------------------------------------------------------   \n",
    "mycursor = mydb.cursor()\n",
    "mycursor.execute(query)\n",
    "result =  mycursor.fetchall() \n",
    "# ----------------------------------------------------------     \n",
    "space += \"__\"\n",
    "total_rows = len(result)\n",
    "# ----------------------------------------------------------    \n",
    "print(space + \"Total Row(s) : \" + str(total_rows), flush=True) "
   ]
  }
 ],
 "metadata": {
  "kernelspec": {
   "display_name": "Python 3 (ipykernel)",
   "language": "python",
   "name": "python3"
  },
  "language_info": {
   "codemirror_mode": {
    "name": "ipython",
    "version": 3
   },
   "file_extension": ".py",
   "mimetype": "text/x-python",
   "name": "python",
   "nbconvert_exporter": "python",
   "pygments_lexer": "ipython3",
   "version": "3.9.12"
  }
 },
 "nbformat": 4,
 "nbformat_minor": 5
}
