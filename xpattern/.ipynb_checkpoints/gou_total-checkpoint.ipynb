{
 "cells": [
  {
   "cell_type": "code",
   "execution_count": 1,
   "id": "d8e475d4",
   "metadata": {},
   "outputs": [
    {
     "name": "stdout",
     "output_type": "stream",
     "text": [
      "__ SELECT *  FROM `bets_old`  WHERE `bet_id` = 5  and value like \"%OVer%\"  order by total asc \n",
      "____Total Row(s) : 30\n",
      "\n",
      "gou_total_05 = '' \n",
      "gou_total_075 = '' \n",
      "gou_total_10 = '' \n",
      "gou_total_125 = '' \n",
      "gou_total_15 = '' \n",
      "gou_total_175 = '' \n",
      "gou_total_20 = '' \n",
      "gou_total_225 = '' \n",
      "gou_total_25 = '' \n",
      "gou_total_275 = '' \n",
      "gou_total_30 = '' \n",
      "gou_total_325 = '' \n",
      "gou_total_35 = '' \n",
      "gou_total_375 = '' \n",
      "gou_total_40 = '' \n",
      "gou_total_425 = '' \n",
      "gou_total_45 = '' \n",
      "gou_total_475 = '' \n",
      "gou_total_50 = '' \n",
      "gou_total_525 = '' \n",
      "gou_total_55 = '' \n",
      "gou_total_575 = '' \n",
      "gou_total_60 = '' \n",
      "gou_total_625 = '' \n",
      "gou_total_65 = '' \n",
      "gou_total_675 = '' \n",
      "gou_total_70 = '' \n",
      "gou_total_75 = '' \n",
      "gou_total_85 = '' \n",
      "gou_total_95 = '' \n"
     ]
    }
   ],
   "source": [
    "# Import\n",
    "import mysql.connector \n",
    "# ---------------------------------------------------------- \n",
    "# Connect to DB\n",
    "# ---------------------------------------------------------- \n",
    "space = \"__\"\n",
    "# ---------------------------------------------------------- \n",
    "host=\"localhost\"\n",
    "user=\"root\" \n",
    "database=\"pr_mmbuzz_2022_06\"\n",
    "mydb = mysql.connector.connect(host=host,user=user,password=\"\",database=database)\n",
    "mycursor = mydb.cursor()\n",
    "# ---------------------------------------------------------- \n",
    "query = \" SELECT * \"\n",
    "# ---------------------------------------------------------- \n",
    "query += ' FROM `bets_old` '   \n",
    "query += ' WHERE `bet_id` = 5 '   \n",
    "query += ' and value like \"%OVer%\" '   \n",
    "query += ' order by total asc '   \n",
    "# ---------------------------------------------------------- \n",
    "print(space + query, flush=True) \n",
    "# ---------------------------------------------------------- \n",
    "mycursor = mydb.cursor()\n",
    "mycursor.execute(query)\n",
    "result =  mycursor.fetchall()\n",
    "# ---------------------------------------------------------- \n",
    "space += \"__\"\n",
    "# ---------------------------------------------------------- \n",
    "total_rows = len(result)\n",
    "print(space + \"Total Row(s) : \" + str(total_rows), flush=True) \n",
    "# ----------------------------------------------------------    \n",
    "print(\"\", flush=True)\n",
    "counter = 0\n",
    "# ----------------------------------------------------------  \n",
    "space += \"__\"\n",
    "# ---------------------------------------------------------- \n",
    "for x in result:   \n",
    "    # ------------------------------------------------------\n",
    "    counter        += 1\n",
    "    # ------------------------------------------------------ \n",
    "    value = str(x[3].replace(\"+\", \"plus_\").replace(\"-\", \"min_\").replace(\"Over \", \"\").replace(\".\", \"\")) \n",
    "    # ------------------------------------------------------\n",
    "    word = \"gou_total_\" + value + \" = '' \"\n",
    "    print(word, flush=True)"
   ]
  }
 ],
 "metadata": {
  "kernelspec": {
   "display_name": "Python 3 (ipykernel)",
   "language": "python",
   "name": "python3"
  },
  "language_info": {
   "codemirror_mode": {
    "name": "ipython",
    "version": 3
   },
   "file_extension": ".py",
   "mimetype": "text/x-python",
   "name": "python",
   "nbconvert_exporter": "python",
   "pygments_lexer": "ipython3",
   "version": "3.9.12"
  }
 },
 "nbformat": 4,
 "nbformat_minor": 5
}
