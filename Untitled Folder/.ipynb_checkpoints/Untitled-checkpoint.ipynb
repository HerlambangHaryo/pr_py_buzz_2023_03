{
 "cells": [
  {
   "cell_type": "code",
   "execution_count": null,
   "id": "c796dd05",
   "metadata": {},
   "outputs": [],
   "source": [
    "\n",
    "54 First 10 min Winner\n",
    "   -> Total rows : 0\n",
    "      -> Home 13.00\n",
    "      -> Draw 1.20\n",
    "      -> Away 5.00 // Man city"
   ]
  }
 ],
 "metadata": {
  "kernelspec": {
   "display_name": "Python 3 (ipykernel)",
   "language": "python",
   "name": "python3"
  },
  "language_info": {
   "codemirror_mode": {
    "name": "ipython",
    "version": 3
   },
   "file_extension": ".py",
   "mimetype": "text/x-python",
   "name": "python",
   "nbconvert_exporter": "python",
   "pygments_lexer": "ipython3",
   "version": "3.9.12"
  }
 },
 "nbformat": 4,
 "nbformat_minor": 5
}
