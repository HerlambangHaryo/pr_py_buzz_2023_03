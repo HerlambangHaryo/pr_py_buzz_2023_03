{
 "cells": [
  {
   "cell_type": "code",
   "execution_count": 1,
   "id": "578c3100",
   "metadata": {},
   "outputs": [
    {
     "name": "stdout",
     "output_type": "stream",
     "text": [
      "# -------------------------------------------------- Start at 2023-03-25 22:32:11\n",
      "  __main()\n",
      "  ____get_date()\n",
      "  ______> day0 : 2023-03-25\n",
      "  ______> day1 : 2023-03-26 22:32:11.972772\n",
      "  ________pd_get_fixtures_next_match()\n",
      "  __________Total Row(s) : 6\n",
      "  ____________[1/6] 183 - 2022 -----#Montrose 4251 - Dunfermline 1388 - 2023-03-25 16:00:00\n",
      "  ____________good_to_go: 1\n",
      "\n",
      "  ____________[2/6] 875 - 2022 -----#Cristo Atlético 9728 - Laredo 9394 - 2023-03-25 16:00:00\n",
      "  ____________good_to_go: 0\n",
      "\n",
      "  ____________[3/6] 875 - 2022 -----#Bergantiños 9383 - Burgos Promesas 9727 - 2023-03-25 16:00:00\n",
      "  ____________good_to_go: 0\n",
      "\n",
      "  ____________[4/6] 875 - 2022 -----#Guijuelo 9388 - Zamora 9418 - 2023-03-25 16:00:00\n",
      "  ______________pre_first_half_winner_draw:1.82\n",
      "  ____________good_to_go: 1\n",
      "\n",
      "  ____________[5/6] 460 - 2022 -----#Praiense 4786 - Rabo Peixe 4787 - 2023-03-25 16:00:00\n",
      "  ______________pre_first_half_winner_draw:1.97\n",
      "  ____________good_to_go: 1\n",
      "\n",
      "  ____________[6/6] 877 - 2022 -----#Saguntino 9699 - Olot 9403 - 2023-03-25 16:30:00\n",
      "  ______________pre_first_half_winner_draw:1.92\n",
      "  ____________good_to_go: 1\n",
      "\n",
      "# -------------------------------------------------- End at 2023-03-25 22:32:19\n"
     ]
    }
   ],
   "source": [
    "# Import\n",
    "from a_settings.messages import *  \n",
    "from a_models.predefine import *  \n",
    "\n",
    "def get_date(space):  \n",
    "    # -------------------------------------------------- \n",
    "    space += \"__\"\n",
    "    print(space + \"get_date()\")\n",
    "    # --------------------------------------------------   \n",
    "    today = datetime.datetime.now() \n",
    "    # -------------------------------------------------- \n",
    "    DD = datetime.timedelta(days=0)\n",
    "    preday0 = today - DD\n",
    "    day0 = preday0.strftime(\"%Y-%m-%d\")  \n",
    "    # -------------------------------------------------- \n",
    "    DD = datetime.timedelta(days=1)\n",
    "    preday1 = today + DD\n",
    "    day1 = preday1.strftime(\"%Y-%m-%d\")  \n",
    "    # -------------------------------------------------- \n",
    "    space += \"__\"\n",
    "    print(space + \"> day0 : \" +  str(day0) ) \n",
    "    print(space + \"> day1 : \" +  str(preday1) ) \n",
    "    # --------------------------------------------------   \n",
    "    pd_get_fixtures_next_match(day0, preday1, 'one', space) \n",
    "    # --------------------------------------------------  \n",
    "    \n",
    "if __name__ == '__main__': \n",
    "    # --------------------------------------------------  \n",
    "    its_start()\n",
    "    # --------------------------------------------------  \n",
    "    space = \"  __\"\n",
    "    print(space + \"main()\") \n",
    "    # --------------------------------------------------   \n",
    "    get_date(space)\n",
    "    # -------------------------------------------------- \n",
    "    its_end()  \n",
    "    ####################################################"
   ]
  }
 ],
 "metadata": {
  "kernelspec": {
   "display_name": "Python 3 (ipykernel)",
   "language": "python",
   "name": "python3"
  },
  "language_info": {
   "codemirror_mode": {
    "name": "ipython",
    "version": 3
   },
   "file_extension": ".py",
   "mimetype": "text/x-python",
   "name": "python",
   "nbconvert_exporter": "python",
   "pygments_lexer": "ipython3",
   "version": "3.9.12"
  }
 },
 "nbformat": 4,
 "nbformat_minor": 5
}
