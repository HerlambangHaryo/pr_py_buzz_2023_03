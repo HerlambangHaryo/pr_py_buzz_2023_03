{
 "cells": [
  {
   "cell_type": "code",
   "execution_count": 1,
   "id": "578c3100",
   "metadata": {},
   "outputs": [
    {
     "name": "stdout",
     "output_type": "stream",
     "text": [
      "# -------------------------------------------------- Start at 2023-04-08 17:48:53\n",
      "  __main()\n",
      "  ____get_date()\n",
      "  ______> day0 : 2023-04-08\n",
      "  ______> day1 : 2023-04-09 17:48:53.988277\n",
      "  ________pd_get_fixtures_next_match()\n",
      "  __________Total Row(s) : 4\n",
      "  ____________[1/4] 85 - 2022 -----#Greifswalder FC 16118 - Germania Halberstadt 1643 - 2023-04-08 11:00:00\n",
      "  ______________pre_first_half_winner_home:1.8\n",
      "  ______________pre_second_half_winner_home:1.62\n",
      "  ______________pre_to_win_either_half_home:1.2\n",
      "  ______________pre_result_total_goals_home_over_25:2.05\n",
      "  ______________pre_clean_sheet__away_yes:7.0\n",
      "  ____________good_to_go: 1\n",
      "\n",
      "  ____________[2/4] 85 - 2022 -----#Chemnitzer FC 1328 - Lichtenberg 9354 - 2023-04-08 11:00:00\n",
      "  ______________pre_first_half_winner_home:1.8\n",
      "  ______________pre_second_half_winner_home:1.57\n",
      "  ______________pre_to_win_either_half_home:1.2\n",
      "  ______________pre_win_to_nil_home:1.8\n",
      "  ______________pre_result_total_goals_home_over_25:2.1\n",
      "  ______________pre_both_teams_score_yes:2.5\n",
      "  ______________pre_double_chance_draw_away:3.4\n",
      "  ______________pre_to_win_either_half_away:4.5\n",
      "  ____________good_to_go: 1\n",
      "\n",
      "  ____________[3/4] 39 - 2022 -----#Manchester United 33 - Everton 45 - 2023-04-08 11:30:00\n",
      "  ______________pre_first_half_winner_home:2.0\n",
      "  ______________pre_second_half_winner_home:1.73\n",
      "  ______________pre_to_win_either_half_home:1.29\n",
      "  ____________good_to_go: 1\n",
      "\n",
      "  ____________[4/4] 179 - 2022 -----#Celtic 247 - Rangers 257 - 2023-04-08 11:30:00\n",
      "  ______________pre_second_half_winner_home:1.95\n",
      "  ______________pre_total_goals_both_teams_to_score_over_yes_25:2.0\n",
      "  ____________good_to_go: 1\n",
      "\n",
      "# -------------------------------------------------- End at 2023-04-08 17:48:59\n"
     ]
    }
   ],
   "source": [
    "# Import\n",
    "from a_settings.messages import *  \n",
    "from a_models.predefine import *  \n",
    "\n",
    "def get_date(space):  \n",
    "    # -------------------------------------------------- \n",
    "    space += \"__\"\n",
    "    print(space + \"get_date()\")\n",
    "    # --------------------------------------------------   \n",
    "    today = datetime.datetime.now() \n",
    "    # -------------------------------------------------- \n",
    "    DD = datetime.timedelta(days=0)\n",
    "    preday0 = today - DD\n",
    "    day0 = preday0.strftime(\"%Y-%m-%d\")  \n",
    "    # -------------------------------------------------- \n",
    "    DD = datetime.timedelta(days=1)\n",
    "    preday1 = today + DD\n",
    "    day1 = preday1.strftime(\"%Y-%m-%d\")  \n",
    "    # -------------------------------------------------- \n",
    "    space += \"__\"\n",
    "    print(space + \"> day0 : \" +  str(day0) ) \n",
    "    print(space + \"> day1 : \" +  str(preday1) ) \n",
    "    # --------------------------------------------------   \n",
    "    pd_get_fixtures_next_match(day0, preday1, 'one', space) \n",
    "    # --------------------------------------------------  \n",
    "    \n",
    "if __name__ == '__main__': \n",
    "    # --------------------------------------------------  \n",
    "    its_start()\n",
    "    # --------------------------------------------------  \n",
    "    space = \"  __\"\n",
    "    print(space + \"main()\") \n",
    "    # --------------------------------------------------   \n",
    "    get_date(space)\n",
    "    # -------------------------------------------------- \n",
    "    its_end()  \n",
    "    ####################################################"
   ]
  }
 ],
 "metadata": {
  "kernelspec": {
   "display_name": "Python 3 (ipykernel)",
   "language": "python",
   "name": "python3"
  },
  "language_info": {
   "codemirror_mode": {
    "name": "ipython",
    "version": 3
   },
   "file_extension": ".py",
   "mimetype": "text/x-python",
   "name": "python",
   "nbconvert_exporter": "python",
   "pygments_lexer": "ipython3",
   "version": "3.9.12"
  }
 },
 "nbformat": 4,
 "nbformat_minor": 5
}
