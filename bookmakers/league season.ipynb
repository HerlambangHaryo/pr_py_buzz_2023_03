{
 "cells": [
  {
   "cell_type": "code",
   "execution_count": 51,
   "metadata": {},
   "outputs": [
    {
     "name": "stdout",
     "output_type": "stream",
     "text": [
      "# -------------------------------------------------- Start at 2023-09-03 09:57:55\n",
      "  __main()\n",
      "  ______acb_controll_match_update()\n",
      "  ________aa_check_acccount()\n",
      "  __________API api4@ariondigitalmedia.com counter is 30\n",
      "  __________APIkey: 03bea24719msh05aea1e5cc15e89p10ac26jsne1f972cc6037\n",
      "  ________aa_check_acccount()\n",
      "  ________aa_update_counter()\n",
      "  ________acb_response_odds()\n",
      "  __________league : 497\n",
      "  __________season : 2023\n",
      "  ____________Total API Response(s) : 0\n",
      "# -------------------------------------------------- End at 2023-09-03 09:57:57\n"
     ]
    }
   ],
   "source": [
    "# Import \n",
    "import sys\n",
    "sys.path.append('../')\n",
    "\n",
    "from a_settings.messages import *   \n",
    "from a_models.date import *   \n",
    "from a_models.api_check_bookmakers import *    \n",
    "     \n",
    "if __name__ == '__main__': \n",
    "    # --------------------------------------------------  \n",
    "    its_start()\n",
    "    # --------------------------------------------------  \n",
    "    space = \"  __\"\n",
    "    print(space + \"main()\", flush=True)  \n",
    "    # --------------------------------------------------    \n",
    "    space += \"__\" \n",
    "    # --------------------------------------------------   \n",
    "    leagueapi_id    = input(space + \"Enter your leagueapi id :  \")  \n",
    "    # season          = input(space + \"Enter your leagueapi id :  \") \n",
    "    season          = 2023\n",
    "    # --------------------------------------------------   \n",
    "    DICT = { \n",
    "        'league' : leagueapi_id,\n",
    "        'season' : season, \n",
    "    } \n",
    "    # --------------------------------------------------  \n",
    "    PREP_ = \"\"\n",
    "    # -------------------------------------------------- \n",
    "    acb_controll_match_update(DICT, PREP_, space)    \n",
    "    # --------------------------------------------------  \n",
    "    its_end()  \n",
    "    ####################################################"
   ]
  }
 ],
 "metadata": {
  "kernelspec": {
   "display_name": "base",
   "language": "python",
   "name": "python3"
  },
  "language_info": {
   "codemirror_mode": {
    "name": "ipython",
    "version": 3
   },
   "file_extension": ".py",
   "mimetype": "text/x-python",
   "name": "python",
   "nbconvert_exporter": "python",
   "pygments_lexer": "ipython3",
   "version": "3.9.12"
  },
  "orig_nbformat": 4
 },
 "nbformat": 4,
 "nbformat_minor": 2
}
