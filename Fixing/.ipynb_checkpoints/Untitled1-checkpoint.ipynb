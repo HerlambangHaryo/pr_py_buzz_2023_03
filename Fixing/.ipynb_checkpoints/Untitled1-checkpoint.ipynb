{
 "cells": [
  {
   "cell_type": "code",
   "execution_count": null,
   "id": "132a7ef5",
   "metadata": {},
   "outputs": [],
   "source": [
    "14 \tTeam To Score First\n",
    "15 \tTeam To Score Last\n",
    "75 \tLast Corner\n",
    "76 \tFirst Corner\n",
    "97 \tFirst Goal Method\n",
    "99 \tTo Score A Penalty\n",
    "100 To Miss A Penalty"
   ]
  }
 ],
 "metadata": {
  "kernelspec": {
   "display_name": "Python 3 (ipykernel)",
   "language": "python",
   "name": "python3"
  },
  "language_info": {
   "codemirror_mode": {
    "name": "ipython",
    "version": 3
   },
   "file_extension": ".py",
   "mimetype": "text/x-python",
   "name": "python",
   "nbconvert_exporter": "python",
   "pygments_lexer": "ipython3",
   "version": "3.9.12"
  }
 },
 "nbformat": 4,
 "nbformat_minor": 5
}
