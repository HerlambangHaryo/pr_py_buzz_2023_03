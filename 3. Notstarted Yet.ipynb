{
 "cells": [
  {
   "cell_type": "code",
   "execution_count": 1,
   "id": "ce8acc21",
   "metadata": {},
   "outputs": [
    {
     "name": "stdout",
     "output_type": "stream",
     "text": [
      "# -------------------------------------------------- Start at 2023-03-16 14:54:25\n",
      "  __main()\n",
      "  ______get_today()\n",
      "  ________date_diff : 0\n",
      "  ________today_raw : 2023-03-16 14:54:25.840672\n",
      "  ______get_today()\n",
      "  ________date_diff : 0\n",
      "  ________today_raw : 2023-03-16 14:54:25.842676\n",
      "  ______get_today()\n",
      "  ________date_diff : 1\n",
      "  ________today_raw : 2023-03-17 14:54:25.842676\n",
      "  ______get_today()\n",
      "  ________date_diff : 1\n",
      "  ________today_raw : 2023-03-17 14:54:25.847695\n",
      "  ______ff_get_fixtures_not_started_yet()\n",
      "  ________Select   teams_home_id,  teams_away_id,  leagueapi_id,  season,  fixtureapi_id,  teams_home,  teams_away,  date  from football_fixtures  where date >= '2023-03-16'  and date <= '2023-03-17'  and fixture_status like 'Not Started Yet'  and deleted_at is null  order by date asc  \n",
      "  ________Total Row(s) : 0\n",
      "  __________Are you sure want to continue? :  yes\n",
      "# -------------------------------------------------- End at 2023-03-16 14:54:33\n"
     ]
    }
   ],
   "source": [
    "# Import\n",
    "from a_settings.messages import *   \n",
    "from a_models.football_fixtures import *   \n",
    "    \n",
    "def get_today(date_diff, space): \n",
    "    # ---------------------------------------------------------- \n",
    "    space += \"__\" \n",
    "    # ---------------------------------------------------------- \n",
    "    print(space + \"get_today()\") \n",
    "    # ---------------------------------------------------------- \n",
    "    space += \"__\" \n",
    "    # ---------------------------------------------------------- \n",
    "    param = \"date_diff : \" + str(date_diff)\n",
    "    print(space + param, flush=True)\n",
    "    # ----------------------------------------------------------\n",
    "    today = datetime.datetime.now()\n",
    "    DD = datetime.timedelta(days=date_diff)\n",
    "    today_raw = today + DD\n",
    "    # ---------------------------------------------------------- \n",
    "    param = \"today_raw : \" + str(today_raw)\n",
    "    print(space + param, flush=True)\n",
    "    # ---------------------------------------------------------- \n",
    "    return today_raw\n",
    "    # ---------------------------------------------------------- \n",
    "\n",
    "if __name__ == '__main__': \n",
    "    # --------------------------------------------------  \n",
    "    its_start()\n",
    "    # --------------------------------------------------  \n",
    "    space = \"  __\"\n",
    "    print(space + \"main()\", flush=True)  \n",
    "    # --------------------------------------------------    \n",
    "    space += \"__\" \n",
    "    # --------------------------------------------------   \n",
    "    date_0         = get_today(0, space).strftime(\"%Y-%m-%d\")\n",
    "    date_raw       = get_today(0, space)  \n",
    "    # --------------------------------------------------   \n",
    "    date_1         = get_today(1, space).strftime(\"%Y-%m-%d\")\n",
    "    date_1_raw       = get_today(1, space)  \n",
    "    # --------------------------------------------------   \n",
    "    ff_get_fixtures_not_started_yet(date_0, date_1, space)\n",
    "    # --------------------------------------------------   \n",
    "    its_end()  \n",
    "    ####################################################"
   ]
  }
 ],
 "metadata": {
  "kernelspec": {
   "display_name": "Python 3 (ipykernel)",
   "language": "python",
   "name": "python3"
  },
  "language_info": {
   "codemirror_mode": {
    "name": "ipython",
    "version": 3
   },
   "file_extension": ".py",
   "mimetype": "text/x-python",
   "name": "python",
   "nbconvert_exporter": "python",
   "pygments_lexer": "ipython3",
   "version": "3.9.12"
  }
 },
 "nbformat": 4,
 "nbformat_minor": 5
}
