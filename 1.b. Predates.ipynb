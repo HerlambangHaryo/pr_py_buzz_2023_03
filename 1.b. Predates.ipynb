{
 "cells": [
  {
   "cell_type": "code",
   "execution_count": null,
   "metadata": {},
   "outputs": [],
   "source": [
    "# Import\n",
    "from a_settings.messages import *  \n",
    "from a_models.date import *   \n",
    "from a_models.football_fixtures import *   \n",
    "  \n",
    "if __name__ == '__main__': \n",
    "    # --------------------------------------------------  \n",
    "    its_start()\n",
    "    # --------------------------------------------------  \n",
    "    space = \"  __\"\n",
    "    print(space + \"main()\") \n",
    "    # --------------------------------------------------   \n",
    "    day1         = get_today_adds(0, space).strftime(\"%Y-%m-%d\") \n",
    "    # --------------------------------------------------    \n",
    "    day2         = get_today_adds(1, space).strftime(\"%Y-%m-%d\")  \n",
    "    # -------------------------------------------------- \n",
    "    ff_controll_predates(day1, day2, space)\n",
    "    # -------------------------------------------------- \n",
    "    its_end()  \n",
    "    ####################################################"
   ]
  },
  {
   "cell_type": "code",
   "execution_count": null,
   "metadata": {},
   "outputs": [],
   "source": [
    "# Import\n",
    "from a_settings.messages import *  \n",
    "from a_models.date import *   \n",
    "from a_models.football_fixtures import *   \n",
    "  \n",
    "if __name__ == '__main__': \n",
    "    # --------------------------------------------------  \n",
    "    its_start()\n",
    "    # --------------------------------------------------  \n",
    "    space = \"  __\"\n",
    "    print(space + \"main()\") \n",
    "    # --------------------------------------------------   \n",
    "    day1         = get_today_adds(0, space).strftime(\"%Y-%m-%d\") \n",
    "    # --------------------------------------------------    \n",
    "    day2         = get_today_adds(1, space).strftime(\"%Y-%m-%d\")   \n",
    "    # -------------------------------------------------- \n",
    "    ff_controll_predates_time_to_be_defined(day1, day2, space)\n",
    "    # -------------------------------------------------- \n",
    "    its_end()  \n",
    "    ####################################################"
   ]
  },
  {
   "cell_type": "code",
   "execution_count": null,
   "metadata": {},
   "outputs": [],
   "source": [
    "# Import\n",
    "from a_settings.messages import *  \n",
    "from a_models.date import *  \n",
    "from a_models.football_fixtures import *  \n",
    "  \n",
    "if __name__ == '__main__': \n",
    "    # --------------------------------------------------  \n",
    "    its_start()\n",
    "    # --------------------------------------------------  \n",
    "    space = \"  __\"\n",
    "    print(space + \"main()\") \n",
    "    # --------------------------------------------------   \n",
    "    day1         = get_today_subs(7, space).strftime(\"%Y-%m-%d\") \n",
    "    # --------------------------------------------------    \n",
    "    day2         = get_today_subs(1, space).strftime(\"%Y-%m-%d\") \n",
    "    # --------------------------------------------------    \n",
    "    today       = get_today_adds(0, space).strftime(\"%Y-%m-%d\") \n",
    "    # --------------------------------------------------    \n",
    "    ff_not_started_fixture(day1, day2, today, space) \n",
    "    # -------------------------------------------------- \n",
    "    its_end()  \n",
    "    ####################################################"
   ]
  },
  {
   "cell_type": "code",
   "execution_count": null,
   "metadata": {},
   "outputs": [],
   "source": [
    "# Import\n",
    "from a_settings.messages import *  \n",
    "from a_models.date import *  \n",
    "from a_models.football_fixtures import *  \n",
    "  \n",
    "if __name__ == '__main__': \n",
    "    # --------------------------------------------------  \n",
    "    its_start()\n",
    "    # --------------------------------------------------  \n",
    "    space = \"  __\"\n",
    "    print(space + \"main()\") \n",
    "    # --------------------------------------------------   \n",
    "    day1         = get_today_subs(7, space).strftime(\"%Y-%m-%d\") \n",
    "    # --------------------------------------------------    \n",
    "    day2         = get_today_subs(1, space).strftime(\"%Y-%m-%d\") \n",
    "    # --------------------------------------------------    \n",
    "    today       = get_today_adds(0, space).strftime(\"%Y-%m-%d\") \n",
    "    # --------------------------------------------------    \n",
    "    ff_not_started_league_group(day1, day2, today, space) \n",
    "    # -------------------------------------------------- \n",
    "    its_end()  \n",
    "    ####################################################"
   ]
  }
 ],
 "metadata": {
  "kernelspec": {
   "display_name": "base",
   "language": "python",
   "name": "python3"
  },
  "language_info": {
   "codemirror_mode": {
    "name": "ipython",
    "version": 3
   },
   "file_extension": ".py",
   "mimetype": "text/x-python",
   "name": "python",
   "nbconvert_exporter": "python",
   "pygments_lexer": "ipython3",
   "version": "3.9.12"
  },
  "orig_nbformat": 4
 },
 "nbformat": 4,
 "nbformat_minor": 2
}
