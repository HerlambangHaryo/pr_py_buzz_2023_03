{
 "cells": [
  {
   "cell_type": "code",
   "execution_count": 1,
   "id": "f665b16c",
   "metadata": {},
   "outputs": [],
   "source": [
    "import requests\n",
    "\n",
    "url = \"https://api-football-v1.p.rapidapi.com/v3/players/squads\"\n",
    "\n",
    "querystring = {\"team\":\"33\"}\n",
    "\n",
    "headers = {\n",
    "\t\"X-RapidAPI-Key\": \"4fc723e268msh911a44c8ddfe5c9p1c8231jsn19121830f544\",\n",
    "\t\"X-RapidAPI-Host\": \"api-football-v1.p.rapidapi.com\"\n",
    "}\n",
    "\n",
    "response = requests.get(url, headers=headers, params=querystring)\n"
   ]
  },
  {
   "cell_type": "code",
   "execution_count": 2,
   "id": "dd2659e4",
   "metadata": {},
   "outputs": [
    {
     "name": "stdout",
     "output_type": "stream",
     "text": [
      "{'get': 'players/squads', 'parameters': {'team': '33'}, 'errors': [], 'results': 1, 'paging': {'current': 1, 'total': 1}, 'response': [{'team': {'id': 33, 'name': 'Manchester United', 'logo': 'https://media-3.api-sports.io/football/teams/33.png'}, 'players': [{'id': 2931, 'name': 'T. Heaton', 'age': 37, 'number': 22, 'position': 'Goalkeeper', 'photo': 'https://media-1.api-sports.io/football/players/2931.png'}, {'id': 526, 'name': 'A. Onana', 'age': 27, 'number': None, 'position': 'Goalkeeper', 'photo': 'https://media-1.api-sports.io/football/players/526.png'}, {'id': 138804, 'name': 'M. Kovář', 'age': 23, 'number': 40, 'position': 'Goalkeeper', 'photo': 'https://media-1.api-sports.io/football/players/138804.png'}, {'id': 378981, 'name': 'E. Harrison', 'age': None, 'number': None, 'position': 'Goalkeeper', 'photo': 'https://media-1.api-sports.io/football/players/378981.png'}, {'id': 19088, 'name': 'D. Henderson', 'age': 26, 'number': None, 'position': 'Goalkeeper', 'photo': 'https://media-1.api-sports.io/football/players/19088.png'}, {'id': 284382, 'name': 'Dermot William Mee', 'age': 21, 'number': None, 'position': 'Goalkeeper', 'photo': 'https://media-2.api-sports.io/football/players/284382.png'}, {'id': 284361, 'name': 'R. Vítek', 'age': 20, 'number': None, 'position': 'Goalkeeper', 'photo': 'https://media-2.api-sports.io/football/players/284361.png'}, {'id': 305727, 'name': 'Tom Wooster', 'age': 17, 'number': None, 'position': 'Goalkeeper', 'photo': 'https://media-2.api-sports.io/football/players/305727.png'}, {'id': 889, 'name': 'V. Lindelöf', 'age': 29, 'number': 2, 'position': 'Defender', 'photo': 'https://media-3.api-sports.io/football/players/889.png'}, {'id': 2935, 'name': 'H. Maguire', 'age': 30, 'number': 5, 'position': 'Defender', 'photo': 'https://media-3.api-sports.io/football/players/2935.png'}, {'id': 2467, 'name': 'L. Martínez', 'age': 25, 'number': 6, 'position': 'Defender', 'photo': 'https://media-2.api-sports.io/football/players/2467.png'}, {'id': 37145, 'name': 'T. Malacia', 'age': 24, 'number': 12, 'position': 'Defender', 'photo': 'https://media-2.api-sports.io/football/players/37145.png'}, {'id': 742, 'name': 'R. Varane', 'age': 30, 'number': 19, 'position': 'Defender', 'photo': 'https://media-3.api-sports.io/football/players/742.png'}, {'id': 886, 'name': 'Diogo Dalot', 'age': 24, 'number': 20, 'position': 'Defender', 'photo': 'https://media-1.api-sports.io/football/players/886.png'}, {'id': 891, 'name': 'L. Shaw', 'age': 28, 'number': 23, 'position': 'Defender', 'photo': 'https://media-3.api-sports.io/football/players/891.png'}, {'id': 18772, 'name': 'J. Evans', 'age': 35, 'number': None, 'position': 'Defender', 'photo': 'https://media-3.api-sports.io/football/players/18772.png'}, {'id': 18846, 'name': 'A. Wan-Bissaka', 'age': 26, 'number': 29, 'position': 'Defender', 'photo': 'https://media-1.api-sports.io/football/players/18846.png'}, {'id': 138806, 'name': 'B. Williams', 'age': 23, 'number': 33, 'position': 'Defender', 'photo': 'https://media-3.api-sports.io/football/players/138806.png'}, {'id': 153429, 'name': 'T. Mengi', 'age': 21, 'number': None, 'position': 'Defender', 'photo': 'https://media-2.api-sports.io/football/players/153429.png'}, {'id': 288106, 'name': 'Marc Jurado', 'age': 19, 'number': 63, 'position': 'Defender', 'photo': 'https://media-3.api-sports.io/football/players/288106.png'}, {'id': 284363, 'name': 'R. Bennett', 'age': 20, 'number': 66, 'position': 'Defender', 'photo': 'https://media-1.api-sports.io/football/players/284363.png'}, {'id': 330636, 'name': 'Sonny Aljofree', 'age': 18, 'number': None, 'position': 'Defender', 'photo': 'https://media-1.api-sports.io/football/players/330636.png'}, {'id': 885, 'name': 'E. Bailly', 'age': 29, 'number': 3, 'position': 'Defender', 'photo': 'https://media-3.api-sports.io/football/players/885.png'}, {'id': 284300, 'name': 'Álvaro Fernández', 'age': 20, 'number': None, 'position': 'Defender', 'photo': 'https://media-1.api-sports.io/football/players/284300.png'}, {'id': 288112, 'name': 'Willy Kambwala Ndengushi', 'age': 18, 'number': None, 'position': 'Defender', 'photo': 'https://media-1.api-sports.io/football/players/288112.png'}, {'id': 282130, 'name': 'Logan Pye', 'age': 19, 'number': None, 'position': 'Defender', 'photo': 'https://media-2.api-sports.io/football/players/282130.png'}, {'id': 19220, 'name': 'M. Mount', 'age': 24, 'number': None, 'position': 'Midfielder', 'photo': 'https://media-1.api-sports.io/football/players/19220.png'}, {'id': 1485, 'name': 'Bruno Fernandes', 'age': 29, 'number': 8, 'position': 'Midfielder', 'photo': 'https://media-2.api-sports.io/football/players/1485.png'}, {'id': 174, 'name': 'C. Eriksen', 'age': 31, 'number': 14, 'position': 'Midfielder', 'photo': 'https://media-2.api-sports.io/football/players/174.png'}, {'id': 905, 'name': 'Fred', 'age': 30, 'number': 17, 'position': 'Midfielder', 'photo': 'https://media-2.api-sports.io/football/players/905.png'}, {'id': 747, 'name': 'Casemiro', 'age': 31, 'number': 18, 'position': 'Midfielder', 'photo': 'https://media-2.api-sports.io/football/players/747.png'}, {'id': 70078, 'name': 'F. Pellistri', 'age': 22, 'number': 28, 'position': 'Midfielder', 'photo': 'https://media-2.api-sports.io/football/players/70078.png'}, {'id': 547, 'name': 'D. van de Beek', 'age': 26, 'number': 34, 'position': 'Midfielder', 'photo': 'https://media-2.api-sports.io/football/players/547.png'}, {'id': 903, 'name': 'S. McTominay', 'age': 27, 'number': 39, 'position': 'Midfielder', 'photo': 'https://media-1.api-sports.io/football/players/903.png'}, {'id': 180560, 'name': 'H. Mejbri', 'age': 20, 'number': None, 'position': 'Midfielder', 'photo': 'https://media-1.api-sports.io/football/players/180560.png'}, {'id': 284322, 'name': 'K. Mainoo', 'age': 18, 'number': 73, 'position': 'Midfielder', 'photo': 'https://media-2.api-sports.io/football/players/284322.png'}, {'id': 284400, 'name': 'Tobias Christopher Collyer', 'age': 19, 'number': None, 'position': 'Midfielder', 'photo': 'https://media-1.api-sports.io/football/players/284400.png'}, {'id': 284242, 'name': 'O. Forson', 'age': 19, 'number': None, 'position': 'Midfielder', 'photo': 'https://media-2.api-sports.io/football/players/284242.png'}, {'id': 303010, 'name': 'Daniel Gore', 'age': 19, 'number': None, 'position': 'Midfielder', 'photo': 'https://media-2.api-sports.io/football/players/303010.png'}, {'id': 216770, 'name': 'I. Hansen-Aarøen', 'age': 19, 'number': None, 'position': 'Midfielder', 'photo': 'https://media-3.api-sports.io/football/players/216770.png'}, {'id': 303016, 'name': 'M. Oyedele', 'age': 19, 'number': None, 'position': 'Midfielder', 'photo': 'https://media-1.api-sports.io/football/players/303016.png'}, {'id': 908, 'name': 'A. Martial', 'age': 28, 'number': 9, 'position': 'Attacker', 'photo': 'https://media-3.api-sports.io/football/players/908.png'}, {'id': 909, 'name': 'M. Rashford', 'age': 26, 'number': 10, 'position': 'Attacker', 'photo': 'https://media-3.api-sports.io/football/players/909.png'}, {'id': 157997, 'name': 'A. Diallo', 'age': 21, 'number': None, 'position': 'Attacker', 'photo': 'https://media-1.api-sports.io/football/players/157997.png'}, {'id': 9971, 'name': 'Antony', 'age': 23, 'number': 21, 'position': 'Attacker', 'photo': 'https://media-1.api-sports.io/football/players/9971.png'}, {'id': 18, 'name': 'J. Sancho', 'age': 23, 'number': 25, 'position': 'Attacker', 'photo': 'https://media-3.api-sports.io/football/players/18.png'}, {'id': 163054, 'name': 'S. Shoretire', 'age': 19, 'number': 47, 'position': 'Attacker', 'photo': 'https://media-3.api-sports.io/football/players/163054.png'}, {'id': 284324, 'name': 'A. Garnacho', 'age': 19, 'number': 49, 'position': 'Attacker', 'photo': 'https://media-3.api-sports.io/football/players/284324.png'}, {'id': 282133, 'name': 'J. Hugill', 'age': 20, 'number': None, 'position': 'Attacker', 'photo': 'https://media-2.api-sports.io/football/players/282133.png'}, {'id': 282136, 'name': 'Noam Fritz Emeran', 'age': 21, 'number': None, 'position': 'Attacker', 'photo': 'https://media-2.api-sports.io/football/players/282136.png'}, {'id': 897, 'name': 'M. Greenwood', 'age': 22, 'number': None, 'position': 'Attacker', 'photo': 'https://media-3.api-sports.io/football/players/897.png'}, {'id': 288107, 'name': 'C. McNeill', 'age': 20, 'number': None, 'position': 'Attacker', 'photo': 'https://media-3.api-sports.io/football/players/288107.png'}, {'id': 284241, 'name': 'José Mateo Mejía Piedrahita', 'age': 19, 'number': None, 'position': 'Attacker', 'photo': 'https://media-1.api-sports.io/football/players/284241.png'}, {'id': 288006, 'name': 'R. Højlund', 'age': 20, 'number': None, 'position': 'Attacker', 'photo': 'https://media-2.api-sports.io/football/players/288006.png'}]}]}\n"
     ]
    }
   ],
   "source": [
    "\n",
    "print(response.json())"
   ]
  }
 ],
 "metadata": {
  "kernelspec": {
   "display_name": "Python 3 (ipykernel)",
   "language": "python",
   "name": "python3"
  },
  "language_info": {
   "codemirror_mode": {
    "name": "ipython",
    "version": 3
   },
   "file_extension": ".py",
   "mimetype": "text/x-python",
   "name": "python",
   "nbconvert_exporter": "python",
   "pygments_lexer": "ipython3",
   "version": "3.9.12"
  }
 },
 "nbformat": 4,
 "nbformat_minor": 5
}
